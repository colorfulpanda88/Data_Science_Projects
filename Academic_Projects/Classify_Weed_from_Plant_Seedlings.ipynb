{
 "cells": [
  {
   "cell_type": "code",
   "execution_count": 1,
   "metadata": {
    "colab": {
     "base_uri": "https://localhost:8080/",
     "height": 35
    },
    "colab_type": "code",
    "id": "QOuYcn06iGnE",
    "outputId": "2f74f8e5-1210-4f1d-be30-ff3a55b897f9"
   },
   "outputs": [
    {
     "name": "stdout",
     "output_type": "stream",
     "text": [
      "Drive already mounted at /content/gdrive; to attempt to forcibly remount, call drive.mount(\"/content/gdrive\", force_remount=True).\n"
     ]
    }
   ],
   "source": [
    "# mount google drive\n",
    "from google.colab import drive\n",
    "drive.mount('/content/gdrive')"
   ]
  },
  {
   "cell_type": "code",
   "execution_count": 0,
   "metadata": {
    "colab": {},
    "colab_type": "code",
    "id": "iez5eWwjcW8f"
   },
   "outputs": [],
   "source": [
    "# unziping data downloaded from kaggle\n",
    "#import os\n",
    "#os.chdir('gdrive/My Drive')  #change dir\n",
    "#!mkdir cnn  #create a directory named train/\n",
    "#!unzip -q train.zip -d cnn/ #unzip data in train/\n",
    "#!unzip -q test.zip -d cnn/  #unzip data in test/"
   ]
  },
  {
   "cell_type": "code",
   "execution_count": 3,
   "metadata": {
    "colab": {
     "base_uri": "https://localhost:8080/",
     "height": 35
    },
    "colab_type": "code",
    "id": "Yh9xE--ggwLw",
    "outputId": "7aa42cdc-e741-4910-b159-51a5c31697d1"
   },
   "outputs": [
    {
     "name": "stderr",
     "output_type": "stream",
     "text": [
      "Using TensorFlow backend.\n"
     ]
    }
   ],
   "source": [
    "# necessary imports\n",
    "import numpy as np \n",
    "import pandas as pd\n",
    "import matplotlib.pyplot as plt\n",
    "import math\n",
    "import cv2\n",
    "import glob # FILE OPERATIONS\n",
    "import itertools\n",
    "import tensorflow as tf\n",
    "\n",
    "from keras.utils import np_utils\n",
    "from keras.preprocessing.image import ImageDataGenerator\n",
    "from keras.models import Sequential\n",
    "from keras.layers import Dense\n",
    "from keras.layers import Dropout\n",
    "from keras.layers import Flatten\n",
    "from keras.layers.convolutional import Conv2D\n",
    "from keras.layers.convolutional import MaxPooling2D\n",
    "from keras.layers import BatchNormalization\n",
    "from keras.callbacks import ModelCheckpoint,ReduceLROnPlateau,CSVLogger\n",
    "\n",
    "from sklearn import preprocessing\n",
    "from sklearn.model_selection import train_test_split\n",
    "from sklearn.metrics import confusion_matrix\n",
    "\n",
    "\n",
    "scale = 64\n",
    "seed = 7\n"
   ]
  },
  {
   "cell_type": "code",
   "execution_count": 4,
   "metadata": {
    "colab": {
     "base_uri": "https://localhost:8080/",
     "height": 35
    },
    "colab_type": "code",
    "id": "_mRUa15PjE61",
    "outputId": "4f471cf4-72ad-45e7-ae4c-4a8008fd265e"
   },
   "outputs": [
    {
     "name": "stdout",
     "output_type": "stream",
     "text": [
      "number of images in train folder 4750\n"
     ]
    }
   ],
   "source": [
    "# getting training images and resizing\n",
    "training_images = glob.glob(\"/content/gdrive/My Drive/cnn/train/*/*png\")\n",
    "test_images = glob.glob(\"/content/gdrive/My Drive/cnn/test/*png\")\n",
    "\n",
    "train_set = []\n",
    "train_labels = []\n",
    "\n",
    "test_set = []\n",
    "test_labels = []\n",
    "\n",
    "print(\"number of images in train folder\",len(training_images))\n",
    "count = 1\n",
    "\n",
    "for training_image in training_images:\n",
    "    train_set.append(cv2.resize(cv2.imread(training_image),(scale,scale)))\n",
    "    train_labels.append(training_image.split('/')[-2])\n",
    "    count=count+1\n",
    "\n",
    "count = 1\n",
    "for test_image in test_images:\n",
    "    test_set.append(cv2.resize(cv2.imread(test_image),(scale,scale)))\n",
    "    test_labels.append(test_image.split('/')[-2])\n",
    "    count=count+1\n",
    "\n",
    "train_set = np.asarray(train_set)\n",
    "train_labels = pd.DataFrame(train_labels)\n",
    "\n",
    "test_set = np.asarray(test_set)\n",
    "test_labels = pd.DataFrame(test_labels)"
   ]
  },
  {
   "cell_type": "code",
   "execution_count": 5,
   "metadata": {
    "colab": {
     "base_uri": "https://localhost:8080/",
     "height": 423
    },
    "colab_type": "code",
    "id": "USEXNdG-k96B",
    "outputId": "56a6eabd-1281-4ba0-a84b-04743806d16e"
   },
   "outputs": [
    {
     "name": "stdout",
     "output_type": "stream",
     "text": [
      "12\n"
     ]
    },
    {
     "data": {
      "text/plain": [
       "<matplotlib.axes._subplots.AxesSubplot at 0x7f24afba7fd0>"
      ]
     },
     "execution_count": 5,
     "metadata": {
      "tags": []
     },
     "output_type": "execute_result"
    },
    {
     "data": {
      "image/png": "[encoded data removed]",
      "text/plain": [
       "<Figure size 432x288 with 1 Axes>"
      ]
     },
     "metadata": {
      "tags": []
     },
     "output_type": "display_data"
    }
   ],
   "source": [
    "# getting training classes\n",
    "labels = preprocessing.LabelEncoder()\n",
    "labels.fit(train_labels[0])\n",
    "# Converting a class vector to binary class matrix.\n",
    "encodedlabels = labels.transform(train_labels[0])\n",
    "categorical_labels = np_utils.to_categorical(encodedlabels)\n",
    "classes = categorical_labels.shape[1]\n",
    "print(str(classes))\n",
    "train_labels[0].value_counts().plot(kind='bar')"
   ]
  },
  {
   "cell_type": "markdown",
   "metadata": {
    "colab_type": "text",
    "id": "QKyE-gSFYSNh"
   },
   "source": [
    "## Divide the data set into Train and validation data sets"
   ]
  },
  {
   "cell_type": "code",
   "execution_count": 0,
   "metadata": {
    "colab": {},
    "colab_type": "code",
    "id": "-QpfWp3Zwjxd"
   },
   "outputs": [],
   "source": [
    "# normalizing the data for train and test to be between 0 -1\n",
    "train_set = train_set/255\n",
    "\n",
    "# train, test  split\n",
    "x_train,x_test,y_train,y_test = train_test_split(train_set,categorical_labels,test_size=0.2,random_state=seed)"
   ]
  },
  {
   "cell_type": "markdown",
   "metadata": {
    "colab_type": "text",
    "id": "MTACSLtpY2Fd"
   },
   "source": [
    "## Initialize & build the model\n",
    "### Convolutional Neural Network"
   ]
  },
  {
   "cell_type": "code",
   "execution_count": 7,
   "metadata": {
    "colab": {
     "base_uri": "https://localhost:8080/",
     "height": 92
    },
    "colab_type": "code",
    "id": "Y-IZSSQgpJ71",
    "outputId": "f3c222a7-ea85-4963-a152-e42b3dfa72bd"
   },
   "outputs": [
    {
     "name": "stdout",
     "output_type": "stream",
     "text": [
      "WARNING:tensorflow:From /usr/local/lib/python3.6/dist-packages/tensorflow_core/python/ops/resource_variable_ops.py:1630: calling BaseResourceVariable.__init__ (from tensorflow.python.ops.resource_variable_ops) with constraint is deprecated and will be removed in a future version.\n",
      "Instructions for updating:\n",
      "If using Keras pass *_constraint arguments to layers.\n"
     ]
    }
   ],
   "source": [
    "np.random.seed(seed)\n",
    "\n",
    "cnn_model = tf.keras.Sequential()\n",
    "tf.keras.initializers.he_normal(seed=seed)\n",
    "\n",
    "cnn_model.add(tf.keras.layers.Conv2D(filters=64, kernel_size=(3,3), input_shape=(scale, scale, 3), activation='relu'))\n",
    "#Normalize the data\n",
    "cnn_model.add(tf.keras.layers.BatchNormalization())\n",
    "# adding cnn layer\n",
    "cnn_model.add(tf.keras.layers.Conv2D(filters=64, kernel_size=(3,3), activation='relu'))\n",
    "# adding max pool layer\n",
    "cnn_model.add(tf.keras.layers.MaxPooling2D((2, 2)))\n",
    "#normalizing data\n",
    "cnn_model.add(tf.keras.layers.BatchNormalization())\n",
    "# adding dropout layer\n",
    "cnn_model.add(tf.keras.layers.Dropout(0.1))\n",
    "\n",
    "cnn_model.add(tf.keras.layers.Conv2D(filters=128, kernel_size=(3,3), activation='relu'))\n",
    "cnn_model.add(tf.keras.layers.BatchNormalization())\n",
    "cnn_model.add(tf.keras.layers.Conv2D(filters=128, kernel_size=(3,3), activation='relu'))\n",
    "cnn_model.add(tf.keras.layers.MaxPooling2D((2, 2)))\n",
    "cnn_model.add(tf.keras.layers.BatchNormalization())\n",
    "cnn_model.add(tf.keras.layers.Dropout(0.1))\n",
    "\n",
    "cnn_model.add(tf.keras.layers.Conv2D(filters=256, kernel_size=(3,3), activation='relu'))\n",
    "cnn_model.add(tf.keras.layers.BatchNormalization())\n",
    "cnn_model.add(tf.keras.layers.Conv2D(filters=256, kernel_size=(3,3), activation='relu'))\n",
    "cnn_model.add(tf.keras.layers.MaxPooling2D((2, 2)))\n",
    "cnn_model.add(tf.keras.layers.BatchNormalization())\n",
    "cnn_model.add(tf.keras.layers.Dropout(0.1))\n",
    "# Flattens the output from cnn layers\n",
    "cnn_model.add(tf.keras.layers.Flatten())\n",
    "\n",
    "cnn_model.add(tf.keras.layers.Dense(256, activation='relu'))\n",
    "cnn_model.add(tf.keras.layers.BatchNormalization())\n",
    "cnn_model.add(tf.keras.layers.Dropout(0.5))\n",
    "\n",
    "cnn_model.add(tf.keras.layers.Dense(256, activation='relu'))\n",
    "cnn_model.add(tf.keras.layers.BatchNormalization())\n",
    "cnn_model.add(tf.keras.layers.Dropout(0.5))\n",
    "\n",
    "cnn_model.add(tf.keras.layers.Dense(classes, activation='softmax'))\n",
    "\n"
   ]
  },
  {
   "cell_type": "markdown",
   "metadata": {
    "colab_type": "text",
    "id": "joKXo2WdjzU-"
   },
   "source": [
    "## Optimize the model"
   ]
  },
  {
   "cell_type": "code",
   "execution_count": 0,
   "metadata": {
    "colab": {},
    "colab_type": "code",
    "id": "DWySsgMquA_U"
   },
   "outputs": [],
   "source": [
    "#Creating adam optimizer with learning rate\n",
    "#sgd_optimizer = tf.keras.optimizers.SGD(lr=0.03, decay=0.001)\n",
    "adam_optimizer = tf.keras.optimizers.Adam(lr=0.001, decay=0.001)\n",
    "\n",
    "\n",
    "from keras.callbacks import EarlyStopping\n",
    "early_stopping = EarlyStopping(monitor='val_loss', patience=7, verbose=1, mode='auto')\n",
    "callback_list = [early_stopping]# [stats, early_stopping]\n",
    "\n",
    "\n",
    "#Compile the model\n",
    "cnn_model.compile(loss='categorical_crossentropy', optimizer=adam_optimizer, metrics=['accuracy'])\n",
    "#model.compile(optimizer=sgd_optimizer, loss='categorical_crossentropy', metrics=['accuracy'])"
   ]
  },
  {
   "cell_type": "markdown",
   "metadata": {
    "colab_type": "text",
    "id": "pFmlOw0CvGwc"
   },
   "source": [
    "## Model fitting for CNN"
   ]
  },
  {
   "cell_type": "code",
   "execution_count": 9,
   "metadata": {
    "colab": {
     "base_uri": "https://localhost:8080/",
     "height": 763
    },
    "colab_type": "code",
    "id": "iComk5SQvBu7",
    "outputId": "497f0c8e-66dc-4557-9d36-641a8fe682d9"
   },
   "outputs": [
    {
     "name": "stdout",
     "output_type": "stream",
     "text": [
      "Train on 3800 samples, validate on 950 samples\n",
      "Epoch 1/20\n",
      "3800/3800 [==============================] - 12s 3ms/sample - loss: 2.2788 - acc: 0.3576 - val_loss: 7.9415 - val_acc: 0.1600\n",
      "Epoch 2/20\n",
      "3800/3800 [==============================] - 9s 2ms/sample - loss: 1.4126 - acc: 0.5558 - val_loss: 15.1353 - val_acc: 0.1600\n",
      "Epoch 3/20\n",
      "3800/3800 [==============================] - 9s 2ms/sample - loss: 1.0577 - acc: 0.6595 - val_loss: 10.6401 - val_acc: 0.1737\n",
      "Epoch 4/20\n",
      "3800/3800 [==============================] - 9s 2ms/sample - loss: 0.8161 - acc: 0.7224 - val_loss: 3.2115 - val_acc: 0.2147\n",
      "Epoch 5/20\n",
      "3800/3800 [==============================] - 9s 2ms/sample - loss: 0.7172 - acc: 0.7692 - val_loss: 2.6109 - val_acc: 0.3653\n",
      "Epoch 6/20\n",
      "3800/3800 [==============================] - 9s 2ms/sample - loss: 0.6042 - acc: 0.7908 - val_loss: 0.8651 - val_acc: 0.6853\n",
      "Epoch 7/20\n",
      "3800/3800 [==============================] - 9s 2ms/sample - loss: 0.5449 - acc: 0.8184 - val_loss: 0.9816 - val_acc: 0.6758\n",
      "Epoch 8/20\n",
      "3800/3800 [==============================] - 9s 2ms/sample - loss: 0.4857 - acc: 0.8292 - val_loss: 0.4498 - val_acc: 0.8505\n",
      "Epoch 9/20\n",
      "3800/3800 [==============================] - 9s 2ms/sample - loss: 0.4454 - acc: 0.8479 - val_loss: 0.3679 - val_acc: 0.8800\n",
      "Epoch 10/20\n",
      "3800/3800 [==============================] - 9s 2ms/sample - loss: 0.3893 - acc: 0.8629 - val_loss: 0.3608 - val_acc: 0.8653\n",
      "Epoch 11/20\n",
      "3800/3800 [==============================] - 9s 2ms/sample - loss: 0.3766 - acc: 0.8645 - val_loss: 0.4165 - val_acc: 0.8474\n",
      "Epoch 12/20\n",
      "3800/3800 [==============================] - 9s 2ms/sample - loss: 0.3245 - acc: 0.8924 - val_loss: 0.7977 - val_acc: 0.7674\n",
      "Epoch 13/20\n",
      "3800/3800 [==============================] - 9s 2ms/sample - loss: 0.3150 - acc: 0.8908 - val_loss: 0.6262 - val_acc: 0.8032\n",
      "Epoch 14/20\n",
      "3800/3800 [==============================] - 9s 2ms/sample - loss: 0.2710 - acc: 0.9037 - val_loss: 0.4311 - val_acc: 0.8663\n",
      "Epoch 15/20\n",
      "3800/3800 [==============================] - 9s 2ms/sample - loss: 0.2477 - acc: 0.9139 - val_loss: 0.2880 - val_acc: 0.8853\n",
      "Epoch 16/20\n",
      "3800/3800 [==============================] - 9s 2ms/sample - loss: 0.2537 - acc: 0.9121 - val_loss: 0.3405 - val_acc: 0.8895\n",
      "Epoch 17/20\n",
      "3800/3800 [==============================] - 9s 2ms/sample - loss: 0.2224 - acc: 0.9216 - val_loss: 0.3578 - val_acc: 0.8621\n",
      "Epoch 18/20\n",
      "3800/3800 [==============================] - 9s 2ms/sample - loss: 0.2235 - acc: 0.9208 - val_loss: 0.6639 - val_acc: 0.8232\n",
      "Epoch 19/20\n",
      "3800/3800 [==============================] - 9s 2ms/sample - loss: 0.1861 - acc: 0.9305 - val_loss: 0.4370 - val_acc: 0.8768\n",
      "Epoch 20/20\n",
      "3800/3800 [==============================] - 9s 2ms/sample - loss: 0.1850 - acc: 0.9334 - val_loss: 0.4082 - val_acc: 0.8558\n"
     ]
    }
   ],
   "source": [
    "CDNN_model=cnn_model.fit(x_train,y_train,          \n",
    "          validation_data=(x_test,y_test),\n",
    "          epochs=20,\n",
    "          batch_size=32, callbacks= callback_list)"
   ]
  },
  {
   "cell_type": "markdown",
   "metadata": {
    "colab_type": "text",
    "id": "oRtHRFUkmv9-"
   },
   "source": [
    "## Predict the accuracy for both train and validation data"
   ]
  },
  {
   "cell_type": "code",
   "execution_count": 10,
   "metadata": {
    "colab": {
     "base_uri": "https://localhost:8080/",
     "height": 54
    },
    "colab_type": "code",
    "id": "xG1BQUU7pDc8",
    "outputId": "d5248907-688e-44fb-aa3d-cffeb77afb87"
   },
   "outputs": [
    {
     "name": "stdout",
     "output_type": "stream",
     "text": [
      "Training Accuracy : 93.34\n",
      "Validation accuracy:  85.58\n"
     ]
    }
   ],
   "source": [
    "print(\"Training Accuracy :\",round(CDNN_model.history['acc'][-1]*100,2))#early stopping \n",
    "# validation accuracy\n",
    "scores_cnn = cnn_model.evaluate(x_test, y_test, verbose=0)\n",
    "print(\"Validation accuracy: \" ,round(scores_cnn[1]*100,2))"
   ]
  },
  {
   "cell_type": "markdown",
   "metadata": {
    "colab_type": "text",
    "id": "3RrI5sTg0Xk8"
   },
   "source": [
    "## TEST data prediction"
   ]
  },
  {
   "cell_type": "code",
   "execution_count": 11,
   "metadata": {
    "colab": {
     "base_uri": "https://localhost:8080/",
     "height": 72
    },
    "colab_type": "code",
    "id": "rJCUGyqdzuR_",
    "outputId": "d6a8b24a-f4b0-4ba3-f02a-bc5c9b3f40be"
   },
   "outputs": [
    {
     "name": "stdout",
     "output_type": "stream",
     "text": [
      "Available Classes :  ['Black-grass' 'Charlock' 'Cleavers' 'Common Chickweed' 'Common wheat'\n",
      " 'Fat Hen' 'Loose Silky-bent' 'Maize' 'Scentless Mayweed'\n",
      " 'Shepherds Purse' 'Small-flowered Cranesbill' 'Sugar beet']\n"
     ]
    }
   ],
   "source": [
    "print ('Available Classes : ', labels.classes_)"
   ]
  },
  {
   "cell_type": "code",
   "execution_count": 12,
   "metadata": {
    "colab": {
     "base_uri": "https://localhost:8080/",
     "height": 1000
    },
    "colab_type": "code",
    "id": "cBJ-NrApysZ8",
    "outputId": "689823f3-4d87-4289-eb70-4d629099c4dd"
   },
   "outputs": [
    {
     "name": "stdout",
     "output_type": "stream",
     "text": [
      "Predictions:  ['Common Chickweed' 'Cleavers' 'Loose Silky-bent' 'Sugar beet'\n",
      " 'Small-flowered Cranesbill' 'Common Chickweed' 'Common Chickweed'\n",
      " 'Common Chickweed' 'Common Chickweed' 'Cleavers' 'Loose Silky-bent'\n",
      " 'Black-grass' 'Cleavers' 'Loose Silky-bent' 'Loose Silky-bent' 'Fat Hen'\n",
      " 'Sugar beet' 'Cleavers' 'Cleavers' 'Loose Silky-bent' 'Sugar beet'\n",
      " 'Scentless Mayweed' 'Fat Hen' 'Black-grass' 'Scentless Mayweed'\n",
      " 'Shepherds Purse' 'Loose Silky-bent' 'Loose Silky-bent'\n",
      " 'Common Chickweed' 'Sugar beet' 'Scentless Mayweed' 'Fat Hen'\n",
      " 'Sugar beet' 'Loose Silky-bent' 'Common Chickweed' 'Black-grass'\n",
      " 'Common Chickweed' 'Loose Silky-bent' 'Loose Silky-bent' 'Sugar beet'\n",
      " 'Maize' 'Common Chickweed' 'Cleavers' 'Loose Silky-bent'\n",
      " 'Scentless Mayweed' 'Loose Silky-bent' 'Sugar beet' 'Loose Silky-bent'\n",
      " 'Common Chickweed' 'Fat Hen' 'Small-flowered Cranesbill'\n",
      " 'Loose Silky-bent' 'Maize' 'Maize' 'Scentless Mayweed' 'Loose Silky-bent'\n",
      " 'Small-flowered Cranesbill' 'Sugar beet' 'Scentless Mayweed' 'Sugar beet'\n",
      " 'Common Chickweed' 'Fat Hen' 'Fat Hen' 'Loose Silky-bent'\n",
      " 'Small-flowered Cranesbill' 'Charlock' 'Common Chickweed' 'Charlock'\n",
      " 'Maize' 'Loose Silky-bent' 'Loose Silky-bent' 'Loose Silky-bent'\n",
      " 'Loose Silky-bent' 'Loose Silky-bent' 'Charlock'\n",
      " 'Small-flowered Cranesbill' 'Cleavers' 'Common Chickweed'\n",
      " 'Common Chickweed' 'Scentless Mayweed' 'Scentless Mayweed' 'Black-grass'\n",
      " 'Sugar beet' 'Loose Silky-bent' 'Scentless Mayweed' 'Common Chickweed'\n",
      " 'Sugar beet' 'Sugar beet' 'Loose Silky-bent' 'Common wheat' 'Charlock'\n",
      " 'Sugar beet' 'Common Chickweed' 'Small-flowered Cranesbill'\n",
      " 'Small-flowered Cranesbill' 'Maize' 'Fat Hen' 'Fat Hen'\n",
      " 'Common Chickweed' 'Fat Hen' 'Shepherds Purse'\n",
      " 'Small-flowered Cranesbill' 'Loose Silky-bent' 'Fat Hen'\n",
      " 'Common Chickweed' 'Common Chickweed' 'Common Chickweed' 'Maize'\n",
      " 'Small-flowered Cranesbill' 'Maize' 'Common Chickweed'\n",
      " 'Small-flowered Cranesbill' 'Scentless Mayweed' 'Common Chickweed'\n",
      " 'Loose Silky-bent' 'Fat Hen' 'Small-flowered Cranesbill' 'Cleavers'\n",
      " 'Fat Hen' 'Scentless Mayweed' 'Maize' 'Common wheat' 'Maize'\n",
      " 'Scentless Mayweed' 'Scentless Mayweed' 'Sugar beet' 'Sugar beet'\n",
      " 'Black-grass' 'Scentless Mayweed' 'Charlock' 'Scentless Mayweed'\n",
      " 'Common wheat' 'Scentless Mayweed' 'Common Chickweed' 'Cleavers'\n",
      " 'Sugar beet' 'Charlock' 'Loose Silky-bent' 'Sugar beet'\n",
      " 'Loose Silky-bent' 'Scentless Mayweed' 'Loose Silky-bent'\n",
      " 'Scentless Mayweed' 'Scentless Mayweed' 'Common wheat' 'Common Chickweed'\n",
      " 'Loose Silky-bent' 'Fat Hen' 'Shepherds Purse' 'Charlock'\n",
      " 'Common Chickweed' 'Scentless Mayweed' 'Charlock' 'Common Chickweed'\n",
      " 'Cleavers' 'Maize' 'Small-flowered Cranesbill' 'Fat Hen' 'Maize'\n",
      " 'Sugar beet' 'Charlock' 'Loose Silky-bent' 'Charlock' 'Cleavers'\n",
      " 'Loose Silky-bent' 'Fat Hen' 'Fat Hen' 'Charlock' 'Common Chickweed'\n",
      " 'Common wheat' 'Fat Hen' 'Fat Hen' 'Fat Hen' 'Sugar beet'\n",
      " 'Loose Silky-bent' 'Black-grass' 'Scentless Mayweed'\n",
      " 'Small-flowered Cranesbill' 'Small-flowered Cranesbill' 'Sugar beet'\n",
      " 'Common wheat' 'Black-grass' 'Small-flowered Cranesbill' 'Common wheat'\n",
      " 'Shepherds Purse' 'Loose Silky-bent' 'Charlock' 'Sugar beet' 'Fat Hen'\n",
      " 'Cleavers' 'Loose Silky-bent' 'Black-grass' 'Fat Hen' 'Common Chickweed'\n",
      " 'Small-flowered Cranesbill' 'Charlock' 'Common Chickweed'\n",
      " 'Loose Silky-bent' 'Sugar beet' 'Scentless Mayweed'\n",
      " 'Small-flowered Cranesbill' 'Common Chickweed' 'Scentless Mayweed'\n",
      " 'Scentless Mayweed' 'Shepherds Purse' 'Scentless Mayweed' 'Cleavers'\n",
      " 'Loose Silky-bent' 'Common Chickweed' 'Loose Silky-bent'\n",
      " 'Scentless Mayweed' 'Loose Silky-bent' 'Sugar beet' 'Cleavers'\n",
      " 'Shepherds Purse' 'Common Chickweed' 'Sugar beet' 'Common Chickweed'\n",
      " 'Scentless Mayweed' 'Fat Hen' 'Common Chickweed'\n",
      " 'Small-flowered Cranesbill' 'Small-flowered Cranesbill' 'Charlock'\n",
      " 'Shepherds Purse' 'Small-flowered Cranesbill' 'Loose Silky-bent'\n",
      " 'Scentless Mayweed' 'Maize' 'Scentless Mayweed' 'Charlock'\n",
      " 'Small-flowered Cranesbill' 'Common wheat' 'Black-grass' 'Black-grass'\n",
      " 'Shepherds Purse' 'Loose Silky-bent' 'Small-flowered Cranesbill'\n",
      " 'Sugar beet' 'Loose Silky-bent' 'Charlock' 'Shepherds Purse'\n",
      " 'Small-flowered Cranesbill' 'Sugar beet' 'Black-grass' 'Charlock'\n",
      " 'Charlock' 'Black-grass' 'Maize' 'Charlock' 'Loose Silky-bent'\n",
      " 'Common wheat' 'Charlock' 'Sugar beet' 'Small-flowered Cranesbill'\n",
      " 'Charlock' 'Shepherds Purse' 'Sugar beet' 'Shepherds Purse'\n",
      " 'Scentless Mayweed' 'Fat Hen' 'Common Chickweed' 'Scentless Mayweed'\n",
      " 'Charlock' 'Black-grass' 'Small-flowered Cranesbill'\n",
      " 'Small-flowered Cranesbill' 'Small-flowered Cranesbill' 'Maize'\n",
      " 'Common Chickweed' 'Black-grass' 'Loose Silky-bent' 'Sugar beet'\n",
      " 'Sugar beet' 'Scentless Mayweed' 'Sugar beet' 'Small-flowered Cranesbill'\n",
      " 'Common Chickweed' 'Sugar beet' 'Small-flowered Cranesbill' 'Charlock'\n",
      " 'Maize' 'Sugar beet' 'Maize' 'Cleavers' 'Sugar beet'\n",
      " 'Small-flowered Cranesbill' 'Cleavers' 'Shepherds Purse' 'Sugar beet'\n",
      " 'Loose Silky-bent' 'Fat Hen' 'Charlock' 'Sugar beet' 'Fat Hen'\n",
      " 'Black-grass' 'Loose Silky-bent' 'Sugar beet' 'Small-flowered Cranesbill'\n",
      " 'Scentless Mayweed' 'Cleavers' 'Loose Silky-bent' 'Sugar beet'\n",
      " 'Sugar beet' 'Loose Silky-bent' 'Scentless Mayweed' 'Maize'\n",
      " 'Shepherds Purse' 'Loose Silky-bent' 'Small-flowered Cranesbill'\n",
      " 'Fat Hen' 'Shepherds Purse' 'Shepherds Purse' 'Loose Silky-bent'\n",
      " 'Sugar beet' 'Fat Hen' 'Charlock' 'Scentless Mayweed' 'Fat Hen'\n",
      " 'Small-flowered Cranesbill' 'Cleavers' 'Maize'\n",
      " 'Small-flowered Cranesbill' 'Small-flowered Cranesbill'\n",
      " 'Loose Silky-bent' 'Loose Silky-bent' 'Common Chickweed'\n",
      " 'Common Chickweed' 'Scentless Mayweed' 'Shepherds Purse' 'Sugar beet'\n",
      " 'Small-flowered Cranesbill' 'Small-flowered Cranesbill' 'Charlock'\n",
      " 'Common wheat' 'Small-flowered Cranesbill' 'Small-flowered Cranesbill'\n",
      " 'Common Chickweed' 'Fat Hen' 'Common Chickweed' 'Shepherds Purse'\n",
      " 'Cleavers' 'Common Chickweed' 'Loose Silky-bent' 'Charlock'\n",
      " 'Common wheat' 'Fat Hen' 'Sugar beet' 'Loose Silky-bent'\n",
      " 'Small-flowered Cranesbill' 'Black-grass' 'Maize'\n",
      " 'Small-flowered Cranesbill' 'Cleavers' 'Sugar beet' 'Loose Silky-bent'\n",
      " 'Loose Silky-bent' 'Maize' 'Loose Silky-bent' 'Small-flowered Cranesbill'\n",
      " 'Fat Hen' 'Common wheat' 'Common wheat' 'Small-flowered Cranesbill'\n",
      " 'Sugar beet' 'Shepherds Purse' 'Sugar beet' 'Loose Silky-bent'\n",
      " 'Small-flowered Cranesbill' 'Common Chickweed' 'Shepherds Purse'\n",
      " 'Common Chickweed' 'Maize' 'Scentless Mayweed' 'Fat Hen' 'Charlock'\n",
      " 'Sugar beet' 'Charlock' 'Fat Hen' 'Common wheat' 'Scentless Mayweed'\n",
      " 'Sugar beet' 'Loose Silky-bent' 'Loose Silky-bent' 'Shepherds Purse'\n",
      " 'Loose Silky-bent' 'Scentless Mayweed' 'Loose Silky-bent'\n",
      " 'Small-flowered Cranesbill' 'Fat Hen' 'Small-flowered Cranesbill' 'Maize'\n",
      " 'Fat Hen' 'Common Chickweed' 'Scentless Mayweed' 'Common Chickweed'\n",
      " 'Maize' 'Scentless Mayweed' 'Small-flowered Cranesbill'\n",
      " 'Common Chickweed' 'Shepherds Purse' 'Common Chickweed'\n",
      " 'Common Chickweed' 'Common Chickweed' 'Common wheat'\n",
      " 'Small-flowered Cranesbill' 'Common Chickweed' 'Cleavers'\n",
      " 'Scentless Mayweed' 'Scentless Mayweed' 'Loose Silky-bent'\n",
      " 'Small-flowered Cranesbill' 'Scentless Mayweed' 'Fat Hen' 'Black-grass'\n",
      " 'Loose Silky-bent' 'Loose Silky-bent' 'Black-grass' 'Sugar beet'\n",
      " 'Loose Silky-bent' 'Fat Hen' 'Fat Hen' 'Scentless Mayweed' 'Sugar beet'\n",
      " 'Black-grass' 'Charlock' 'Fat Hen' 'Small-flowered Cranesbill'\n",
      " 'Scentless Mayweed' 'Common Chickweed' 'Small-flowered Cranesbill'\n",
      " 'Scentless Mayweed' 'Scentless Mayweed' 'Black-grass' 'Sugar beet'\n",
      " 'Small-flowered Cranesbill' 'Common Chickweed'\n",
      " 'Small-flowered Cranesbill' 'Common Chickweed' 'Scentless Mayweed'\n",
      " 'Small-flowered Cranesbill' 'Common Chickweed' 'Fat Hen' 'Sugar beet'\n",
      " 'Common Chickweed' 'Sugar beet' 'Common Chickweed' 'Fat Hen'\n",
      " 'Black-grass' 'Scentless Mayweed' 'Charlock' 'Fat Hen' 'Maize'\n",
      " 'Sugar beet' 'Maize' 'Fat Hen' 'Small-flowered Cranesbill'\n",
      " 'Small-flowered Cranesbill' 'Fat Hen' 'Scentless Mayweed'\n",
      " 'Loose Silky-bent' 'Charlock' 'Black-grass' 'Common Chickweed'\n",
      " 'Shepherds Purse' 'Common Chickweed' 'Loose Silky-bent' 'Maize'\n",
      " 'Scentless Mayweed' 'Scentless Mayweed' 'Common Chickweed'\n",
      " 'Loose Silky-bent' 'Loose Silky-bent' 'Common wheat' 'Loose Silky-bent'\n",
      " 'Loose Silky-bent' 'Black-grass' 'Charlock' 'Black-grass' 'Maize'\n",
      " 'Common Chickweed' 'Common Chickweed' 'Common Chickweed' 'Black-grass'\n",
      " 'Common wheat' 'Sugar beet' 'Charlock' 'Charlock' 'Fat Hen' 'Black-grass'\n",
      " 'Common Chickweed' 'Shepherds Purse' 'Loose Silky-bent'\n",
      " 'Common Chickweed' 'Shepherds Purse' 'Maize' 'Charlock' 'Shepherds Purse'\n",
      " 'Small-flowered Cranesbill' 'Sugar beet' 'Loose Silky-bent' 'Charlock'\n",
      " 'Fat Hen' 'Common wheat' 'Loose Silky-bent' 'Loose Silky-bent'\n",
      " 'Common wheat' 'Maize' 'Charlock' 'Common wheat' 'Scentless Mayweed'\n",
      " 'Common Chickweed' 'Small-flowered Cranesbill' 'Sugar beet'\n",
      " 'Loose Silky-bent' 'Charlock' 'Scentless Mayweed'\n",
      " 'Small-flowered Cranesbill' 'Loose Silky-bent' 'Black-grass'\n",
      " 'Common wheat' 'Charlock' 'Fat Hen' 'Sugar beet' 'Charlock'\n",
      " 'Loose Silky-bent' 'Charlock' 'Sugar beet' 'Scentless Mayweed'\n",
      " 'Sugar beet' 'Common Chickweed' 'Common Chickweed' 'Common wheat'\n",
      " 'Small-flowered Cranesbill' 'Fat Hen' 'Scentless Mayweed' 'Charlock'\n",
      " 'Sugar beet' 'Maize' 'Loose Silky-bent' 'Cleavers' 'Loose Silky-bent'\n",
      " 'Small-flowered Cranesbill' 'Common Chickweed' 'Shepherds Purse'\n",
      " 'Loose Silky-bent' 'Maize' 'Loose Silky-bent' 'Small-flowered Cranesbill'\n",
      " 'Scentless Mayweed' 'Common wheat' 'Maize' 'Common Chickweed'\n",
      " 'Sugar beet' 'Charlock' 'Shepherds Purse' 'Small-flowered Cranesbill'\n",
      " 'Sugar beet' 'Fat Hen' 'Sugar beet' 'Fat Hen' 'Fat Hen'\n",
      " 'Loose Silky-bent' 'Black-grass' 'Common wheat' 'Common Chickweed'\n",
      " 'Maize' 'Scentless Mayweed' 'Charlock' 'Small-flowered Cranesbill'\n",
      " 'Common Chickweed' 'Sugar beet' 'Loose Silky-bent' 'Loose Silky-bent'\n",
      " 'Fat Hen' 'Fat Hen' 'Cleavers' 'Loose Silky-bent' 'Common Chickweed'\n",
      " 'Small-flowered Cranesbill' 'Sugar beet' 'Loose Silky-bent' 'Maize'\n",
      " 'Common Chickweed' 'Common Chickweed' 'Charlock' 'Maize' 'Sugar beet'\n",
      " 'Sugar beet' 'Common wheat' 'Shepherds Purse' 'Charlock' 'Common wheat'\n",
      " 'Fat Hen' 'Shepherds Purse' 'Fat Hen' 'Scentless Mayweed' 'Cleavers'\n",
      " 'Loose Silky-bent' 'Common wheat' 'Loose Silky-bent' 'Common wheat'\n",
      " 'Loose Silky-bent' 'Maize' 'Black-grass' 'Charlock' 'Common Chickweed'\n",
      " 'Sugar beet' 'Loose Silky-bent' 'Small-flowered Cranesbill' 'Maize'\n",
      " 'Loose Silky-bent' 'Fat Hen' 'Loose Silky-bent' 'Shepherds Purse'\n",
      " 'Common Chickweed' 'Charlock' 'Scentless Mayweed' 'Sugar beet' 'Cleavers'\n",
      " 'Black-grass' 'Cleavers' 'Small-flowered Cranesbill' 'Loose Silky-bent'\n",
      " 'Charlock' 'Common Chickweed' 'Loose Silky-bent' 'Fat Hen' 'Sugar beet'\n",
      " 'Black-grass' 'Loose Silky-bent' 'Charlock' 'Scentless Mayweed'\n",
      " 'Loose Silky-bent' 'Black-grass' 'Charlock' 'Common Chickweed'\n",
      " 'Scentless Mayweed' 'Loose Silky-bent' 'Shepherds Purse' 'Charlock'\n",
      " 'Sugar beet' 'Loose Silky-bent' 'Loose Silky-bent' 'Common Chickweed'\n",
      " 'Shepherds Purse' 'Small-flowered Cranesbill' 'Sugar beet'\n",
      " 'Shepherds Purse' 'Loose Silky-bent' 'Shepherds Purse'\n",
      " 'Scentless Mayweed' 'Common Chickweed' 'Maize' 'Cleavers' 'Charlock'\n",
      " 'Loose Silky-bent' 'Small-flowered Cranesbill' 'Cleavers'\n",
      " 'Small-flowered Cranesbill' 'Loose Silky-bent' 'Common Chickweed'\n",
      " 'Charlock' 'Scentless Mayweed' 'Loose Silky-bent' 'Cleavers'\n",
      " 'Scentless Mayweed' 'Charlock' 'Small-flowered Cranesbill'\n",
      " 'Common Chickweed' 'Common Chickweed' 'Small-flowered Cranesbill'\n",
      " 'Loose Silky-bent' 'Shepherds Purse' 'Loose Silky-bent' 'Sugar beet'\n",
      " 'Charlock' 'Common Chickweed' 'Sugar beet' 'Loose Silky-bent'\n",
      " 'Scentless Mayweed' 'Shepherds Purse' 'Fat Hen' 'Cleavers'\n",
      " 'Common Chickweed' 'Scentless Mayweed' 'Scentless Mayweed'\n",
      " 'Scentless Mayweed' 'Loose Silky-bent' 'Small-flowered Cranesbill'\n",
      " 'Scentless Mayweed' 'Fat Hen' 'Charlock' 'Sugar beet' 'Loose Silky-bent'\n",
      " 'Loose Silky-bent' 'Common wheat' 'Charlock' 'Scentless Mayweed'\n",
      " 'Cleavers' 'Black-grass' 'Fat Hen' 'Fat Hen' 'Loose Silky-bent'\n",
      " 'Common Chickweed' 'Maize' 'Loose Silky-bent' 'Fat Hen'\n",
      " 'Small-flowered Cranesbill' 'Common Chickweed' 'Charlock'\n",
      " 'Common Chickweed' 'Small-flowered Cranesbill' 'Scentless Mayweed'\n",
      " 'Maize' 'Fat Hen' 'Charlock' 'Small-flowered Cranesbill'\n",
      " 'Scentless Mayweed' 'Fat Hen' 'Fat Hen' 'Small-flowered Cranesbill'\n",
      " 'Shepherds Purse' 'Fat Hen' 'Scentless Mayweed' 'Common wheat'\n",
      " 'Scentless Mayweed' 'Loose Silky-bent' 'Charlock' 'Common Chickweed'\n",
      " 'Fat Hen' 'Scentless Mayweed' 'Fat Hen' 'Small-flowered Cranesbill'\n",
      " 'Common Chickweed' 'Cleavers' 'Scentless Mayweed' 'Common Chickweed'\n",
      " 'Fat Hen' 'Small-flowered Cranesbill' 'Sugar beet' 'Scentless Mayweed'\n",
      " 'Small-flowered Cranesbill' 'Common Chickweed' 'Sugar beet' 'Sugar beet'\n",
      " 'Fat Hen' 'Small-flowered Cranesbill' 'Common wheat' 'Black-grass'\n",
      " 'Loose Silky-bent' 'Common wheat' 'Small-flowered Cranesbill'\n",
      " 'Small-flowered Cranesbill' 'Loose Silky-bent' 'Sugar beet'\n",
      " 'Common Chickweed' 'Cleavers' 'Fat Hen' 'Black-grass' 'Common wheat'\n",
      " 'Sugar beet' 'Maize' 'Charlock' 'Charlock' 'Black-grass'\n",
      " 'Common Chickweed' 'Shepherds Purse' 'Charlock' 'Loose Silky-bent'\n",
      " 'Scentless Mayweed' 'Scentless Mayweed' 'Common Chickweed' 'Fat Hen'\n",
      " 'Small-flowered Cranesbill' 'Loose Silky-bent' 'Scentless Mayweed'\n",
      " 'Common Chickweed' 'Scentless Mayweed' 'Shepherds Purse'\n",
      " 'Common Chickweed' 'Loose Silky-bent' 'Small-flowered Cranesbill'\n",
      " 'Loose Silky-bent' 'Common Chickweed' 'Cleavers' 'Loose Silky-bent'\n",
      " 'Sugar beet' 'Black-grass' 'Shepherds Purse' 'Cleavers' 'Fat Hen'\n",
      " 'Small-flowered Cranesbill' 'Charlock']\n"
     ]
    }
   ],
   "source": [
    "test_set=test_set/255\n",
    "# predictions using cnn model\n",
    "prediction = cnn_model.predict(test_set)\n",
    "\n",
    "pred = np.argmax(prediction,axis=1)\n",
    "predStr = labels.classes_[pred]\n",
    "print ('Predictions: ', predStr)"
   ]
  },
  {
   "cell_type": "code",
   "execution_count": 0,
   "metadata": {
    "colab": {},
    "colab_type": "code",
    "id": "a5Kp298yfo2s"
   },
   "outputs": [],
   "source": []
  }
 ],
 "metadata": {
  "accelerator": "GPU",
  "colab": {
   "collapsed_sections": [],
   "name": "R7_CNN_Project_1.ipynb",
   "provenance": []
  },
  "kernelspec": {
   "display_name": "Python 3",
   "language": "python",
   "name": "python3"
  },
  "language_info": {
   "codemirror_mode": {
    "name": "ipython",
    "version": 3
   },
   "file_extension": ".py",
   "mimetype": "text/x-python",
   "name": "python",
   "nbconvert_exporter": "python",
   "pygments_lexer": "ipython3",
   "version": "3.6.5"
  }
 },
 "nbformat": 4,
 "nbformat_minor": 1
}
