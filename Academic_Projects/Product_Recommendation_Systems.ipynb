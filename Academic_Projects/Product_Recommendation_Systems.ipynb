{
 "cells": [
  {
   "cell_type": "markdown",
   "metadata": {},
   "source": [
    "# Read and explore the dataset. EDA"
   ]
  },
  {
   "cell_type": "code",
   "execution_count": 1,
   "metadata": {},
   "outputs": [],
   "source": [
    "%matplotlib inline\n",
    "\n",
    "import pandas as pd\n",
    "import numpy as np\n",
    "import matplotlib.pyplot as plt\n",
    "from   sklearn.model_selection import train_test_split as train_test\n",
    "import time\n",
    "import seaborn as sns\n",
    "import pylab as pl\n",
    "from surprise import KNNWithMeans\n",
    "from surprise import Dataset\n",
    "from surprise import accuracy\n",
    "from surprise.model_selection import train_test_split\n",
    "    \n",
    "import warnings\n",
    "warnings.filterwarnings('ignore')"
   ]
  },
  {
   "cell_type": "code",
   "execution_count": 2,
   "metadata": {},
   "outputs": [],
   "source": [
    "data = pd.read_csv(\"ratings_Electronics.csv\",\n",
    "                  names=[\"userId\", \"productId\", \"ratings\", \"timestamp\"])"
   ]
  },
  {
   "cell_type": "code",
   "execution_count": 3,
   "metadata": {},
   "outputs": [
    {
     "data": {
      "text/html": [
       "<div>\n",
       "<style scoped>\n",
       "    .dataframe tbody tr th:only-of-type {\n",
       "        vertical-align: middle;\n",
       "    }\n",
       "\n",
       "    .dataframe tbody tr th {\n",
       "        vertical-align: top;\n",
       "    }\n",
       "\n",
       "    .dataframe thead th {\n",
       "        text-align: right;\n",
       "    }\n",
       "</style>\n",
       "<table border=\"1\" class=\"dataframe\">\n",
       "  <thead>\n",
       "    <tr style=\"text-align: right;\">\n",
       "      <th></th>\n",
       "      <th>userId</th>\n",
       "      <th>productId</th>\n",
       "      <th>ratings</th>\n",
       "      <th>timestamp</th>\n",
       "    </tr>\n",
       "  </thead>\n",
       "  <tbody>\n",
       "    <tr>\n",
       "      <th>0</th>\n",
       "      <td>AKM1MP6P0OYPR</td>\n",
       "      <td>0132793040</td>\n",
       "      <td>5.0</td>\n",
       "      <td>1365811200</td>\n",
       "    </tr>\n",
       "    <tr>\n",
       "      <th>1</th>\n",
       "      <td>A2CX7LUOHB2NDG</td>\n",
       "      <td>0321732944</td>\n",
       "      <td>5.0</td>\n",
       "      <td>1341100800</td>\n",
       "    </tr>\n",
       "    <tr>\n",
       "      <th>2</th>\n",
       "      <td>A2NWSAGRHCP8N5</td>\n",
       "      <td>0439886341</td>\n",
       "      <td>1.0</td>\n",
       "      <td>1367193600</td>\n",
       "    </tr>\n",
       "    <tr>\n",
       "      <th>3</th>\n",
       "      <td>A2WNBOD3WNDNKT</td>\n",
       "      <td>0439886341</td>\n",
       "      <td>3.0</td>\n",
       "      <td>1374451200</td>\n",
       "    </tr>\n",
       "    <tr>\n",
       "      <th>4</th>\n",
       "      <td>A1GI0U4ZRJA8WN</td>\n",
       "      <td>0439886341</td>\n",
       "      <td>1.0</td>\n",
       "      <td>1334707200</td>\n",
       "    </tr>\n",
       "  </tbody>\n",
       "</table>\n",
       "</div>"
      ],
      "text/plain": [
       "           userId   productId  ratings   timestamp\n",
       "0   AKM1MP6P0OYPR  0132793040      5.0  1365811200\n",
       "1  A2CX7LUOHB2NDG  0321732944      5.0  1341100800\n",
       "2  A2NWSAGRHCP8N5  0439886341      1.0  1367193600\n",
       "3  A2WNBOD3WNDNKT  0439886341      3.0  1374451200\n",
       "4  A1GI0U4ZRJA8WN  0439886341      1.0  1334707200"
      ]
     },
     "execution_count": 3,
     "metadata": {},
     "output_type": "execute_result"
    }
   ],
   "source": [
    "data.head()"
   ]
  },
  {
   "cell_type": "code",
   "execution_count": 4,
   "metadata": {},
   "outputs": [
    {
     "data": {
      "text/html": [
       "<div>\n",
       "<style scoped>\n",
       "    .dataframe tbody tr th:only-of-type {\n",
       "        vertical-align: middle;\n",
       "    }\n",
       "\n",
       "    .dataframe tbody tr th {\n",
       "        vertical-align: top;\n",
       "    }\n",
       "\n",
       "    .dataframe thead th {\n",
       "        text-align: right;\n",
       "    }\n",
       "</style>\n",
       "<table border=\"1\" class=\"dataframe\">\n",
       "  <thead>\n",
       "    <tr style=\"text-align: right;\">\n",
       "      <th></th>\n",
       "      <th>userId</th>\n",
       "      <th>productId</th>\n",
       "      <th>ratings</th>\n",
       "    </tr>\n",
       "  </thead>\n",
       "  <tbody>\n",
       "    <tr>\n",
       "      <th>0</th>\n",
       "      <td>AKM1MP6P0OYPR</td>\n",
       "      <td>0132793040</td>\n",
       "      <td>5.0</td>\n",
       "    </tr>\n",
       "    <tr>\n",
       "      <th>1</th>\n",
       "      <td>A2CX7LUOHB2NDG</td>\n",
       "      <td>0321732944</td>\n",
       "      <td>5.0</td>\n",
       "    </tr>\n",
       "    <tr>\n",
       "      <th>2</th>\n",
       "      <td>A2NWSAGRHCP8N5</td>\n",
       "      <td>0439886341</td>\n",
       "      <td>1.0</td>\n",
       "    </tr>\n",
       "    <tr>\n",
       "      <th>3</th>\n",
       "      <td>A2WNBOD3WNDNKT</td>\n",
       "      <td>0439886341</td>\n",
       "      <td>3.0</td>\n",
       "    </tr>\n",
       "    <tr>\n",
       "      <th>4</th>\n",
       "      <td>A1GI0U4ZRJA8WN</td>\n",
       "      <td>0439886341</td>\n",
       "      <td>1.0</td>\n",
       "    </tr>\n",
       "  </tbody>\n",
       "</table>\n",
       "</div>"
      ],
      "text/plain": [
       "           userId   productId  ratings\n",
       "0   AKM1MP6P0OYPR  0132793040      5.0\n",
       "1  A2CX7LUOHB2NDG  0321732944      5.0\n",
       "2  A2NWSAGRHCP8N5  0439886341      1.0\n",
       "3  A2WNBOD3WNDNKT  0439886341      3.0\n",
       "4  A1GI0U4ZRJA8WN  0439886341      1.0"
      ]
     },
     "execution_count": 4,
     "metadata": {},
     "output_type": "execute_result"
    }
   ],
   "source": [
    "# droping timestamp column as we don't need it for our recommended system\n",
    "ratings_Electronics = data.drop('timestamp', axis=1)\n",
    "ratings_Electronics.head()"
   ]
  },
  {
   "cell_type": "code",
   "execution_count": 5,
   "metadata": {},
   "outputs": [
    {
     "name": "stdout",
     "output_type": "stream",
     "text": [
      "Number of entries in dataset :  7824482\n",
      "Number of features in dataset :  3\n"
     ]
    }
   ],
   "source": [
    "print ('Number of entries in dataset : ', ratings_Electronics.shape[0])\n",
    "print ('Number of features in dataset : ', ratings_Electronics.shape[1])"
   ]
  },
  {
   "cell_type": "code",
   "execution_count": 6,
   "metadata": {},
   "outputs": [
    {
     "name": "stdout",
     "output_type": "stream",
     "text": [
      "Checking type of data, missing data\n",
      "<class 'pandas.core.frame.DataFrame'>\n",
      "RangeIndex: 7824482 entries, 0 to 7824481\n",
      "Data columns (total 3 columns):\n",
      "userId       object\n",
      "productId    object\n",
      "ratings      float64\n",
      "dtypes: float64(1), object(2)\n",
      "memory usage: 179.1+ MB\n"
     ]
    }
   ],
   "source": [
    "print (\"Checking type of data, missing data\")\n",
    "ratings_Electronics.info()"
   ]
  },
  {
   "cell_type": "code",
   "execution_count": 7,
   "metadata": {},
   "outputs": [
    {
     "name": "stdout",
     "output_type": "stream",
     "text": [
      "length of unique users :  4201696\n"
     ]
    }
   ],
   "source": [
    "# getting unique users\n",
    "unique_users = ratings_Electronics['userId'].unique()\n",
    "print ('length of unique users : ', len(unique_users))"
   ]
  },
  {
   "cell_type": "code",
   "execution_count": 8,
   "metadata": {},
   "outputs": [],
   "source": [
    "# getting unique products\n",
    "# unique_prducts = ratings_Electronics['productId'].unique()\n",
    "# print ('length of unique products: ', len(unique_prducts)"
   ]
  },
  {
   "cell_type": "code",
   "execution_count": 9,
   "metadata": {},
   "outputs": [],
   "source": [
    "# Plotting user counts"
   ]
  },
  {
   "cell_type": "code",
   "execution_count": 10,
   "metadata": {},
   "outputs": [],
   "source": [
    "user_count_data = pd.DataFrame(ratings_Electronics.groupby('userId')['userId'].count())  "
   ]
  },
  {
   "cell_type": "code",
   "execution_count": 11,
   "metadata": {},
   "outputs": [
    {
     "data": {
      "text/plain": [
       "<matplotlib.axes._subplots.AxesSubplot at 0x21e20694518>"
      ]
     },
     "execution_count": 11,
     "metadata": {},
     "output_type": "execute_result"
    },
    {
     "data": {
      "image/png": "[encoded data removed]",
      "text/plain": [
       "<Figure size 432x288 with 1 Axes>"
      ]
     },
     "metadata": {
      "needs_background": "light"
     },
     "output_type": "display_data"
    }
   ],
   "source": [
    "user_count_data.plot()"
   ]
  },
  {
   "cell_type": "code",
   "execution_count": 12,
   "metadata": {},
   "outputs": [],
   "source": [
    "# Plotting product counts"
   ]
  },
  {
   "cell_type": "code",
   "execution_count": 13,
   "metadata": {},
   "outputs": [],
   "source": [
    "product_count_data = pd.DataFrame(ratings_Electronics.groupby('productId')['productId'].count())  "
   ]
  },
  {
   "cell_type": "code",
   "execution_count": 14,
   "metadata": {},
   "outputs": [
    {
     "data": {
      "text/plain": [
       "<matplotlib.axes._subplots.AxesSubplot at 0x21e106f6a90>"
      ]
     },
     "execution_count": 14,
     "metadata": {},
     "output_type": "execute_result"
    },
    {
     "data": {
      "image/png": "[encoded data removed]",
      "text/plain": [
       "<Figure size 432x288 with 1 Axes>"
      ]
     },
     "metadata": {
      "needs_background": "light"
     },
     "output_type": "display_data"
    }
   ],
   "source": [
    "product_count_data.plot()"
   ]
  },
  {
   "cell_type": "markdown",
   "metadata": {},
   "source": [
    "# Considering subset of dataset to make it less sparse/more dense. (For example, users only who has given 50 or more number of ratings )"
   ]
  },
  {
   "cell_type": "markdown",
   "metadata": {},
   "source": [
    "### filtering rating electronics  Data frame, with such users where number of users are 50 or more"
   ]
  },
  {
   "cell_type": "code",
   "execution_count": 15,
   "metadata": {},
   "outputs": [],
   "source": [
    "rating_subset = ratings_Electronics[ratings_Electronics.groupby('userId')['userId'].transform('size') > 49]"
   ]
  },
  {
   "cell_type": "markdown",
   "metadata": {},
   "source": [
    "### plotting a countplot for users from rating subset Data Frame"
   ]
  },
  {
   "cell_type": "code",
   "execution_count": 16,
   "metadata": {},
   "outputs": [
    {
     "data": {
      "text/plain": [
       "<matplotlib.axes._subplots.AxesSubplot at 0x21e106f6080>"
      ]
     },
     "execution_count": 16,
     "metadata": {},
     "output_type": "execute_result"
    },
    {
     "data": {
      "image/png": "[encoded data removed]",
      "text/plain": [
       "<Figure size 1440x576 with 1 Axes>"
      ]
     },
     "metadata": {
      "needs_background": "light"
     },
     "output_type": "display_data"
    }
   ],
   "source": [
    "plt.figure(figsize=(20,8))\n",
    "sns.countplot(data=rating_subset, x='userId')"
   ]
  },
  {
   "cell_type": "code",
   "execution_count": 17,
   "metadata": {},
   "outputs": [
    {
     "name": "stdout",
     "output_type": "stream",
     "text": [
      "Number of entries in rating subset :  125871\n"
     ]
    }
   ],
   "source": [
    "print ('Number of entries in rating subset : ', rating_subset.shape[0])"
   ]
  },
  {
   "cell_type": "markdown",
   "metadata": {},
   "source": [
    "### getting value counts of each user"
   ]
  },
  {
   "cell_type": "code",
   "execution_count": 18,
   "metadata": {},
   "outputs": [
    {
     "data": {
      "text/plain": [
       "A5JLAU2ARJ0BO     520\n",
       "ADLVFFE4VBT8      501\n",
       "A3OXHLG6DIBRW8    498\n",
       "A6FIAB28IS79      431\n",
       "A680RUE1FDO8B     406\n",
       "Name: userId, dtype: int64"
      ]
     },
     "execution_count": 18,
     "metadata": {},
     "output_type": "execute_result"
    }
   ],
   "source": [
    "count_data = rating_subset.userId.value_counts()\n",
    "count_data.head()"
   ]
  },
  {
   "cell_type": "markdown",
   "metadata": {},
   "source": [
    "### getting all the unique users from rating_subset"
   ]
  },
  {
   "cell_type": "code",
   "execution_count": 19,
   "metadata": {},
   "outputs": [
    {
     "name": "stdout",
     "output_type": "stream",
     "text": [
      "['A3BY5KCNQZXV5U' 'AT09WGFUM934H' 'A32HSNCNPRUMTR' ... 'AT53ZTTO707MB'\n",
      " 'A1X3ESYZ79H59E' 'A328S9RN3U5M68']\n",
      "Size of unique users subset  1540\n"
     ]
    }
   ],
   "source": [
    "unique_users_subset = rating_subset['userId'].unique()\n",
    "print (unique_users_subset)\n",
    "print ('Size of unique users subset ',len(unique_users_subset))"
   ]
  },
  {
   "cell_type": "markdown",
   "metadata": {},
   "source": [
    "### getting all the unique users from rating_subset"
   ]
  },
  {
   "cell_type": "code",
   "execution_count": 20,
   "metadata": {
    "scrolled": true
   },
   "outputs": [
    {
     "name": "stdout",
     "output_type": "stream",
     "text": [
      "['A3BY5KCNQZXV5U' 'AT09WGFUM934H' 'A32HSNCNPRUMTR' ... 'AT53ZTTO707MB'\n",
      " 'A1X3ESYZ79H59E' 'A328S9RN3U5M68']\n",
      "Size of unique users subset  1540\n"
     ]
    }
   ],
   "source": [
    "unique_prducts_subset = rating_subset['productId'].unique()\n",
    "print (unique_users_subset)\n",
    "print ('Size of unique users subset ',len(unique_users_subset))"
   ]
  },
  {
   "cell_type": "markdown",
   "metadata": {},
   "source": [
    "### Grouping products by product Id and aggregating ratings based on count"
   ]
  },
  {
   "cell_type": "code",
   "execution_count": 21,
   "metadata": {},
   "outputs": [],
   "source": [
    "product_grouped = rating_subset.groupby(['productId']).agg({'ratings':'count'}).reset_index()"
   ]
  },
  {
   "cell_type": "code",
   "execution_count": 22,
   "metadata": {
    "scrolled": true
   },
   "outputs": [
    {
     "data": {
      "text/html": [
       "<div>\n",
       "<style scoped>\n",
       "    .dataframe tbody tr th:only-of-type {\n",
       "        vertical-align: middle;\n",
       "    }\n",
       "\n",
       "    .dataframe tbody tr th {\n",
       "        vertical-align: top;\n",
       "    }\n",
       "\n",
       "    .dataframe thead th {\n",
       "        text-align: right;\n",
       "    }\n",
       "</style>\n",
       "<table border=\"1\" class=\"dataframe\">\n",
       "  <thead>\n",
       "    <tr style=\"text-align: right;\">\n",
       "      <th></th>\n",
       "      <th>productId</th>\n",
       "      <th>ratings</th>\n",
       "    </tr>\n",
       "  </thead>\n",
       "  <tbody>\n",
       "    <tr>\n",
       "      <th>0</th>\n",
       "      <td>0594451647</td>\n",
       "      <td>1</td>\n",
       "    </tr>\n",
       "    <tr>\n",
       "      <th>1</th>\n",
       "      <td>0594481813</td>\n",
       "      <td>1</td>\n",
       "    </tr>\n",
       "    <tr>\n",
       "      <th>2</th>\n",
       "      <td>0970407998</td>\n",
       "      <td>2</td>\n",
       "    </tr>\n",
       "    <tr>\n",
       "      <th>3</th>\n",
       "      <td>0972683275</td>\n",
       "      <td>4</td>\n",
       "    </tr>\n",
       "    <tr>\n",
       "      <th>4</th>\n",
       "      <td>1400501466</td>\n",
       "      <td>6</td>\n",
       "    </tr>\n",
       "  </tbody>\n",
       "</table>\n",
       "</div>"
      ],
      "text/plain": [
       "    productId  ratings\n",
       "0  0594451647        1\n",
       "1  0594481813        1\n",
       "2  0970407998        2\n",
       "3  0972683275        4\n",
       "4  1400501466        6"
      ]
     },
     "execution_count": 22,
     "metadata": {},
     "output_type": "execute_result"
    }
   ],
   "source": [
    "product_grouped.head()"
   ]
  },
  {
   "cell_type": "code",
   "execution_count": 23,
   "metadata": {
    "scrolled": true
   },
   "outputs": [
    {
     "name": "stdout",
     "output_type": "stream",
     "text": [
      "Sum of all ratings:  125871\n"
     ]
    }
   ],
   "source": [
    "# sum of all ratings\n",
    "grouped_sum = product_grouped['ratings'].sum()\n",
    "print ('Sum of all ratings: ', grouped_sum)"
   ]
  },
  {
   "cell_type": "markdown",
   "metadata": {},
   "source": [
    "### creating a  column 'percentage' to check % of ratings for each products"
   ]
  },
  {
   "cell_type": "code",
   "execution_count": 24,
   "metadata": {},
   "outputs": [],
   "source": [
    "product_grouped['percentage'] = product_grouped['ratings'].div(grouped_sum) * 100"
   ]
  },
  {
   "cell_type": "code",
   "execution_count": 25,
   "metadata": {},
   "outputs": [
    {
     "data": {
      "text/html": [
       "<div>\n",
       "<style scoped>\n",
       "    .dataframe tbody tr th:only-of-type {\n",
       "        vertical-align: middle;\n",
       "    }\n",
       "\n",
       "    .dataframe tbody tr th {\n",
       "        vertical-align: top;\n",
       "    }\n",
       "\n",
       "    .dataframe thead th {\n",
       "        text-align: right;\n",
       "    }\n",
       "</style>\n",
       "<table border=\"1\" class=\"dataframe\">\n",
       "  <thead>\n",
       "    <tr style=\"text-align: right;\">\n",
       "      <th></th>\n",
       "      <th>productId</th>\n",
       "      <th>ratings</th>\n",
       "      <th>percentage</th>\n",
       "    </tr>\n",
       "  </thead>\n",
       "  <tbody>\n",
       "    <tr>\n",
       "      <th>0</th>\n",
       "      <td>0594451647</td>\n",
       "      <td>1</td>\n",
       "      <td>0.000794</td>\n",
       "    </tr>\n",
       "    <tr>\n",
       "      <th>1</th>\n",
       "      <td>0594481813</td>\n",
       "      <td>1</td>\n",
       "      <td>0.000794</td>\n",
       "    </tr>\n",
       "    <tr>\n",
       "      <th>2</th>\n",
       "      <td>0970407998</td>\n",
       "      <td>2</td>\n",
       "      <td>0.001589</td>\n",
       "    </tr>\n",
       "    <tr>\n",
       "      <th>3</th>\n",
       "      <td>0972683275</td>\n",
       "      <td>4</td>\n",
       "      <td>0.003178</td>\n",
       "    </tr>\n",
       "    <tr>\n",
       "      <th>4</th>\n",
       "      <td>1400501466</td>\n",
       "      <td>6</td>\n",
       "      <td>0.004767</td>\n",
       "    </tr>\n",
       "  </tbody>\n",
       "</table>\n",
       "</div>"
      ],
      "text/plain": [
       "    productId  ratings  percentage\n",
       "0  0594451647        1    0.000794\n",
       "1  0594481813        1    0.000794\n",
       "2  0970407998        2    0.001589\n",
       "3  0972683275        4    0.003178\n",
       "4  1400501466        6    0.004767"
      ]
     },
     "execution_count": 25,
     "metadata": {},
     "output_type": "execute_result"
    }
   ],
   "source": [
    "product_grouped.head()"
   ]
  },
  {
   "cell_type": "code",
   "execution_count": 26,
   "metadata": {},
   "outputs": [],
   "source": [
    "# sorting the grouped products based on ratings and product id\n",
    "product_grouped_sorted = product_grouped.sort_values(['ratings', 'productId'], ascending=[0,1])"
   ]
  },
  {
   "cell_type": "code",
   "execution_count": 27,
   "metadata": {},
   "outputs": [
    {
     "data": {
      "text/html": [
       "<div>\n",
       "<style scoped>\n",
       "    .dataframe tbody tr th:only-of-type {\n",
       "        vertical-align: middle;\n",
       "    }\n",
       "\n",
       "    .dataframe tbody tr th {\n",
       "        vertical-align: top;\n",
       "    }\n",
       "\n",
       "    .dataframe thead th {\n",
       "        text-align: right;\n",
       "    }\n",
       "</style>\n",
       "<table border=\"1\" class=\"dataframe\">\n",
       "  <thead>\n",
       "    <tr style=\"text-align: right;\">\n",
       "      <th></th>\n",
       "      <th>productId</th>\n",
       "      <th>ratings</th>\n",
       "      <th>percentage</th>\n",
       "    </tr>\n",
       "  </thead>\n",
       "  <tbody>\n",
       "    <tr>\n",
       "      <th>39003</th>\n",
       "      <td>B0088CJT4U</td>\n",
       "      <td>206</td>\n",
       "      <td>0.163660</td>\n",
       "    </tr>\n",
       "    <tr>\n",
       "      <th>24827</th>\n",
       "      <td>B003ES5ZUU</td>\n",
       "      <td>184</td>\n",
       "      <td>0.146181</td>\n",
       "    </tr>\n",
       "    <tr>\n",
       "      <th>11078</th>\n",
       "      <td>B000N99BBC</td>\n",
       "      <td>167</td>\n",
       "      <td>0.132676</td>\n",
       "    </tr>\n",
       "    <tr>\n",
       "      <th>38250</th>\n",
       "      <td>B007WTAJTO</td>\n",
       "      <td>164</td>\n",
       "      <td>0.130292</td>\n",
       "    </tr>\n",
       "    <tr>\n",
       "      <th>38615</th>\n",
       "      <td>B00829TIEK</td>\n",
       "      <td>149</td>\n",
       "      <td>0.118375</td>\n",
       "    </tr>\n",
       "  </tbody>\n",
       "</table>\n",
       "</div>"
      ],
      "text/plain": [
       "        productId  ratings  percentage\n",
       "39003  B0088CJT4U      206    0.163660\n",
       "24827  B003ES5ZUU      184    0.146181\n",
       "11078  B000N99BBC      167    0.132676\n",
       "38250  B007WTAJTO      164    0.130292\n",
       "38615  B00829TIEK      149    0.118375"
      ]
     },
     "execution_count": 27,
     "metadata": {},
     "output_type": "execute_result"
    }
   ],
   "source": [
    "product_grouped_sorted.head()"
   ]
  },
  {
   "cell_type": "markdown",
   "metadata": {},
   "source": [
    "# Split the data randomly into train and test dataset."
   ]
  },
  {
   "cell_type": "markdown",
   "metadata": {},
   "source": [
    "### spliting data set to train, test for popularity recommendation system"
   ]
  },
  {
   "cell_type": "code",
   "execution_count": 28,
   "metadata": {},
   "outputs": [],
   "source": [
    "train_data, test_data = train_test(rating_subset, test_size=.30, random_state=167)"
   ]
  },
  {
   "cell_type": "markdown",
   "metadata": {},
   "source": [
    "### spliting data set to train, test for collabarative recommendation system using surprise package"
   ]
  },
  {
   "cell_type": "code",
   "execution_count": 29,
   "metadata": {},
   "outputs": [],
   "source": [
    "# importing Dataset and Reader from surprise package\n",
    "from surprise import Dataset, Reader"
   ]
  },
  {
   "cell_type": "code",
   "execution_count": 30,
   "metadata": {},
   "outputs": [],
   "source": [
    "# loading the data set using surprise package\n",
    "reader = Reader(rating_scale=(1, 5))\n",
    "data = Dataset.load_from_df(rating_subset, reader)"
   ]
  },
  {
   "cell_type": "code",
   "execution_count": 31,
   "metadata": {},
   "outputs": [],
   "source": [
    "#spliting training and tesing dataset\n",
    "trainset, testset = train_test_split(data, test_size=.30, random_state=167)"
   ]
  },
  {
   "cell_type": "code",
   "execution_count": null,
   "metadata": {},
   "outputs": [],
   "source": []
  },
  {
   "cell_type": "markdown",
   "metadata": {},
   "source": [
    "# 4. Build Popularity Recommender model."
   ]
  },
  {
   "cell_type": "markdown",
   "metadata": {},
   "source": [
    "### creating popularity based recommender model below"
   ]
  },
  {
   "cell_type": "code",
   "execution_count": 32,
   "metadata": {},
   "outputs": [],
   "source": [
    "#Class for Popularity based Recommender System model\n",
    "class popularity_based_recommender():\n",
    "    def __init__(self):\n",
    "        self.train_data = None\n",
    "        self.user_id = None\n",
    "        self.product_id = None\n",
    "        self.popularity_recommendations = None\n",
    "        \n",
    "    #Create the popularity based recommender system model\n",
    "    def create(self, train_data, user_id, product_id, num_of_recos):\n",
    "        self.train_data = train_data\n",
    "        self.user_id = user_id\n",
    "        self.product_id = product_id\n",
    "\n",
    "        #Get a count of user_ids for each unique product as recommendation score\n",
    "        train_data_grouped = train_data.groupby([self.product_id]).agg({self.user_id: 'count'}).reset_index()\n",
    "        train_data_grouped.rename(columns = {'userId': 'score'},inplace=True)\n",
    "    \n",
    "        #Sort the product based upon recommendation score\n",
    "        train_data_sort = train_data_grouped.sort_values(['score', self.product_id], ascending = [0,1])\n",
    "    \n",
    "        #Generate a recommendation rank based upon score\n",
    "        train_data_sort['Rank'] = train_data_sort['score'].rank(ascending=0, method='first')\n",
    "        \n",
    "        #Get the top 10 recommendations\n",
    "        self.popularity_recommendations = train_data_sort.head(num_of_recos)\n",
    "\n",
    "    #Use the popularity based recommender system model to\n",
    "    #make recommendations\n",
    "    def recommend(self, user_id):\n",
    "        user_recommendations = self.popularity_recommendations\n",
    "        \n",
    "        #Add user_id column for which the recommendations are being generated\n",
    "        user_recommendations['userId'] = user_id\n",
    "    \n",
    "        #Bring user_id column to the front\n",
    "        cols = user_recommendations.columns.tolist()\n",
    "        cols = cols[-1:] + cols[:-1]\n",
    "        user_recommendations = user_recommendations[cols]        \n",
    "        return user_recommendations"
   ]
  },
  {
   "cell_type": "code",
   "execution_count": 33,
   "metadata": {},
   "outputs": [],
   "source": [
    "popularity_model = popularity_based_recommender()"
   ]
  },
  {
   "cell_type": "code",
   "execution_count": null,
   "metadata": {},
   "outputs": [],
   "source": []
  },
  {
   "cell_type": "markdown",
   "metadata": {},
   "source": [
    "# Build Collaborative Filtering model"
   ]
  },
  {
   "cell_type": "code",
   "execution_count": 34,
   "metadata": {},
   "outputs": [
    {
     "data": {
      "text/plain": [
       "collections.defaultdict"
      ]
     },
     "execution_count": 34,
     "metadata": {},
     "output_type": "execute_result"
    }
   ],
   "source": [
    "# user item rating data can be obtained as follows\n",
    "user_records = trainset.ur\n",
    "type(user_records)"
   ]
  },
  {
   "cell_type": "code",
   "execution_count": 35,
   "metadata": {},
   "outputs": [
    {
     "data": {
      "text/plain": [
       "[(0, 4.0),\n",
       " (16, 5.0),\n",
       " (1131, 5.0),\n",
       " (1347, 5.0),\n",
       " (2137, 5.0),\n",
       " (3166, 5.0),\n",
       " (3221, 5.0),\n",
       " (4399, 2.0),\n",
       " (4681, 5.0),\n",
       " (4762, 5.0),\n",
       " (5047, 4.0),\n",
       " (5335, 5.0),\n",
       " (5726, 5.0),\n",
       " (1345, 5.0),\n",
       " (1988, 4.0),\n",
       " (8469, 5.0),\n",
       " (8526, 2.0),\n",
       " (8575, 5.0),\n",
       " (559, 5.0),\n",
       " (8679, 5.0),\n",
       " (8787, 5.0),\n",
       " (9341, 5.0),\n",
       " (9735, 5.0),\n",
       " (10488, 5.0),\n",
       " (10642, 5.0),\n",
       " (11176, 5.0),\n",
       " (11360, 5.0),\n",
       " (11512, 5.0),\n",
       " (12097, 5.0),\n",
       " (6774, 5.0),\n",
       " (330, 5.0),\n",
       " (287, 5.0),\n",
       " (6361, 5.0),\n",
       " (6662, 3.0),\n",
       " (13926, 5.0),\n",
       " (2169, 5.0),\n",
       " (14291, 3.0),\n",
       " (14737, 5.0),\n",
       " (15151, 5.0),\n",
       " (6671, 5.0),\n",
       " (3602, 4.0),\n",
       " (16492, 5.0),\n",
       " (16537, 5.0),\n",
       " (17229, 5.0),\n",
       " (17422, 5.0),\n",
       " (17789, 5.0),\n",
       " (7352, 5.0),\n",
       " (18170, 2.0),\n",
       " (3193, 5.0),\n",
       " (11516, 5.0),\n",
       " (19905, 3.0),\n",
       " (16946, 5.0),\n",
       " (561, 3.0),\n",
       " (13617, 5.0),\n",
       " (21420, 5.0),\n",
       " (13009, 5.0),\n",
       " (10267, 5.0),\n",
       " (2545, 5.0),\n",
       " (22160, 5.0),\n",
       " (23176, 5.0),\n",
       " (23252, 5.0),\n",
       " (2397, 5.0),\n",
       " (16865, 5.0),\n",
       " (18628, 5.0),\n",
       " (6172, 5.0),\n",
       " (24523, 5.0),\n",
       " (25465, 5.0),\n",
       " (4216, 5.0),\n",
       " (25757, 5.0),\n",
       " (25849, 5.0),\n",
       " (26266, 5.0),\n",
       " (26922, 1.0),\n",
       " (12064, 5.0),\n",
       " (27347, 3.0),\n",
       " (27463, 5.0),\n",
       " (17200, 5.0),\n",
       " (1597, 5.0),\n",
       " (28287, 5.0),\n",
       " (28465, 5.0),\n",
       " (12053, 5.0),\n",
       " (29000, 5.0),\n",
       " (1750, 5.0),\n",
       " (29294, 5.0),\n",
       " (10007, 5.0),\n",
       " (3048, 5.0),\n",
       " (30705, 5.0),\n",
       " (9445, 5.0),\n",
       " (27584, 5.0),\n",
       " (31224, 5.0),\n",
       " (31552, 4.0),\n",
       " (31751, 5.0),\n",
       " (22514, 5.0),\n",
       " (31973, 5.0),\n",
       " (32048, 5.0),\n",
       " (1906, 5.0),\n",
       " (2423, 5.0),\n",
       " (6017, 5.0),\n",
       " (25416, 4.0),\n",
       " (15242, 5.0),\n",
       " (35655, 5.0),\n",
       " (36437, 5.0),\n",
       " (36762, 2.0),\n",
       " (36836, 5.0),\n",
       " (37262, 5.0),\n",
       " (37626, 5.0),\n",
       " (247, 5.0)]"
      ]
     },
     "execution_count": 35,
     "metadata": {},
     "output_type": "execute_result"
    }
   ],
   "source": [
    "# checking user record of first index from surprise package trainset user data\n",
    "user_records[0]"
   ]
  },
  {
   "cell_type": "code",
   "execution_count": 36,
   "metadata": {
    "scrolled": true
   },
   "outputs": [
    {
     "name": "stdout",
     "output_type": "stream",
     "text": [
      "A3REK3OFONWB1Q\n",
      "B000INZRZW\n"
     ]
    }
   ],
   "source": [
    "# However the ids are the inner ids and not the raw ids\n",
    "# raw ids can be obatined as follows\n",
    "\n",
    "print(trainset.to_raw_uid(0))\n",
    "print(trainset.to_raw_iid(1066))"
   ]
  },
  {
   "cell_type": "code",
   "execution_count": null,
   "metadata": {},
   "outputs": [],
   "source": []
  },
  {
   "cell_type": "code",
   "execution_count": 37,
   "metadata": {},
   "outputs": [],
   "source": [
    "from surprise import KNNWithMeans\n",
    "from surprise import accuracy"
   ]
  },
  {
   "cell_type": "markdown",
   "metadata": {},
   "source": [
    "### creating collaborative filtering model using KNNWithMeans from surprise package. Here I am creting user-user similarity model as we want to recommend products based on user habits"
   ]
  },
  {
   "cell_type": "code",
   "execution_count": 38,
   "metadata": {},
   "outputs": [],
   "source": [
    "algo = KNNWithMeans(k=5, sim_options={'name': 'pearson', 'user_based': True})"
   ]
  },
  {
   "cell_type": "code",
   "execution_count": 39,
   "metadata": {},
   "outputs": [
    {
     "name": "stdout",
     "output_type": "stream",
     "text": [
      "Computing the pearson similarity matrix...\n",
      "Done computing similarity matrix.\n"
     ]
    },
    {
     "data": {
      "text/plain": [
       "<surprise.prediction_algorithms.knns.KNNWithMeans at 0x21e21c78240>"
      ]
     },
     "execution_count": 39,
     "metadata": {},
     "output_type": "execute_result"
    }
   ],
   "source": [
    "# fitting the training set on the above declared model\n",
    "algo.fit(trainset)"
   ]
  },
  {
   "cell_type": "code",
   "execution_count": 40,
   "metadata": {},
   "outputs": [],
   "source": [
    "# we can now query for specific predicions\n",
    "uid = str(196)  # raw user id\n",
    "iid = str(302)  # raw item id"
   ]
  },
  {
   "cell_type": "code",
   "execution_count": 41,
   "metadata": {},
   "outputs": [
    {
     "name": "stdout",
     "output_type": "stream",
     "text": [
      "user: 196        item: 302        r_ui = None   est = 4.26   {'was_impossible': True, 'reason': 'User and/or item is unkown.'}\n"
     ]
    }
   ],
   "source": [
    "# get a prediction for specific users and items.\n",
    "pred = algo.predict(uid, iid, verbose=True)"
   ]
  },
  {
   "cell_type": "markdown",
   "metadata": {},
   "source": [
    "# Evaluate both the models. (Once the model is trained on the training data, it can be used to compute the error (RMSE) on predictions made on the test data.)"
   ]
  },
  {
   "cell_type": "markdown",
   "metadata": {},
   "source": [
    "### Evaluating Popularity based model"
   ]
  },
  {
   "cell_type": "code",
   "execution_count": 42,
   "metadata": {},
   "outputs": [],
   "source": [
    "popularity_model.create(train_data, 'userId', 'productId', 10)"
   ]
  },
  {
   "cell_type": "code",
   "execution_count": 43,
   "metadata": {},
   "outputs": [
    {
     "data": {
      "text/html": [
       "<div>\n",
       "<style scoped>\n",
       "    .dataframe tbody tr th:only-of-type {\n",
       "        vertical-align: middle;\n",
       "    }\n",
       "\n",
       "    .dataframe tbody tr th {\n",
       "        vertical-align: top;\n",
       "    }\n",
       "\n",
       "    .dataframe thead th {\n",
       "        text-align: right;\n",
       "    }\n",
       "</style>\n",
       "<table border=\"1\" class=\"dataframe\">\n",
       "  <thead>\n",
       "    <tr style=\"text-align: right;\">\n",
       "      <th></th>\n",
       "      <th>userId</th>\n",
       "      <th>productId</th>\n",
       "      <th>score</th>\n",
       "      <th>Rank</th>\n",
       "    </tr>\n",
       "  </thead>\n",
       "  <tbody>\n",
       "    <tr>\n",
       "      <th>30941</th>\n",
       "      <td>A341HCMGNZCBIT</td>\n",
       "      <td>B0088CJT4U</td>\n",
       "      <td>148</td>\n",
       "      <td>1.0</td>\n",
       "    </tr>\n",
       "    <tr>\n",
       "      <th>19646</th>\n",
       "      <td>A341HCMGNZCBIT</td>\n",
       "      <td>B003ES5ZUU</td>\n",
       "      <td>124</td>\n",
       "      <td>2.0</td>\n",
       "    </tr>\n",
       "    <tr>\n",
       "      <th>30384</th>\n",
       "      <td>A341HCMGNZCBIT</td>\n",
       "      <td>B007WTAJTO</td>\n",
       "      <td>111</td>\n",
       "      <td>3.0</td>\n",
       "    </tr>\n",
       "    <tr>\n",
       "      <th>8722</th>\n",
       "      <td>A341HCMGNZCBIT</td>\n",
       "      <td>B000N99BBC</td>\n",
       "      <td>110</td>\n",
       "      <td>4.0</td>\n",
       "    </tr>\n",
       "    <tr>\n",
       "      <th>31215</th>\n",
       "      <td>A341HCMGNZCBIT</td>\n",
       "      <td>B008DWCRQW</td>\n",
       "      <td>102</td>\n",
       "      <td>5.0</td>\n",
       "    </tr>\n",
       "    <tr>\n",
       "      <th>30646</th>\n",
       "      <td>A341HCMGNZCBIT</td>\n",
       "      <td>B00829THK0</td>\n",
       "      <td>101</td>\n",
       "      <td>6.0</td>\n",
       "    </tr>\n",
       "    <tr>\n",
       "      <th>30650</th>\n",
       "      <td>A341HCMGNZCBIT</td>\n",
       "      <td>B00829TIEK</td>\n",
       "      <td>99</td>\n",
       "      <td>7.0</td>\n",
       "    </tr>\n",
       "    <tr>\n",
       "      <th>17398</th>\n",
       "      <td>A341HCMGNZCBIT</td>\n",
       "      <td>B002R5AM7C</td>\n",
       "      <td>95</td>\n",
       "      <td>8.0</td>\n",
       "    </tr>\n",
       "    <tr>\n",
       "      <th>22834</th>\n",
       "      <td>A341HCMGNZCBIT</td>\n",
       "      <td>B004CLYEDC</td>\n",
       "      <td>85</td>\n",
       "      <td>9.0</td>\n",
       "    </tr>\n",
       "    <tr>\n",
       "      <th>24609</th>\n",
       "      <td>A341HCMGNZCBIT</td>\n",
       "      <td>B004T9RR6I</td>\n",
       "      <td>81</td>\n",
       "      <td>10.0</td>\n",
       "    </tr>\n",
       "  </tbody>\n",
       "</table>\n",
       "</div>"
      ],
      "text/plain": [
       "               userId   productId  score  Rank\n",
       "30941  A341HCMGNZCBIT  B0088CJT4U    148   1.0\n",
       "19646  A341HCMGNZCBIT  B003ES5ZUU    124   2.0\n",
       "30384  A341HCMGNZCBIT  B007WTAJTO    111   3.0\n",
       "8722   A341HCMGNZCBIT  B000N99BBC    110   4.0\n",
       "31215  A341HCMGNZCBIT  B008DWCRQW    102   5.0\n",
       "30646  A341HCMGNZCBIT  B00829THK0    101   6.0\n",
       "30650  A341HCMGNZCBIT  B00829TIEK     99   7.0\n",
       "17398  A341HCMGNZCBIT  B002R5AM7C     95   8.0\n",
       "22834  A341HCMGNZCBIT  B004CLYEDC     85   9.0\n",
       "24609  A341HCMGNZCBIT  B004T9RR6I     81  10.0"
      ]
     },
     "execution_count": 43,
     "metadata": {},
     "output_type": "execute_result"
    }
   ],
   "source": [
    "# getting user id at index 20\n",
    "user_id = unique_users_subset[20]\n",
    "# recmmending products for the above declared user\n",
    "popularity_model.recommend(user_id)"
   ]
  },
  {
   "cell_type": "markdown",
   "metadata": {},
   "source": [
    "#### not sure how to calculate RMSE for popularity based recommender model. we didn't get any infrmation abut it in our residency as well. Please clarify on calculating RMSE for popularity based recommender model"
   ]
  },
  {
   "cell_type": "markdown",
   "metadata": {},
   "source": [
    "### Evaluating Collaborative Filtering Model using RMSE"
   ]
  },
  {
   "cell_type": "code",
   "execution_count": 44,
   "metadata": {},
   "outputs": [
    {
     "name": "stdout",
     "output_type": "stream",
     "text": [
      "length of test set:  37762\n"
     ]
    }
   ],
   "source": [
    "print ('length of test set: ',len(testset))"
   ]
  },
  {
   "cell_type": "code",
   "execution_count": 45,
   "metadata": {},
   "outputs": [
    {
     "data": {
      "text/plain": [
       "[('A1GWG5CWLKJ7ET', 'B005INACOS', 4.0),\n",
       " ('A5Q1FK0FWU7DH', 'B002C744K6', 5.0),\n",
       " ('A3SOJO7Z7R9WIA', 'B004JOQSEA', 5.0),\n",
       " ('A2OWR5G2OAQF7C', 'B006ZBWV0K', 4.0),\n",
       " ('AQR4HPVSOPS08', 'B0013V3CC8', 4.0)]"
      ]
     },
     "execution_count": 45,
     "metadata": {},
     "output_type": "execute_result"
    }
   ],
   "source": [
    "testset[0:5]"
   ]
  },
  {
   "cell_type": "code",
   "execution_count": 46,
   "metadata": {},
   "outputs": [
    {
     "data": {
      "text/plain": [
       "[Prediction(uid='A1GWG5CWLKJ7ET', iid='B005INACOS', r_ui=4.0, est=4.406779661016949, details={'actual_k': 0, 'was_impossible': False}),\n",
       " Prediction(uid='A5Q1FK0FWU7DH', iid='B002C744K6', r_ui=5.0, est=4.16, details={'actual_k': 0, 'was_impossible': False}),\n",
       " Prediction(uid='A3SOJO7Z7R9WIA', iid='B004JOQSEA', r_ui=5.0, est=3.411764705882353, details={'actual_k': 0, 'was_impossible': False}),\n",
       " Prediction(uid='A2OWR5G2OAQF7C', iid='B006ZBWV0K', r_ui=4.0, est=4.5, details={'actual_k': 0, 'was_impossible': False}),\n",
       " Prediction(uid='AQR4HPVSOPS08', iid='B0013V3CC8', r_ui=4.0, est=4.63265306122449, details={'actual_k': 0, 'was_impossible': False}),\n",
       " Prediction(uid='A6VXZ1EEPRTLV', iid='B00CIZ2238', r_ui=4.0, est=4.850180122907395, details={'actual_k': 1, 'was_impossible': False}),\n",
       " Prediction(uid='A3V6QSTG2T9MIO', iid='B005RXGZOU', r_ui=3.0, est=3.987675801072931, details={'actual_k': 1, 'was_impossible': False}),\n",
       " Prediction(uid='A16WP8NTPYB0ZM', iid='B0031GNYCQ', r_ui=2.0, est=4.264433826283353, details={'was_impossible': True, 'reason': 'User and/or item is unkown.'}),\n",
       " Prediction(uid='AT53ZTTO707MB', iid='B00BWHILC4', r_ui=5.0, est=4.264433826283353, details={'was_impossible': True, 'reason': 'User and/or item is unkown.'}),\n",
       " Prediction(uid='A16CVJUQOB6GIB', iid='B001KN2ANG', r_ui=5.0, est=4.264433826283353, details={'was_impossible': True, 'reason': 'User and/or item is unkown.'}),\n",
       " Prediction(uid='A3N4VTNFPMTHEF', iid='B0021Y73W6', r_ui=4.0, est=2.2949999999999995, details={'actual_k': 1, 'was_impossible': False}),\n",
       " Prediction(uid='AV8MDYLHHTUOY', iid='B0039NLS3I', r_ui=4.0, est=3.3896571934916127, details={'actual_k': 2, 'was_impossible': False}),\n",
       " Prediction(uid='A20H1M28WLI9J2', iid='B007CL4IEY', r_ui=1.0, est=4.264433826283353, details={'was_impossible': True, 'reason': 'User and/or item is unkown.'}),\n",
       " Prediction(uid='A34CSXOGVYF94S', iid='B00HG1L334', r_ui=5.0, est=4.799719887955183, details={'actual_k': 1, 'was_impossible': False}),\n",
       " Prediction(uid='A3NYBI5VMVEEIK', iid='B0009Y7APU', r_ui=5.0, est=4.148936170212766, details={'actual_k': 0, 'was_impossible': False}),\n",
       " Prediction(uid='A2EN82VBJT44QP', iid='B00A4BR7KG', r_ui=5.0, est=4.4655172413793105, details={'actual_k': 0, 'was_impossible': False}),\n",
       " Prediction(uid='A3HH340REI4J47', iid='B004EBUXHQ', r_ui=5.0, est=4.542857142857143, details={'actual_k': 0, 'was_impossible': False}),\n",
       " Prediction(uid='AGJRUK27RBVYS', iid='B00BBAFUOY', r_ui=5.0, est=4.236363636363636, details={'actual_k': 0, 'was_impossible': False}),\n",
       " Prediction(uid='A2VALCFTOWFYXZ', iid='B007PJ4PKK', r_ui=5.0, est=3.303030303030303, details={'actual_k': 0, 'was_impossible': False}),\n",
       " Prediction(uid='A1J75JJ0Q2OEJN', iid='B0014CT6Q2', r_ui=2.0, est=4.264433826283353, details={'was_impossible': True, 'reason': 'User and/or item is unkown.'}),\n",
       " Prediction(uid='A20G074MWH9U7O', iid='B001CBFTFM', r_ui=5.0, est=4.08, details={'actual_k': 0, 'was_impossible': False}),\n",
       " Prediction(uid='A1SX9PHJWTDMF9', iid='B000928KJM', r_ui=5.0, est=4.264433826283353, details={'was_impossible': True, 'reason': 'User and/or item is unkown.'}),\n",
       " Prediction(uid='A11T807LX2EF00', iid='B000S5OWTM', r_ui=5.0, est=4.264433826283353, details={'was_impossible': True, 'reason': 'User and/or item is unkown.'}),\n",
       " Prediction(uid='AL9WKVMRI6GFB', iid='B005JW6WQU', r_ui=4.0, est=4.069767441860465, details={'actual_k': 0, 'was_impossible': False}),\n",
       " Prediction(uid='A17Z0LVY96TO53', iid='B004RORMF6', r_ui=4.0, est=4.589743589743589, details={'actual_k': 0, 'was_impossible': False}),\n",
       " Prediction(uid='AGXV8E7XK9J6H', iid='B000EPJLGK', r_ui=5.0, est=4.176470588235294, details={'actual_k': 0, 'was_impossible': False}),\n",
       " Prediction(uid='A36IHC0K68NS2', iid='B005QUQP6W', r_ui=4.0, est=2.99352998065764, details={'actual_k': 5, 'was_impossible': False}),\n",
       " Prediction(uid='A28621TSIR5EOG', iid='B000TG4AGU', r_ui=5.0, est=4.875, details={'actual_k': 0, 'was_impossible': False}),\n",
       " Prediction(uid='A27AF4DLLOBQDQ', iid='B00E055H5O', r_ui=4.0, est=4.390243902439025, details={'actual_k': 0, 'was_impossible': False}),\n",
       " Prediction(uid='A1BT6TL7UCIC5Y', iid='B006WHPQE0', r_ui=4.0, est=2.9746079289655274, details={'actual_k': 2, 'was_impossible': False}),\n",
       " Prediction(uid='A16QODENBJVUI1', iid='B00BWL33H8', r_ui=4.0, est=4.120762993045602, details={'actual_k': 2, 'was_impossible': False}),\n",
       " Prediction(uid='A3DGJMO6VPG6FJ', iid='B009X2OS72', r_ui=4.0, est=3.9508196721311477, details={'actual_k': 0, 'was_impossible': False}),\n",
       " Prediction(uid='A32LX4XJ2LU740', iid='B002XZLURC', r_ui=5.0, est=4.2745098039215685, details={'actual_k': 0, 'was_impossible': False}),\n",
       " Prediction(uid='A2WBVO6X3KPMDT', iid='B00965D0SE', r_ui=5.0, est=4.264433826283353, details={'was_impossible': True, 'reason': 'User and/or item is unkown.'}),\n",
       " Prediction(uid='A3E9O1VNJ3U324', iid='B0064DEI50', r_ui=5.0, est=4.717391304347826, details={'actual_k': 0, 'was_impossible': False}),\n",
       " Prediction(uid='A2ZGDHLJ85T6AD', iid='B006C248BC', r_ui=4.0, est=4.484848484848484, details={'actual_k': 0, 'was_impossible': False}),\n",
       " Prediction(uid='AN81JUYW2SL24', iid='B003L76BJS', r_ui=5.0, est=4.181818181818182, details={'actual_k': 0, 'was_impossible': False}),\n",
       " Prediction(uid='A36IHC0K68NS2', iid='B00HMREOLK', r_ui=4.0, est=4.468181818181819, details={'actual_k': 1, 'was_impossible': False}),\n",
       " Prediction(uid='A200RY2ELZL2Q3', iid='B004SBI2PW', r_ui=4.0, est=3.682926829268293, details={'actual_k': 0, 'was_impossible': False}),\n",
       " Prediction(uid='AK3GKIV8DEY8B', iid='B003BYRMGC', r_ui=5.0, est=4.613333333333333, details={'actual_k': 0, 'was_impossible': False}),\n",
       " Prediction(uid='AMUP8DYE7EAN2', iid='B008KEPX1O', r_ui=5.0, est=4.774300616405879, details={'actual_k': 1, 'was_impossible': False}),\n",
       " Prediction(uid='AAXAKFQEAQPWC', iid='B00471UDWI', r_ui=5.0, est=4.434782608695652, details={'actual_k': 0, 'was_impossible': False}),\n",
       " Prediction(uid='A3NEAETOSXDBOM', iid='B0009UFJAM', r_ui=5.0, est=4.264433826283353, details={'was_impossible': True, 'reason': 'User and/or item is unkown.'}),\n",
       " Prediction(uid='AEL6CQNQXONBX', iid='B00CO089XO', r_ui=4.0, est=4.424242424242424, details={'actual_k': 0, 'was_impossible': False}),\n",
       " Prediction(uid='A2Y1WNETD9AYHO', iid='B0029U2YSA', r_ui=3.0, est=4.142857142857143, details={'actual_k': 0, 'was_impossible': False}),\n",
       " Prediction(uid='AHR86ZEYETLJI', iid='B005LFT3GG', r_ui=5.0, est=4.472727272727273, details={'actual_k': 0, 'was_impossible': False}),\n",
       " Prediction(uid='A1XEQGYY1IL8CD', iid='B00BOGOT4M', r_ui=5.0, est=4.264433826283353, details={'was_impossible': True, 'reason': 'User and/or item is unkown.'}),\n",
       " Prediction(uid='AZ515FFZ7I2P7', iid='B002XGUHMU', r_ui=5.0, est=4.264433826283353, details={'was_impossible': True, 'reason': 'User and/or item is unkown.'}),\n",
       " Prediction(uid='A365PBEOWM7EI7', iid='B001MSU1FS', r_ui=3.0, est=4.6190476190476195, details={'actual_k': 1, 'was_impossible': False}),\n",
       " Prediction(uid='A1B0NL8UWAELI7', iid='B003LZRAFO', r_ui=5.0, est=4.264433826283353, details={'was_impossible': True, 'reason': 'User and/or item is unkown.'}),\n",
       " Prediction(uid='A307Y3LMCVEZS1', iid='B001FA09WI', r_ui=5.0, est=3.15, details={'actual_k': 0, 'was_impossible': False}),\n",
       " Prediction(uid='AW6J9IILGOZY3', iid='B0081FLFQE', r_ui=5.0, est=4.545234195476572, details={'actual_k': 4, 'was_impossible': False}),\n",
       " Prediction(uid='ADLVFFE4VBT8', iid='B007B6YPAW', r_ui=4.0, est=3.677940979244339, details={'actual_k': 5, 'was_impossible': False}),\n",
       " Prediction(uid='A1CMD08Z49PGKQ', iid='B00I0S780O', r_ui=5.0, est=4.264433826283353, details={'was_impossible': True, 'reason': 'User and/or item is unkown.'}),\n",
       " Prediction(uid='A2MCRCK1V61FWQ', iid='B0000TNZGW', r_ui=5.0, est=4.264433826283353, details={'was_impossible': True, 'reason': 'User and/or item is unkown.'}),\n",
       " Prediction(uid='A2Q204DY2L7YRP', iid='B004MMEI6Y', r_ui=4.0, est=4.634146341463414, details={'actual_k': 0, 'was_impossible': False}),\n",
       " Prediction(uid='A2NLI1M5K2MQ5E', iid='B0013LRLUM', r_ui=5.0, est=4.653061224489796, details={'actual_k': 0, 'was_impossible': False}),\n",
       " Prediction(uid='A3CJOB7CHOSZUG', iid='B002VPE1Q6', r_ui=5.0, est=4.608695652173913, details={'actual_k': 0, 'was_impossible': False}),\n",
       " Prediction(uid='A14I1F2H7NOYDC', iid='B0082ULKUE', r_ui=5.0, est=4.264433826283353, details={'was_impossible': True, 'reason': 'User and/or item is unkown.'}),\n",
       " Prediction(uid='A34C9AFFZOI45T', iid='B005JWGU6C', r_ui=5.0, est=4.264433826283353, details={'was_impossible': True, 'reason': 'User and/or item is unkown.'}),\n",
       " Prediction(uid='AGR1V15L6FLMA', iid='B009OBCAW2', r_ui=5.0, est=5, details={'actual_k': 1, 'was_impossible': False}),\n",
       " Prediction(uid='A2CWIYIETNBAK3', iid='B004DW3YNQ', r_ui=5.0, est=4.264433826283353, details={'was_impossible': True, 'reason': 'User and/or item is unkown.'}),\n",
       " Prediction(uid='A3NHUQ33CFH3VM', iid='B0092HP3EA', r_ui=4.0, est=5, details={'actual_k': 2, 'was_impossible': False}),\n",
       " Prediction(uid='A1EVV74UQYVKRY', iid='B00HZN1WTI', r_ui=5.0, est=5, details={'actual_k': 1, 'was_impossible': False}),\n",
       " Prediction(uid='A3QNX5KWHDV0GD', iid='B00005NMRX', r_ui=2.0, est=4.264433826283353, details={'was_impossible': True, 'reason': 'User and/or item is unkown.'}),\n",
       " Prediction(uid='A3EX8ZFNVDHGPM', iid='B0095R71FG', r_ui=5.0, est=4.264433826283353, details={'was_impossible': True, 'reason': 'User and/or item is unkown.'}),\n",
       " Prediction(uid='A2V0I904FH7ABY', iid='B000BKJZ9Q', r_ui=4.0, est=3.9600648393751845, details={'actual_k': 1, 'was_impossible': False}),\n",
       " Prediction(uid='A3LQUEB84IR3VO', iid='B0034JW17E', r_ui=5.0, est=4.264433826283353, details={'was_impossible': True, 'reason': 'User and/or item is unkown.'}),\n",
       " Prediction(uid='A14NA0W8ESGDSI', iid='B003Y3BFBI', r_ui=4.0, est=4.323529411764706, details={'actual_k': 0, 'was_impossible': False}),\n",
       " Prediction(uid='A27H0T39U3FZB5', iid='B00GUBPBK2', r_ui=5.0, est=4.045454545454546, details={'actual_k': 0, 'was_impossible': False}),\n",
       " Prediction(uid='A1BT6TL7UCIC5Y', iid='B004MSQZUU', r_ui=3.0, est=3.5827036227373914, details={'actual_k': 5, 'was_impossible': False}),\n",
       " Prediction(uid='A100WO06OQR8BQ', iid='B00004TDRH', r_ui=5.0, est=4.264433826283353, details={'was_impossible': True, 'reason': 'User and/or item is unkown.'}),\n",
       " Prediction(uid='A57Q87B0TC9IJ', iid='B001MVKZOC', r_ui=3.0, est=3.361111111111111, details={'actual_k': 0, 'was_impossible': False}),\n",
       " Prediction(uid='A145LBW8ZHF0TW', iid='B0033DJ3BS', r_ui=5.0, est=4.264433826283353, details={'was_impossible': True, 'reason': 'User and/or item is unkown.'}),\n",
       " Prediction(uid='A3OYO7B6SS7QLH', iid='B000QUUFRW', r_ui=4.0, est=3.232250289198547, details={'actual_k': 3, 'was_impossible': False}),\n",
       " Prediction(uid='A2QIC4G483SQQA', iid='B0042IEVD8', r_ui=5.0, est=4.264433826283353, details={'was_impossible': True, 'reason': 'User and/or item is unkown.'}),\n",
       " Prediction(uid='A2J0IBS4PFRO2C', iid='B002VPE1QG', r_ui=3.0, est=3.65, details={'actual_k': 0, 'was_impossible': False}),\n",
       " Prediction(uid='A4WEZJOIZIV4U', iid='B001CIREXA', r_ui=4.0, est=3.535412466145118, details={'actual_k': 3, 'was_impossible': False}),\n",
       " Prediction(uid='A31HOWJKEIY037', iid='B001UI2FPE', r_ui=5.0, est=4.382352941176471, details={'actual_k': 0, 'was_impossible': False}),\n",
       " Prediction(uid='A26CPEEWB2WKRE', iid='B003VTZFNE', r_ui=1.0, est=4.125, details={'actual_k': 0, 'was_impossible': False}),\n",
       " Prediction(uid='A11YIHB6IW352W', iid='B002QEBMAK', r_ui=5.0, est=4.783783783783784, details={'actual_k': 0, 'was_impossible': False}),\n",
       " Prediction(uid='A25C2M3QF9G7OQ', iid='B0000EZ1KK', r_ui=5.0, est=4.5931372549019605, details={'actual_k': 0, 'was_impossible': False}),\n",
       " Prediction(uid='AG7EF0SVBQOUX', iid='B0019HGU0M', r_ui=4.0, est=4.551282051282051, details={'actual_k': 0, 'was_impossible': False}),\n",
       " Prediction(uid='A1GBU479WXR7UG', iid='B002DE3RYM', r_ui=5.0, est=4.111111111111111, details={'actual_k': 0, 'was_impossible': False}),\n",
       " Prediction(uid='AEJAGHLC675A7', iid='B00168BSEW', r_ui=5.0, est=4.783625730994152, details={'actual_k': 0, 'was_impossible': False}),\n",
       " Prediction(uid='A3QQCEQ33O0GJU', iid='B005UBNLFK', r_ui=5.0, est=4.54054054054054, details={'actual_k': 0, 'was_impossible': False}),\n",
       " Prediction(uid='A3QU3O79AGNWCY', iid='B0007Z6RAA', r_ui=5.0, est=4.375, details={'actual_k': 0, 'was_impossible': False}),\n",
       " Prediction(uid='A1C82BC5GNABOA', iid='B000OEQJSO', r_ui=5.0, est=4.264433826283353, details={'was_impossible': True, 'reason': 'User and/or item is unkown.'}),\n",
       " Prediction(uid='A2M9ME0N2S3R39', iid='B00ESYW40S', r_ui=4.0, est=4.081081081081081, details={'actual_k': 0, 'was_impossible': False}),\n",
       " Prediction(uid='A1V4VVBQBFXRHC', iid='B00091S0WA', r_ui=5.0, est=4.505747126436781, details={'actual_k': 0, 'was_impossible': False}),\n",
       " Prediction(uid='A3FBM0RMCMAABV', iid='B008ULPA2O', r_ui=5.0, est=4.745670596820294, details={'actual_k': 5, 'was_impossible': False}),\n",
       " Prediction(uid='AGYH5U11ZKPFB', iid='B0026713WE', r_ui=5.0, est=4.469387755102041, details={'actual_k': 0, 'was_impossible': False}),\n",
       " Prediction(uid='ADLVFFE4VBT8', iid='B001RNNXQM', r_ui=4.0, est=4.421429343164685, details={'actual_k': 2, 'was_impossible': False}),\n",
       " Prediction(uid='AEZJTA4KDIWY8', iid='B000O8I474', r_ui=5.0, est=4.413043478260869, details={'actual_k': 0, 'was_impossible': False}),\n",
       " Prediction(uid='A2LW5AL0KQ9P1M', iid='B00829THEG', r_ui=5.0, est=4.364936120673595, details={'actual_k': 2, 'was_impossible': False}),\n",
       " Prediction(uid='A6FIAB28IS79', iid='B000HGSL4E', r_ui=5.0, est=4.264433826283353, details={'was_impossible': True, 'reason': 'User and/or item is unkown.'}),\n",
       " Prediction(uid='A35X2JJI49OBZP', iid='B0084V5FOI', r_ui=5.0, est=4.264433826283353, details={'was_impossible': True, 'reason': 'User and/or item is unkown.'}),\n",
       " Prediction(uid='A1FDSZISWIXH1A', iid='B00DO7SEAY', r_ui=5.0, est=4.531914893617022, details={'actual_k': 0, 'was_impossible': False}),\n",
       " Prediction(uid='A2J3VCGBNDLAKF', iid='B000RPTU9K', r_ui=1.0, est=4.264433826283353, details={'was_impossible': True, 'reason': 'User and/or item is unkown.'}),\n",
       " Prediction(uid='AOEAD7DPLZE53', iid='B000QE28O6', r_ui=3.0, est=4.264433826283353, details={'was_impossible': True, 'reason': 'User and/or item is unkown.'}),\n",
       " Prediction(uid='A2L36AGL8CKY3D', iid='B003H7PC2O', r_ui=4.0, est=4.264433826283353, details={'was_impossible': True, 'reason': 'User and/or item is unkown.'}),\n",
       " Prediction(uid='A186697K4XKXQL', iid='B009Z7KMUM', r_ui=5.0, est=3.72467043314501, details={'actual_k': 1, 'was_impossible': False}),\n",
       " Prediction(uid='A4GGT6O0GQNV2', iid='B00HRO3IBA', r_ui=5.0, est=4.384615384615385, details={'actual_k': 0, 'was_impossible': False}),\n",
       " Prediction(uid='A38NELQT98S4H8', iid='B000FCSWX0', r_ui=4.0, est=4.132352941176471, details={'actual_k': 0, 'was_impossible': False}),\n",
       " Prediction(uid='A1QVFHPY8418HC', iid='B000B63KSM', r_ui=5.0, est=4.573333333333333, details={'actual_k': 0, 'was_impossible': False}),\n",
       " Prediction(uid='A1C5TCCR2IGKBU', iid='B00008AWKZ', r_ui=5.0, est=4.176470588235294, details={'actual_k': 0, 'was_impossible': False}),\n",
       " Prediction(uid='A3LWC833HQIG7J', iid='B00004SY5N', r_ui=5.0, est=4.264433826283353, details={'was_impossible': True, 'reason': 'User and/or item is unkown.'}),\n",
       " Prediction(uid='A1M7HP5CHDXXOU', iid='B002PV3UO0', r_ui=5.0, est=4.375, details={'actual_k': 0, 'was_impossible': False}),\n",
       " Prediction(uid='A3QNX5KWHDV0GD', iid='B002MUOOU8', r_ui=2.0, est=4.264433826283353, details={'was_impossible': True, 'reason': 'User and/or item is unkown.'}),\n",
       " Prediction(uid='A1N5FSCYN4796F', iid='B005EOWBHC', r_ui=3.0, est=3.8505747126436782, details={'actual_k': 0, 'was_impossible': False}),\n",
       " Prediction(uid='A16J281SJ9QXIQ', iid='B006UIFTTS', r_ui=5.0, est=4.844444444444444, details={'actual_k': 0, 'was_impossible': False}),\n",
       " Prediction(uid='A10ZBR6O8S8OCY', iid='B0007QN18U', r_ui=5.0, est=4.666666666666667, details={'actual_k': 0, 'was_impossible': False}),\n",
       " Prediction(uid='AI8EMB0HUC6Z5', iid='B00DLKE7OQ', r_ui=5.0, est=5, details={'actual_k': 1, 'was_impossible': False}),\n",
       " Prediction(uid='AHF4I1FSIHABC', iid='B0064FS7HI', r_ui=5.0, est=4.571428571428571, details={'actual_k': 0, 'was_impossible': False}),\n",
       " Prediction(uid='A3F7F7QKQP2FKT', iid='B005WSTKC4', r_ui=4.0, est=4.264433826283353, details={'was_impossible': True, 'reason': 'User and/or item is unkown.'}),\n",
       " Prediction(uid='AZAC8O310IK4E', iid='B003VAHYNC', r_ui=5.0, est=4.827150537634409, details={'actual_k': 1, 'was_impossible': False}),\n",
       " Prediction(uid='A1U4GOVZWL8ZTL', iid='B0029X8K1M', r_ui=5.0, est=4.264433826283353, details={'was_impossible': True, 'reason': 'User and/or item is unkown.'}),\n",
       " Prediction(uid='A1KD8NJPZ01R37', iid='B00005T3JE', r_ui=4.0, est=4.264433826283353, details={'was_impossible': True, 'reason': 'User and/or item is unkown.'}),\n",
       " Prediction(uid='A1HBEQWSMVQEWJ', iid='B00EDIU5IW', r_ui=5.0, est=3.8333333333333335, details={'actual_k': 0, 'was_impossible': False}),\n",
       " Prediction(uid='A26KXNN6H1IL0I', iid='B003L1ZYZ6', r_ui=5.0, est=5, details={'actual_k': 1, 'was_impossible': False}),\n",
       " Prediction(uid='A1PV5T5S4D5NPI', iid='B005KOZNBW', r_ui=5.0, est=4.741935483870968, details={'actual_k': 0, 'was_impossible': False}),\n",
       " Prediction(uid='A1U5IJHJK84S54', iid='B005IUV60U', r_ui=4.0, est=4.264433826283353, details={'was_impossible': True, 'reason': 'User and/or item is unkown.'}),\n",
       " Prediction(uid='AC6Z7DP1Z5GHD', iid='B0029AWS6S', r_ui=4.0, est=4.264433826283353, details={'was_impossible': True, 'reason': 'User and/or item is unkown.'}),\n",
       " Prediction(uid='A3SX5MZTCZRQLF', iid='B00BEHRQB4', r_ui=5.0, est=4.796188747731398, details={'actual_k': 1, 'was_impossible': False}),\n",
       " Prediction(uid='A3O5ASFUXC32UA', iid='B005IHAIEI', r_ui=5.0, est=4.228571428571429, details={'actual_k': 0, 'was_impossible': False}),\n",
       " Prediction(uid='AEWYUPCNDV7HY', iid='B00BWL33H8', r_ui=5.0, est=4.110091743119266, details={'actual_k': 0, 'was_impossible': False}),\n",
       " Prediction(uid='A31ICLWQ9CSHRS', iid='B009OZUPUC', r_ui=4.0, est=5, details={'actual_k': 2, 'was_impossible': False}),\n",
       " Prediction(uid='A195EZSQDW3E21', iid='B00895FCLK', r_ui=5.0, est=4.264433826283353, details={'was_impossible': True, 'reason': 'User and/or item is unkown.'}),\n",
       " Prediction(uid='A3OA4DV4L81N1D', iid='B002V88HFE', r_ui=5.0, est=4.904203932223858, details={'actual_k': 2, 'was_impossible': False}),\n",
       " Prediction(uid='A1F1A0QQP2XVH5', iid='B000HPV3RW', r_ui=5.0, est=4.392148760330579, details={'actual_k': 1, 'was_impossible': False}),\n",
       " Prediction(uid='A3F7F7QKQP2FKT', iid='B00466ZAOA', r_ui=4.0, est=4.264433826283353, details={'was_impossible': True, 'reason': 'User and/or item is unkown.'}),\n",
       " Prediction(uid='A3S0DBBR693O06', iid='B004ZMVNLO', r_ui=5.0, est=4.264433826283353, details={'was_impossible': True, 'reason': 'User and/or item is unkown.'}),\n",
       " Prediction(uid='A1PEXTGNF36I1Q', iid='B000IJY8DS', r_ui=5.0, est=4.690476190476191, details={'actual_k': 0, 'was_impossible': False}),\n",
       " Prediction(uid='A23ZNGL704AW7O', iid='B00008A91B', r_ui=3.0, est=4.264433826283353, details={'was_impossible': True, 'reason': 'User and/or item is unkown.'}),\n",
       " Prediction(uid='AWJWCKB92RJX2', iid='B000U9WVW6', r_ui=4.0, est=3.813953488372093, details={'actual_k': 0, 'was_impossible': False}),\n",
       " Prediction(uid='A1IBKN1GXYJ3K4', iid='B00079F7L6', r_ui=5.0, est=4.264433826283353, details={'was_impossible': True, 'reason': 'User and/or item is unkown.'}),\n",
       " Prediction(uid='A1GYEGLX3P2Y7P', iid='B00FG38L16', r_ui=4.0, est=4.457082040852957, details={'actual_k': 4, 'was_impossible': False}),\n",
       " Prediction(uid='A361U4SXK7FCQE', iid='B006ZBWV0K', r_ui=5.0, est=3.871650485436893, details={'actual_k': 1, 'was_impossible': False}),\n",
       " Prediction(uid='AFR9GYKAHM37U', iid='B000KO0GY6', r_ui=5.0, est=4.72, details={'actual_k': 0, 'was_impossible': False}),\n",
       " Prediction(uid='A10X9ME6R66JDX', iid='B005E2K8K6', r_ui=5.0, est=4.659574468085107, details={'actual_k': 0, 'was_impossible': False}),\n",
       " Prediction(uid='A2L90SGUP36KGA', iid='B003FX1IS2', r_ui=4.0, est=4.264433826283353, details={'was_impossible': True, 'reason': 'User and/or item is unkown.'}),\n",
       " Prediction(uid='A1BBYSMT9YCODI', iid='B00EPQ97C2', r_ui=5.0, est=3.849056603773585, details={'actual_k': 0, 'was_impossible': False}),\n",
       " Prediction(uid='AM8W6Y3HVXLZT', iid='B002HEWA28', r_ui=3.0, est=4.462710084033613, details={'actual_k': 1, 'was_impossible': False}),\n",
       " Prediction(uid='A23GFTVIETX7DS', iid='B000065BP9', r_ui=5.0, est=4.380434782608695, details={'actual_k': 0, 'was_impossible': False}),\n",
       " Prediction(uid='A3LWC833HQIG7J', iid='B00004T8R2', r_ui=5.0, est=4.306666666666667, details={'actual_k': 0, 'was_impossible': False}),\n",
       " Prediction(uid='AMS2CPERWN7JV', iid='B00AR95EVE', r_ui=5.0, est=4.384615384615385, details={'actual_k': 0, 'was_impossible': False}),\n",
       " Prediction(uid='A19XPAWSWDRI3B', iid='B0046SHLBI', r_ui=4.0, est=4.488372093023256, details={'actual_k': 0, 'was_impossible': False}),\n",
       " Prediction(uid='AWPODHOB4GFWL', iid='B00E8CF0CE', r_ui=4.0, est=5, details={'actual_k': 2, 'was_impossible': False}),\n",
       " Prediction(uid='A1J75JJ0Q2OEJN', iid='B0079TOG82', r_ui=4.0, est=3.052885848029823, details={'actual_k': 3, 'was_impossible': False}),\n",
       " Prediction(uid='A3IY316DRNF5F2', iid='B004XIT4NO', r_ui=4.0, est=4.0, details={'actual_k': 0, 'was_impossible': False}),\n",
       " Prediction(uid='A1QVFHPY8418HC', iid='B001IWOBA4', r_ui=2.0, est=4.704206795914113, details={'actual_k': 2, 'was_impossible': False}),\n",
       " Prediction(uid='A3OA4DV4L81N1D', iid='B0014E7V0S', r_ui=3.0, est=4.264433826283353, details={'was_impossible': True, 'reason': 'User and/or item is unkown.'}),\n",
       " Prediction(uid='A2MIP3AQVSF2SS', iid='B005JE3VYY', r_ui=5.0, est=4.631578947368421, details={'actual_k': 0, 'was_impossible': False}),\n",
       " Prediction(uid='AWPODHOB4GFWL', iid='B00GAXEUOS', r_ui=4.0, est=2.997607349368442, details={'actual_k': 2, 'was_impossible': False}),\n",
       " Prediction(uid='A11I1I9QLMAM1A', iid='B000EREM5I', r_ui=3.0, est=4.464516129032258, details={'actual_k': 0, 'was_impossible': False}),\n",
       " Prediction(uid='AW5JSQCHC2ZJO', iid='B008M0NDRM', r_ui=4.0, est=4.321428571428571, details={'actual_k': 0, 'was_impossible': False}),\n",
       " Prediction(uid='AT28RL25Q2OLK', iid='B00KCQISWY', r_ui=4.0, est=4.252032520325203, details={'actual_k': 0, 'was_impossible': False}),\n",
       " Prediction(uid='A2PREU4LOFQRB1', iid='B004WO8HQ4', r_ui=4.0, est=5, details={'actual_k': 1, 'was_impossible': False}),\n",
       " Prediction(uid='A1YEPFLLH42OU1', iid='B0043WJRRS', r_ui=5.0, est=5, details={'actual_k': 2, 'was_impossible': False}),\n",
       " Prediction(uid='A3UW0PQLDUACMH', iid='B00BVQXFZY', r_ui=5.0, est=4.6571428571428575, details={'actual_k': 0, 'was_impossible': False}),\n",
       " Prediction(uid='AN9CP6J4JF91X', iid='B000YBH4YU', r_ui=5.0, est=4.5227272727272725, details={'actual_k': 0, 'was_impossible': False}),\n",
       " Prediction(uid='AM3XNQU9TZBD8', iid='B003B3P2C4', r_ui=4.0, est=4.430400259277265, details={'actual_k': 1, 'was_impossible': False}),\n",
       " Prediction(uid='A24HWYHR28JJ7A', iid='B005DM9BGE', r_ui=5.0, est=4.488372093023256, details={'actual_k': 0, 'was_impossible': False}),\n",
       " Prediction(uid='A3V7D0LH8L7BG0', iid='B008YDUTRO', r_ui=5.0, est=3.308006380143669, details={'actual_k': 3, 'was_impossible': False}),\n",
       " Prediction(uid='A39K52QDP4C3ZS', iid='B003A7C9WM', r_ui=5.0, est=4.615384615384615, details={'actual_k': 0, 'was_impossible': False}),\n",
       " Prediction(uid='ACHTDPEQYSEQL', iid='B000196C2A', r_ui=5.0, est=3.8833333333333333, details={'actual_k': 0, 'was_impossible': False}),\n",
       " Prediction(uid='A3TRY87JJCA5Y8', iid='B001HZI2ZC', r_ui=2.0, est=4.224489795918367, details={'actual_k': 0, 'was_impossible': False}),\n",
       " Prediction(uid='A1J75JJ0Q2OEJN', iid='B0034CL2ZI', r_ui=5.0, est=3.6950960213232302, details={'actual_k': 5, 'was_impossible': False}),\n",
       " Prediction(uid='A17BUUBOU0598B', iid='B0043TV8QO', r_ui=3.0, est=3.0600000000000005, details={'actual_k': 1, 'was_impossible': False}),\n",
       " Prediction(uid='A1VHCO8RQFIGQJ', iid='B000KO0GY6', r_ui=4.0, est=5, details={'actual_k': 3, 'was_impossible': False}),\n",
       " Prediction(uid='A7UPJYPAH73NC', iid='B00DRA47FE', r_ui=3.0, est=4.36734693877551, details={'actual_k': 0, 'was_impossible': False}),\n",
       " Prediction(uid='A30KPB2ILF6K6J', iid='B001CCLBSA', r_ui=5.0, est=4.486486486486487, details={'actual_k': 0, 'was_impossible': False}),\n",
       " Prediction(uid='A1MEISNED4NP7U', iid='B007SZ0E1K', r_ui=5.0, est=5, details={'actual_k': 1, 'was_impossible': False}),\n",
       " Prediction(uid='AGJRUK27RBVYS', iid='B006ZH0L2E', r_ui=5.0, est=4.236363636363636, details={'actual_k': 0, 'was_impossible': False}),\n",
       " Prediction(uid='A38KK0SZYEH5UD', iid='B0092U3TKC', r_ui=3.0, est=3.328784512853062, details={'actual_k': 1, 'was_impossible': False}),\n",
       " Prediction(uid='A15G70V9OBTOVO', iid='B00K8942SO', r_ui=4.0, est=4.107694549693967, details={'actual_k': 1, 'was_impossible': False}),\n",
       " Prediction(uid='A3EPJSPH03AS29', iid='B00180F394', r_ui=5.0, est=4.264433826283353, details={'was_impossible': True, 'reason': 'User and/or item is unkown.'}),\n",
       " Prediction(uid='AQM0K7MBBT4AY', iid='B000CCXCYC', r_ui=5.0, est=4.108695652173913, details={'actual_k': 0, 'was_impossible': False}),\n",
       " Prediction(uid='AAR7CEPXYJA0T', iid='B0033160U2', r_ui=5.0, est=3.393429630980239, details={'actual_k': 2, 'was_impossible': False}),\n",
       " Prediction(uid='A3DQWFWINN3V5A', iid='B000FTTNIQ', r_ui=5.0, est=4.105263157894737, details={'actual_k': 0, 'was_impossible': False}),\n",
       " Prediction(uid='AH5BCMZELZSKG', iid='B004FLCI9G', r_ui=3.0, est=4.264433826283353, details={'was_impossible': True, 'reason': 'User and/or item is unkown.'}),\n",
       " Prediction(uid='A2NB2E5DXE319Z', iid='B0088PPFP4', r_ui=2.0, est=3.8795884939480785, details={'actual_k': 3, 'was_impossible': False}),\n",
       " Prediction(uid='A15J71JLC29KPW', iid='B000063574', r_ui=5.0, est=4.2682926829268295, details={'actual_k': 0, 'was_impossible': False}),\n",
       " Prediction(uid='A27Y4OEC9MD9PA', iid='B0023ZK2TY', r_ui=5.0, est=4.921052631578948, details={'actual_k': 0, 'was_impossible': False}),\n",
       " Prediction(uid='A10NMELR4KX0J6', iid='B0038YGQTO', r_ui=5.0, est=4.264433826283353, details={'was_impossible': True, 'reason': 'User and/or item is unkown.'}),\n",
       " Prediction(uid='A19UTUEBWKIZFT', iid='B008X9Z8NE', r_ui=5.0, est=4.571419694185367, details={'actual_k': 5, 'was_impossible': False}),\n",
       " Prediction(uid='A1X2LENOF84LCQ', iid='B000NK76BS', r_ui=5.0, est=4.264433826283353, details={'was_impossible': True, 'reason': 'User and/or item is unkown.'}),\n",
       " Prediction(uid='A2OBDNQ5ZYU1L8', iid='B00AQ2BRXQ', r_ui=1.0, est=4.313432835820896, details={'actual_k': 0, 'was_impossible': False}),\n",
       " Prediction(uid='A3REK3OFONWB1Q', iid='B003VTZ0DY', r_ui=5.0, est=4.264433826283353, details={'was_impossible': True, 'reason': 'User and/or item is unkown.'}),\n",
       " Prediction(uid='A11LNPG39A2ZV4', iid='B00AXX0I88', r_ui=4.0, est=4.333333333333333, details={'actual_k': 0, 'was_impossible': False}),\n",
       " Prediction(uid='A3DL29NLZ7SXXG', iid='B000ZKAXO8', r_ui=5.0, est=4.264433826283353, details={'was_impossible': True, 'reason': 'User and/or item is unkown.'}),\n",
       " Prediction(uid='ATDQ9CGCWTT8D', iid='B0034KO59U', r_ui=5.0, est=4.219512195121951, details={'actual_k': 0, 'was_impossible': False}),\n",
       " Prediction(uid='A2T689YVOAYGGD', iid='B000053HC5', r_ui=5.0, est=4.2063492063492065, details={'actual_k': 0, 'was_impossible': False}),\n",
       " Prediction(uid='A1EVV74UQYVKRY', iid='B003SX0NF8', r_ui=4.0, est=3.2318840579710146, details={'actual_k': 1, 'was_impossible': False}),\n",
       " Prediction(uid='A1AKW788238PWQ', iid='B004NMLB68', r_ui=5.0, est=4.264433826283353, details={'was_impossible': True, 'reason': 'User and/or item is unkown.'}),\n",
       " Prediction(uid='AWPODHOB4GFWL', iid='B00005V14C', r_ui=5.0, est=4.408256880733945, details={'actual_k': 0, 'was_impossible': False}),\n",
       " Prediction(uid='A35SNSDRNE9P8Q', iid='B003VIQ4TO', r_ui=5.0, est=4.264433826283353, details={'was_impossible': True, 'reason': 'User and/or item is unkown.'}),\n",
       " Prediction(uid='AMVXR3NPL0GWX', iid='B003TLSXMO', r_ui=5.0, est=4.357142857142857, details={'actual_k': 0, 'was_impossible': False}),\n",
       " Prediction(uid='A35HOUWHAYZZN6', iid='B0054L8MR8', r_ui=5.0, est=3.871794871794872, details={'actual_k': 0, 'was_impossible': False}),\n",
       " Prediction(uid='A2M9ME0N2S3R39', iid='B005OAZCJ0', r_ui=5.0, est=4.264433826283353, details={'was_impossible': True, 'reason': 'User and/or item is unkown.'}),\n",
       " Prediction(uid='A2GKMXRLI7KLFP', iid='B003GJL5U6', r_ui=5.0, est=4.264433826283353, details={'was_impossible': True, 'reason': 'User and/or item is unkown.'}),\n",
       " Prediction(uid='ABIVKBMSIPEDY', iid='B008PWUWLC', r_ui=4.0, est=3.8823529411764706, details={'actual_k': 0, 'was_impossible': False}),\n",
       " Prediction(uid='A2Z2MUP8JRJXEU', iid='B000JMJWV2', r_ui=5.0, est=4.5, details={'actual_k': 0, 'was_impossible': False}),\n",
       " Prediction(uid='A27ADCSD15F3GL', iid='B007YXA5TC', r_ui=4.0, est=4.079365079365079, details={'actual_k': 0, 'was_impossible': False}),\n",
       " Prediction(uid='A386LG0LRWKJZP', iid='B002K0TU2C', r_ui=3.0, est=2.7333333333333334, details={'actual_k': 0, 'was_impossible': False}),\n",
       " Prediction(uid='A2K6CDQ9HZ359G', iid='B005LLUCEM', r_ui=4.0, est=4.264433826283353, details={'was_impossible': True, 'reason': 'User and/or item is unkown.'}),\n",
       " Prediction(uid='AYMD77ITD15PT', iid='B000EPLP3C', r_ui=1.0, est=4.2835820895522385, details={'actual_k': 0, 'was_impossible': False}),\n",
       " Prediction(uid='A19W47CXJJP1MI', iid='B00EH5UGR6', r_ui=4.0, est=5, details={'actual_k': 3, 'was_impossible': False}),\n",
       " Prediction(uid='A31RZMVAFMLB8B', iid='B0019BCLWY', r_ui=2.0, est=3.9473684210526314, details={'actual_k': 0, 'was_impossible': False}),\n",
       " Prediction(uid='A680RUE1FDO8B', iid='B000JJSQCG', r_ui=5.0, est=4.264433826283353, details={'was_impossible': True, 'reason': 'User and/or item is unkown.'}),\n",
       " Prediction(uid='A3OXHLG6DIBRW8', iid='B003LL1S38', r_ui=5.0, est=4.264433826283353, details={'was_impossible': True, 'reason': 'User and/or item is unkown.'}),\n",
       " Prediction(uid='AOMEH9W6LHC4S', iid='B006MPUTBC', r_ui=4.0, est=4.079545454545454, details={'actual_k': 0, 'was_impossible': False}),\n",
       " Prediction(uid='A1N5FSCYN4796F', iid='B001TUYTZM', r_ui=4.0, est=4.15669716162327, details={'actual_k': 1, 'was_impossible': False}),\n",
       " Prediction(uid='A1VLVWTLV3LVHR', iid='B0040702HA', r_ui=5.0, est=3.946677604593929, details={'actual_k': 1, 'was_impossible': False}),\n",
       " Prediction(uid='A3OA4DV4L81N1D', iid='B004QTKDOY', r_ui=5.0, est=4.264433826283353, details={'was_impossible': True, 'reason': 'User and/or item is unkown.'}),\n",
       " Prediction(uid='A54S9CIUV5VNB', iid='B005GMWFXM', r_ui=4.0, est=4.264433826283353, details={'was_impossible': True, 'reason': 'User and/or item is unkown.'}),\n",
       " Prediction(uid='A1T1YSCDW0PD25', iid='B0036TFXVS', r_ui=4.0, est=4.264433826283353, details={'was_impossible': True, 'reason': 'User and/or item is unkown.'}),\n",
       " Prediction(uid='A1PN2U0AWXGVML', iid='B007WTAJTO', r_ui=5.0, est=4.5964912280701755, details={'actual_k': 0, 'was_impossible': False}),\n",
       " Prediction(uid='A3L1VJMHFWONCB', iid='B000HJ5CJS', r_ui=3.0, est=4.264433826283353, details={'was_impossible': True, 'reason': 'User and/or item is unkown.'}),\n",
       " Prediction(uid='AY3XPKRAMKKY7', iid='B00005NIMJ', r_ui=4.0, est=4.282608695652174, details={'actual_k': 0, 'was_impossible': False}),\n",
       " Prediction(uid='AO8NH0BV82XIE', iid='B004UC4HCG', r_ui=5.0, est=4.264433826283353, details={'was_impossible': True, 'reason': 'User and/or item is unkown.'}),\n",
       " Prediction(uid='AXU8RH1DEV21H', iid='B000F0ELOG', r_ui=5.0, est=4.848484848484849, details={'actual_k': 0, 'was_impossible': False}),\n",
       " Prediction(uid='A1ODOGXEYECQQ8', iid='B00A1DJO12', r_ui=4.0, est=4.456667065702185, details={'actual_k': 4, 'was_impossible': False}),\n",
       " Prediction(uid='A28621TSIR5EOG', iid='B005CT56F8', r_ui=5.0, est=4.875, details={'actual_k': 0, 'was_impossible': False}),\n",
       " Prediction(uid='AGEKVD8JPZQMT', iid='B00006HWX4', r_ui=2.0, est=4.264433826283353, details={'was_impossible': True, 'reason': 'User and/or item is unkown.'}),\n",
       " Prediction(uid='A212MDP6K4VJS5', iid='B000RN3EN0', r_ui=5.0, est=4.264433826283353, details={'was_impossible': True, 'reason': 'User and/or item is unkown.'}),\n",
       " Prediction(uid='A3AYSYSLHU26U9', iid='B003FMUMN0', r_ui=4.0, est=5, details={'actual_k': 2, 'was_impossible': False}),\n",
       " Prediction(uid='A3872Y2XH0YDX1', iid='B004LRO7FW', r_ui=5.0, est=4.264433826283353, details={'was_impossible': True, 'reason': 'User and/or item is unkown.'}),\n",
       " Prediction(uid='A17BUUBOU0598B', iid='B0025VKUPW', r_ui=3.0, est=3.4171428571428573, details={'actual_k': 0, 'was_impossible': False}),\n",
       " Prediction(uid='A2XCCN239AR1XK', iid='B004SBBD8U', r_ui=5.0, est=5, details={'actual_k': 1, 'was_impossible': False}),\n",
       " Prediction(uid='A10H24TDLK2VDP', iid='B0067MK1TU', r_ui=5.0, est=4.552631578947368, details={'actual_k': 0, 'was_impossible': False}),\n",
       " Prediction(uid='A1EKSETIBS9ETQ', iid='B003S6ID20', r_ui=4.0, est=4.233009708737864, details={'actual_k': 0, 'was_impossible': False}),\n",
       " Prediction(uid='A10Y058K7B96C6', iid='B000RY2PLQ', r_ui=5.0, est=4.416666666666667, details={'actual_k': 0, 'was_impossible': False}),\n",
       " Prediction(uid='A2D1ZQEFS1NBH2', iid='B0014IM2RQ', r_ui=5.0, est=4.2272727272727275, details={'actual_k': 0, 'was_impossible': False}),\n",
       " Prediction(uid='A2PJH18W4XHTZW', iid='B00A6288II', r_ui=5.0, est=4.333333333333333, details={'actual_k': 0, 'was_impossible': False}),\n",
       " Prediction(uid='A24ARANWS5E3T8', iid='B00006I53S', r_ui=4.0, est=4.405405405405405, details={'actual_k': 0, 'was_impossible': False}),\n",
       " Prediction(uid='A3J3ZHGDUDPCFL', iid='B0016P5ASK', r_ui=4.0, est=4.583333333333333, details={'actual_k': 0, 'was_impossible': False}),\n",
       " Prediction(uid='A2OT3PDH1AWLTG', iid='B005CT56F8', r_ui=5.0, est=4.75, details={'actual_k': 0, 'was_impossible': False}),\n",
       " Prediction(uid='A3MMR2WDKAK0PA', iid='B00170O2Q0', r_ui=5.0, est=4.264433826283353, details={'was_impossible': True, 'reason': 'User and/or item is unkown.'}),\n",
       " Prediction(uid='A2HRHF83I3NDGT', iid='B008HK50ZA', r_ui=5.0, est=4.807228915662651, details={'actual_k': 0, 'was_impossible': False}),\n",
       " Prediction(uid='A27QXQQOLAMRRR', iid='B004I5BUSO', r_ui=4.0, est=3.893609022556391, details={'actual_k': 1, 'was_impossible': False}),\n",
       " Prediction(uid='A2FXBWR4T4OFQ', iid='B000V06UHQ', r_ui=5.0, est=4.76, details={'actual_k': 0, 'was_impossible': False}),\n",
       " Prediction(uid='A3FS3FJPD3RJTD', iid='B003UYU16G', r_ui=3.0, est=4.230769230769231, details={'actual_k': 0, 'was_impossible': False}),\n",
       " Prediction(uid='AUK79PXTAOJP9', iid='B0050EMAPY', r_ui=5.0, est=4.264433826283353, details={'was_impossible': True, 'reason': 'User and/or item is unkown.'}),\n",
       " Prediction(uid='AGEKVD8JPZQMT', iid='B008X9Z528', r_ui=3.0, est=3.872900164782265, details={'actual_k': 5, 'was_impossible': False}),\n",
       " Prediction(uid='A18HE80910BTZI', iid='B00829THK0', r_ui=4.0, est=3.697429332381452, details={'actual_k': 5, 'was_impossible': False}),\n",
       " Prediction(uid='A1987V5OCO6QHS', iid='B007SEZTF2', r_ui=3.0, est=4.264433826283353, details={'was_impossible': True, 'reason': 'User and/or item is unkown.'}),\n",
       " Prediction(uid='AEWYUPCNDV7HY', iid='B002VPE1X4', r_ui=5.0, est=4.2657054165100075, details={'actual_k': 2, 'was_impossible': False}),\n",
       " Prediction(uid='A1SFPA80X7TRBR', iid='B000VZS2EU', r_ui=5.0, est=4.615384615384615, details={'actual_k': 0, 'was_impossible': False}),\n",
       " Prediction(uid='A2LFWJ8X817QGX', iid='B007QXLIWI', r_ui=5.0, est=2.921052631578947, details={'actual_k': 1, 'was_impossible': False}),\n",
       " Prediction(uid='AY6A8KPYCE6B0', iid='B00834SJNA', r_ui=5.0, est=4.028165321570829, details={'actual_k': 5, 'was_impossible': False}),\n",
       " Prediction(uid='A20DDH4NT6Q1E8', iid='B002ZLOR38', r_ui=5.0, est=4.5, details={'actual_k': 0, 'was_impossible': False}),\n",
       " Prediction(uid='A1L5TA5UQF7EWE', iid='B008AHVA4A', r_ui=5.0, est=4.264433826283353, details={'was_impossible': True, 'reason': 'User and/or item is unkown.'}),\n",
       " Prediction(uid='A1XXMNLOLKNO0I', iid='B009CXV834', r_ui=5.0, est=4.264433826283353, details={'was_impossible': True, 'reason': 'User and/or item is unkown.'}),\n",
       " Prediction(uid='A1VQHH85U7PX0', iid='B0036Q7MV0', r_ui=5.0, est=5, details={'actual_k': 1, 'was_impossible': False}),\n",
       " Prediction(uid='A20DDH4NT6Q1E8', iid='B00BPHH8MA', r_ui=3.0, est=4.035483870967742, details={'actual_k': 1, 'was_impossible': False}),\n",
       " Prediction(uid='A1QNYLBG73QRNF', iid='B006B7R3Y2', r_ui=4.0, est=4.264433826283353, details={'was_impossible': True, 'reason': 'User and/or item is unkown.'}),\n",
       " Prediction(uid='AP2NZAALUQKF5', iid='B00GWTSL7M', r_ui=5.0, est=4.264433826283353, details={'was_impossible': True, 'reason': 'User and/or item is unkown.'}),\n",
       " Prediction(uid='A2OT3PDH1AWLTG', iid='B000A3XRSO', r_ui=5.0, est=4.75, details={'actual_k': 0, 'was_impossible': False}),\n",
       " Prediction(uid='A203OCQQ12MAVT', iid='B000068O1A', r_ui=5.0, est=4.46067415730337, details={'actual_k': 0, 'was_impossible': False}),\n",
       " Prediction(uid='A2XA8CW5DF4MNZ', iid='B000EBK3FW', r_ui=5.0, est=4.611111111111111, details={'actual_k': 0, 'was_impossible': False}),\n",
       " Prediction(uid='A1MRPX3RM48T2I', iid='B005XULTG6', r_ui=5.0, est=4.431818181818182, details={'actual_k': 0, 'was_impossible': False}),\n",
       " Prediction(uid='A2YRX8J4WM5BRX', iid='B001TZWNF0', r_ui=5.0, est=4.9, details={'actual_k': 0, 'was_impossible': False}),\n",
       " Prediction(uid='A3J3ZHGDUDPCFL', iid='B004DMNT2W', r_ui=5.0, est=3.857142857142857, details={'actual_k': 2, 'was_impossible': False}),\n",
       " Prediction(uid='A2VAD79S4A06DD', iid='B00452UX8S', r_ui=5.0, est=4.65, details={'actual_k': 0, 'was_impossible': False}),\n",
       " Prediction(uid='A1R76R4E6A8S3B', iid='B00CD1PTF0', r_ui=3.0, est=4.095238095238095, details={'actual_k': 0, 'was_impossible': False}),\n",
       " Prediction(uid='AW5JSQCHC2ZJO', iid='B005FVNGRI', r_ui=5.0, est=4.321428571428571, details={'actual_k': 0, 'was_impossible': False}),\n",
       " Prediction(uid='A2XCCN239AR1XK', iid='B004CLYEE6', r_ui=4.0, est=4.769239789494597, details={'actual_k': 5, 'was_impossible': False}),\n",
       " Prediction(uid='A28UMA3GW9L124', iid='B003334J6M', r_ui=4.0, est=4.264433826283353, details={'was_impossible': True, 'reason': 'User and/or item is unkown.'}),\n",
       " Prediction(uid='A3KZEGBTPH6MMF', iid='B00829TIEK', r_ui=5.0, est=4.94732019638574, details={'actual_k': 5, 'was_impossible': False}),\n",
       " Prediction(uid='A110VKXAVLAYKY', iid='B00009VQJ7', r_ui=4.0, est=4.35, details={'actual_k': 0, 'was_impossible': False}),\n",
       " Prediction(uid='A1F5O1USOUOOXI', iid='B00C5DN9E4', r_ui=4.0, est=4.409090909090909, details={'actual_k': 0, 'was_impossible': False}),\n",
       " Prediction(uid='A2YYHSORXIHZCS', iid='B001X017G2', r_ui=5.0, est=4.4, details={'actual_k': 0, 'was_impossible': False}),\n",
       " Prediction(uid='A1J87SYB3JPQWH', iid='B0002TKGZS', r_ui=5.0, est=4.264433826283353, details={'was_impossible': True, 'reason': 'User and/or item is unkown.'}),\n",
       " Prediction(uid='A25HBO5V8S8SEA', iid='B00006BA0B', r_ui=5.0, est=4.264433826283353, details={'was_impossible': True, 'reason': 'User and/or item is unkown.'}),\n",
       " Prediction(uid='A2294LS59GC5K7', iid='B000V3H0OA', r_ui=5.0, est=4.264433826283353, details={'was_impossible': True, 'reason': 'User and/or item is unkown.'}),\n",
       " Prediction(uid='A1Y4EWMUTW73GD', iid='B0001DBEM4', r_ui=5.0, est=4.534883720930233, details={'actual_k': 0, 'was_impossible': False}),\n",
       " Prediction(uid='A3HRDRQ5VAFPQS', iid='B000P0RPX0', r_ui=2.0, est=4.264433826283353, details={'was_impossible': True, 'reason': 'User and/or item is unkown.'}),\n",
       " Prediction(uid='A18S2VGUH9SCV5', iid='B00A0JUNYY', r_ui=5.0, est=3.6006726324811273, details={'actual_k': 5, 'was_impossible': False}),\n",
       " Prediction(uid='A3S3R88HA0HZG3', iid='B003ZU0WCI', r_ui=5.0, est=4.264433826283353, details={'was_impossible': True, 'reason': 'User and/or item is unkown.'}),\n",
       " Prediction(uid='A1FXT4VNDA25LY', iid='B0007WVAA0', r_ui=4.0, est=4.264433826283353, details={'was_impossible': True, 'reason': 'User and/or item is unkown.'}),\n",
       " Prediction(uid='A26SO3TOT2TLJE', iid='B007ILFFS6', r_ui=5.0, est=4.825275706526742, details={'actual_k': 3, 'was_impossible': False}),\n",
       " Prediction(uid='A3G5MOHY1U635N', iid='B00829TIA4', r_ui=5.0, est=4.64812769408246, details={'actual_k': 2, 'was_impossible': False}),\n",
       " Prediction(uid='A19RGDJPNZ7NZ', iid='B000FZXHGO', r_ui=5.0, est=4.132352941176471, details={'actual_k': 0, 'was_impossible': False}),\n",
       " Prediction(uid='A1CYTBE7LLUQ8F', iid='B001EZRJZE', r_ui=5.0, est=4.590909090909091, details={'actual_k': 0, 'was_impossible': False}),\n",
       " Prediction(uid='A6KL17KKN0A5L', iid='B000PNGM18', r_ui=5.0, est=4.7727272727272725, details={'actual_k': 0, 'was_impossible': False}),\n",
       " Prediction(uid='A3BKNXX8QFIXIV', iid='B00EUFP39E', r_ui=4.0, est=3.4271550830208697, details={'actual_k': 2, 'was_impossible': False}),\n",
       " Prediction(uid='A3D0UM4ZD2CMAW', iid='B004CYZ7E4', r_ui=5.0, est=4.264433826283353, details={'was_impossible': True, 'reason': 'User and/or item is unkown.'}),\n",
       " Prediction(uid='A11D1KHM7DVOQK', iid='B000FONSEQ', r_ui=3.0, est=4.264433826283353, details={'was_impossible': True, 'reason': 'User and/or item is unkown.'}),\n",
       " Prediction(uid='A3QJU4FEN8PQSZ', iid='B001OC6DCW', r_ui=5.0, est=3.814898534586215, details={'actual_k': 2, 'was_impossible': False}),\n",
       " Prediction(uid='A2WC9NFLG57W4H', iid='B00127VF68', r_ui=5.0, est=4.338461538461538, details={'actual_k': 0, 'was_impossible': False}),\n",
       " Prediction(uid='A5MCDQ60DWUEV', iid='B003Y322RO', r_ui=5.0, est=4.5, details={'actual_k': 0, 'was_impossible': False}),\n",
       " Prediction(uid='A31N0XY2UTB25C', iid='B0002WYJSU', r_ui=5.0, est=4.264433826283353, details={'was_impossible': True, 'reason': 'User and/or item is unkown.'}),\n",
       " Prediction(uid='A3TAS1AG6FMBQW', iid='B00JXECZIY', r_ui=5.0, est=4.705357142857143, details={'actual_k': 0, 'was_impossible': False}),\n",
       " Prediction(uid='AOEAD7DPLZE53', iid='B007HJI6KS', r_ui=3.0, est=4.264433826283353, details={'was_impossible': True, 'reason': 'User and/or item is unkown.'}),\n",
       " Prediction(uid='AEWYUPCNDV7HY', iid='B0035FZ124', r_ui=5.0, est=4.9152865483140715, details={'actual_k': 1, 'was_impossible': False}),\n",
       " Prediction(uid='AHROSV6WJOEGY', iid='B001GGAIGI', r_ui=3.0, est=3.1463414634146343, details={'actual_k': 0, 'was_impossible': False}),\n",
       " Prediction(uid='A1QQA7Y92L4F9R', iid='B000BX44OE', r_ui=3.0, est=4.264433826283353, details={'was_impossible': True, 'reason': 'User and/or item is unkown.'}),\n",
       " Prediction(uid='A2BLFCOPSMBOZ9', iid='B000OFC1YY', r_ui=5.0, est=4.100782414307005, details={'actual_k': 1, 'was_impossible': False}),\n",
       " Prediction(uid='A3QKIR8J56EUI1', iid='B005CWIRPG', r_ui=4.0, est=3.1363636363636362, details={'actual_k': 0, 'was_impossible': False}),\n",
       " Prediction(uid='A35HNL2VEDK9Z1', iid='B004XC6GJ0', r_ui=5.0, est=4.424940898345153, details={'actual_k': 1, 'was_impossible': False}),\n",
       " Prediction(uid='A3J8A5L5AF5TX9', iid='B0001XGR1C', r_ui=2.0, est=3.793388429752066, details={'actual_k': 0, 'was_impossible': False}),\n",
       " Prediction(uid='A1VLVWTLV3LVHR', iid='B003RIPMZU', r_ui=5.0, est=4.264433826283353, details={'was_impossible': True, 'reason': 'User and/or item is unkown.'}),\n",
       " Prediction(uid='A3E049PVKG7NDK', iid='B00HZN1WTI', r_ui=4.0, est=4.24, details={'actual_k': 0, 'was_impossible': False}),\n",
       " Prediction(uid='A12EVK82QUTSA6', iid='B001KB6Z2U', r_ui=5.0, est=4.580745341614907, details={'actual_k': 1, 'was_impossible': False}),\n",
       " Prediction(uid='A292TRC6DX2GKK', iid='B004GM73W6', r_ui=5.0, est=4.264433826283353, details={'was_impossible': True, 'reason': 'User and/or item is unkown.'}),\n",
       " Prediction(uid='A3V15SFD7918WZ', iid='B008MF3X9K', r_ui=4.0, est=4.4049448713665225, details={'actual_k': 1, 'was_impossible': False}),\n",
       " Prediction(uid='A20DZX38KRBIT8', iid='B00067TTY0', r_ui=5.0, est=2.6054421768707483, details={'actual_k': 0, 'was_impossible': False}),\n",
       " Prediction(uid='AAA0TUKS5VBSA', iid='B001287F4S', r_ui=4.0, est=4.238095238095238, details={'actual_k': 0, 'was_impossible': False}),\n",
       " Prediction(uid='A3F3B6HY9RJI04', iid='B0049P6OTI', r_ui=3.0, est=4.507462686567164, details={'actual_k': 0, 'was_impossible': False}),\n",
       " Prediction(uid='A13WREJ05GMRA6', iid='B002ALV9XO', r_ui=3.0, est=4.264433826283353, details={'was_impossible': True, 'reason': 'User and/or item is unkown.'}),\n",
       " Prediction(uid='A24ARANWS5E3T8', iid='B0057G7NCK', r_ui=3.0, est=4.264433826283353, details={'was_impossible': True, 'reason': 'User and/or item is unkown.'}),\n",
       " Prediction(uid='A5JLAU2ARJ0BO', iid='B0000659A8', r_ui=5.0, est=4.264433826283353, details={'was_impossible': True, 'reason': 'User and/or item is unkown.'}),\n",
       " Prediction(uid='A24HWYHR28JJ7A', iid='B003ZHV70C', r_ui=5.0, est=4.488372093023256, details={'actual_k': 0, 'was_impossible': False}),\n",
       " Prediction(uid='A680RUE1FDO8B', iid='B000YL5N4I', r_ui=4.0, est=4.264433826283353, details={'was_impossible': True, 'reason': 'User and/or item is unkown.'}),\n",
       " Prediction(uid='ADLVFFE4VBT8', iid='B00HRO3IBA', r_ui=4.0, est=4.2754820936639115, details={'actual_k': 0, 'was_impossible': False}),\n",
       " Prediction(uid='A1FR68QH6Z4YZM', iid='B0000V41CW', r_ui=5.0, est=4.264433826283353, details={'was_impossible': True, 'reason': 'User and/or item is unkown.'}),\n",
       " Prediction(uid='A2ZDY0V4Q1SZD7', iid='B005H3Q57M', r_ui=5.0, est=4.371428571428571, details={'actual_k': 0, 'was_impossible': False}),\n",
       " Prediction(uid='A3HPCRD9RX351S', iid='B00JF0D7RE', r_ui=5.0, est=4.974096060442526, details={'actual_k': 1, 'was_impossible': False}),\n",
       " Prediction(uid='A25FL6VLD7S23S', iid='B003XU6H8I', r_ui=5.0, est=4.802469135802469, details={'actual_k': 0, 'was_impossible': False}),\n",
       " Prediction(uid='A1CPRP3VFJRS1R', iid='B0002I7288', r_ui=1.0, est=3.581081081081081, details={'actual_k': 0, 'was_impossible': False}),\n",
       " Prediction(uid='A3QNQQKJTL76H0', iid='B000UB66KC', r_ui=1.0, est=4.781805259417199, details={'actual_k': 1, 'was_impossible': False}),\n",
       " Prediction(uid='A38KK0SZYEH5UD', iid='B000VDCTCI', r_ui=5.0, est=4.372262773722627, details={'actual_k': 0, 'was_impossible': False}),\n",
       " Prediction(uid='A1F9Z42CFF9IAY', iid='B00004WGTA', r_ui=5.0, est=4.264433826283353, details={'was_impossible': True, 'reason': 'User and/or item is unkown.'}),\n",
       " Prediction(uid='A1S27P7KJO9I96', iid='B005M1777G', r_ui=5.0, est=3.435384615384615, details={'actual_k': 1, 'was_impossible': False}),\n",
       " Prediction(uid='A3UW23DBF2KHWC', iid='B00JXFY32O', r_ui=2.0, est=4.264433826283353, details={'was_impossible': True, 'reason': 'User and/or item is unkown.'}),\n",
       " Prediction(uid='A1987V5OCO6QHS', iid='B0096JQ4FQ', r_ui=2.0, est=3.1020408163265305, details={'actual_k': 0, 'was_impossible': False}),\n",
       " Prediction(uid='AGX2K0FMS0IVL', iid='B003WGNSTE', r_ui=5.0, est=4.264433826283353, details={'was_impossible': True, 'reason': 'User and/or item is unkown.'}),\n",
       " Prediction(uid='A1F0KPA232MTYC', iid='B005ERK3OC', r_ui=5.0, est=4.264433826283353, details={'was_impossible': True, 'reason': 'User and/or item is unkown.'}),\n",
       " Prediction(uid='A19XMHRB3G4DIR', iid='B0013PSOT0', r_ui=4.0, est=4.506329113924051, details={'actual_k': 0, 'was_impossible': False}),\n",
       " Prediction(uid='A2UWPPU5GZLMQZ', iid='B003ZBZ64Q', r_ui=5.0, est=4.472787757817698, details={'actual_k': 1, 'was_impossible': False}),\n",
       " Prediction(uid='A1SFPA80X7TRBR', iid='B001G5ZU0I', r_ui=2.0, est=4.264433826283353, details={'was_impossible': True, 'reason': 'User and/or item is unkown.'}),\n",
       " Prediction(uid='AUITG1DJ3QUGK', iid='B003UES8BQ', r_ui=5.0, est=4.264433826283353, details={'was_impossible': True, 'reason': 'User and/or item is unkown.'}),\n",
       " Prediction(uid='A1QNYLBG73QRNF', iid='B00008CMMV', r_ui=4.0, est=4.264433826283353, details={'was_impossible': True, 'reason': 'User and/or item is unkown.'}),\n",
       " Prediction(uid='AKBVYIIHWI04B', iid='B00005T3EY', r_ui=5.0, est=4.264433826283353, details={'was_impossible': True, 'reason': 'User and/or item is unkown.'}),\n",
       " Prediction(uid='A35W3JQYP0M655', iid='B000KZP8LQ', r_ui=1.0, est=4.264433826283353, details={'was_impossible': True, 'reason': 'User and/or item is unkown.'}),\n",
       " Prediction(uid='A2UOHALGF2X77Q', iid='B001JT16ZO', r_ui=4.0, est=4.3293413173652695, details={'actual_k': 0, 'was_impossible': False}),\n",
       " Prediction(uid='A2L9OPJAAEK08Q', iid='B0042X93AE', r_ui=3.0, est=4.264433826283353, details={'was_impossible': True, 'reason': 'User and/or item is unkown.'}),\n",
       " Prediction(uid='A1TFDMY4YNTV97', iid='B00DH7MYUW', r_ui=4.0, est=4.264433826283353, details={'was_impossible': True, 'reason': 'User and/or item is unkown.'}),\n",
       " Prediction(uid='A1UL2JH7XOUGM5', iid='B002TK2D04', r_ui=5.0, est=4.0476190476190474, details={'actual_k': 0, 'was_impossible': False}),\n",
       " Prediction(uid='A27H61OHW44XA7', iid='B0039YP0ZE', r_ui=5.0, est=4.526315789473684, details={'actual_k': 0, 'was_impossible': False}),\n",
       " Prediction(uid='A2QI2JHSIQ3SN3', iid='B0055851VA', r_ui=4.0, est=4.627906976744186, details={'actual_k': 0, 'was_impossible': False}),\n",
       " Prediction(uid='ABH9D1TEOJ56E', iid='B000088USW', r_ui=3.0, est=4.264433826283353, details={'was_impossible': True, 'reason': 'User and/or item is unkown.'}),\n",
       " Prediction(uid='A3GQY0TFRG0MPZ', iid='B002HMWQE2', r_ui=5.0, est=4.82051282051282, details={'actual_k': 0, 'was_impossible': False}),\n",
       " Prediction(uid='A1TY97ZGQT5FGF', iid='B002BH4N12', r_ui=3.0, est=4.264433826283353, details={'was_impossible': True, 'reason': 'User and/or item is unkown.'}),\n",
       " Prediction(uid='AUCISQA1YXX86', iid='B001G5ZTN6', r_ui=3.0, est=2.5609756097560976, details={'actual_k': 0, 'was_impossible': False}),\n",
       " Prediction(uid='A257X1MQJO82P2', iid='B0083WGXTO', r_ui=5.0, est=4.264433826283353, details={'was_impossible': True, 'reason': 'User and/or item is unkown.'}),\n",
       " Prediction(uid='A3OXHLG6DIBRW8', iid='B001AW8SC4', r_ui=4.0, est=5, details={'actual_k': 1, 'was_impossible': False}),\n",
       " Prediction(uid='A2MSBIA18RXYQC', iid='B000Q02XLS', r_ui=2.0, est=4.264433826283353, details={'was_impossible': True, 'reason': 'User and/or item is unkown.'}),\n",
       " Prediction(uid='A1G650TTTHEAL5', iid='B00HMNJI3I', r_ui=5.0, est=4.264433826283353, details={'was_impossible': True, 'reason': 'User and/or item is unkown.'}),\n",
       " Prediction(uid='AGXMC3ITWZASE', iid='B002IPHA3U', r_ui=5.0, est=4.264433826283353, details={'was_impossible': True, 'reason': 'User and/or item is unkown.'}),\n",
       " Prediction(uid='AS8C336DDLSO4', iid='B00203W468', r_ui=4.0, est=4.146341463414634, details={'actual_k': 0, 'was_impossible': False}),\n",
       " Prediction(uid='A2KYRPDKVBI2R4', iid='B009K62HQ0', r_ui=5.0, est=4.7727272727272725, details={'actual_k': 0, 'was_impossible': False}),\n",
       " Prediction(uid='A2NYK9KWFMJV4Y', iid='B002UL5W4G', r_ui=2.0, est=4.810344827586207, details={'actual_k': 0, 'was_impossible': False}),\n",
       " Prediction(uid='A2QDOJFFLFGF18', iid='B003EYVEVS', r_ui=5.0, est=4.602941176470588, details={'actual_k': 0, 'was_impossible': False}),\n",
       " Prediction(uid='A2L36AGL8CKY3D', iid='B000VY2BC0', r_ui=5.0, est=4.714285714285714, details={'actual_k': 0, 'was_impossible': False}),\n",
       " Prediction(uid='A25UZ7MA72SMKM', iid='B0087B6SV4', r_ui=4.0, est=4.118421052631579, details={'actual_k': 2, 'was_impossible': False}),\n",
       " Prediction(uid='A1YEPFLLH42OU1', iid='B005D5M136', r_ui=5.0, est=4.602972995469745, details={'actual_k': 3, 'was_impossible': False}),\n",
       " Prediction(uid='A18U49406IPPIJ', iid='B00JFRANY2', r_ui=5.0, est=4.264433826283353, details={'was_impossible': True, 'reason': 'User and/or item is unkown.'}),\n",
       " Prediction(uid='A6VPK7X53QNAQ', iid='B006I5MKZY', r_ui=3.0, est=2.6440468846544123, details={'actual_k': 5, 'was_impossible': False}),\n",
       " Prediction(uid='A1IU7S4HCK1XK0', iid='B003VS9UP4', r_ui=4.0, est=4.4526315789473685, details={'actual_k': 0, 'was_impossible': False}),\n",
       " Prediction(uid='A16C19G0I2DE8S', iid='B00ARPLNYU', r_ui=5.0, est=4.264433826283353, details={'was_impossible': True, 'reason': 'User and/or item is unkown.'}),\n",
       " Prediction(uid='A132ETQPMHQ585', iid='B006B7W4Y6', r_ui=5.0, est=4.264433826283353, details={'was_impossible': True, 'reason': 'User and/or item is unkown.'}),\n",
       " Prediction(uid='A2OWR5G2OAQF7C', iid='B005TI1ILS', r_ui=5.0, est=4.035483870967742, details={'actual_k': 1, 'was_impossible': False}),\n",
       " Prediction(uid='A3DOPYDOS49I3T', iid='B000E204LY', r_ui=4.0, est=4.898550724637682, details={'actual_k': 0, 'was_impossible': False}),\n",
       " Prediction(uid='A2FRKEXDXDN1KI', iid='B004WJRTOK', r_ui=4.0, est=4.470588235294118, details={'actual_k': 0, 'was_impossible': False}),\n",
       " Prediction(uid='A2Y4H3PXB07WQI', iid='B003OYDX7G', r_ui=4.0, est=4.264433826283353, details={'was_impossible': True, 'reason': 'User and/or item is unkown.'}),\n",
       " Prediction(uid='A3LDFTSXU3UPBO', iid='B00A1D8YZO', r_ui=5.0, est=4.264433826283353, details={'was_impossible': True, 'reason': 'User and/or item is unkown.'}),\n",
       " Prediction(uid='A2W9I628I6SE1U', iid='B0071BTJPI', r_ui=4.0, est=4.756756756756757, details={'actual_k': 1, 'was_impossible': False}),\n",
       " Prediction(uid='A2QNS95WGN35G9', iid='B0039YXNVC', r_ui=4.0, est=4.722222222222222, details={'actual_k': 0, 'was_impossible': False}),\n",
       " Prediction(uid='A1RPTVW5VEOSI', iid='B000K5VD2E', r_ui=1.0, est=4.264433826283353, details={'was_impossible': True, 'reason': 'User and/or item is unkown.'}),\n",
       " Prediction(uid='A1LHMSY3Q46PJS', iid='B000JEUO4E', r_ui=5.0, est=4.264433826283353, details={'was_impossible': True, 'reason': 'User and/or item is unkown.'}),\n",
       " Prediction(uid='A1X2LENOF84LCQ', iid='B002SGATH8', r_ui=4.0, est=4.098863636363636, details={'actual_k': 1, 'was_impossible': False}),\n",
       " Prediction(uid='A1URXSRV6WDHVY', iid='B002KMOXCC', r_ui=5.0, est=4.264433826283353, details={'was_impossible': True, 'reason': 'User and/or item is unkown.'}),\n",
       " Prediction(uid='A2TRXEZYU9GYY8', iid='B005LLBJ9Y', r_ui=5.0, est=4.7105263157894735, details={'actual_k': 0, 'was_impossible': False}),\n",
       " Prediction(uid='A3EXWV8FNSSFL6', iid='B0035JKJB8', r_ui=5.0, est=4.264433826283353, details={'was_impossible': True, 'reason': 'User and/or item is unkown.'}),\n",
       " Prediction(uid='AMUP8DYE7EAN2', iid='B009YT6PPC', r_ui=5.0, est=4.017543859649122, details={'actual_k': 0, 'was_impossible': False}),\n",
       " Prediction(uid='A38RMU1Y5TDP9', iid='B009F7EQPY', r_ui=4.0, est=4.382978723404255, details={'actual_k': 0, 'was_impossible': False}),\n",
       " Prediction(uid='A34C9AFFZOI45T', iid='B001ZU1I9G', r_ui=5.0, est=4.264433826283353, details={'was_impossible': True, 'reason': 'User and/or item is unkown.'}),\n",
       " Prediction(uid='A203OCQQ12MAVT', iid='B006DEBYWU', r_ui=5.0, est=4.54639239344635, details={'actual_k': 2, 'was_impossible': False}),\n",
       " Prediction(uid='A1ODOGXEYECQQ8', iid='B0009MZ9UA', r_ui=5.0, est=4.282051282051282, details={'actual_k': 0, 'was_impossible': False}),\n",
       " Prediction(uid='AWH2AY17ZU7W2', iid='B004BDORCO', r_ui=3.0, est=4.26, details={'actual_k': 0, 'was_impossible': False}),\n",
       " Prediction(uid='AIBRTGBN07D6A', iid='B005Z451KK', r_ui=4.0, est=4.054545454545455, details={'actual_k': 0, 'was_impossible': False}),\n",
       " Prediction(uid='A3LDFTSXU3UPBO', iid='B00A1D8YIQ', r_ui=5.0, est=4.264433826283353, details={'was_impossible': True, 'reason': 'User and/or item is unkown.'}),\n",
       " Prediction(uid='A2WA8TDCTGUADI', iid='B009X01C64', r_ui=5.0, est=4.584887911062497, details={'actual_k': 3, 'was_impossible': False}),\n",
       " Prediction(uid='A1A306IAZ3TM1', iid='B0017T2HUY', r_ui=5.0, est=4.264433826283353, details={'was_impossible': True, 'reason': 'User and/or item is unkown.'}),\n",
       " Prediction(uid='A17V9XL4CWTQ6G', iid='B00B9JR5EU', r_ui=5.0, est=4.264433826283353, details={'was_impossible': True, 'reason': 'User and/or item is unkown.'}),\n",
       " Prediction(uid='AZMY6E8B52L2T', iid='B0036FFNN0', r_ui=5.0, est=4.264433826283353, details={'was_impossible': True, 'reason': 'User and/or item is unkown.'}),\n",
       " Prediction(uid='A8X8D4BUY5DFU', iid='B0041Q38NU', r_ui=5.0, est=4.7256371814092955, details={'actual_k': 1, 'was_impossible': False}),\n",
       " Prediction(uid='AG35JCCQWDRCS', iid='B000A4AVW8', r_ui=5.0, est=4.264433826283353, details={'was_impossible': True, 'reason': 'User and/or item is unkown.'}),\n",
       " Prediction(uid='AGR1V15L6FLMA', iid='B000ID7QNI', r_ui=5.0, est=4.479166666666667, details={'actual_k': 0, 'was_impossible': False}),\n",
       " Prediction(uid='A3DL29NLZ7SXXG', iid='B00BSZVFBY', r_ui=5.0, est=4.264433826283353, details={'was_impossible': True, 'reason': 'User and/or item is unkown.'}),\n",
       " Prediction(uid='A14JBDSWKPKTZA', iid='B004CLYEE6', r_ui=4.0, est=4.605867072543932, details={'actual_k': 4, 'was_impossible': False}),\n",
       " Prediction(uid='A3E68EBGXTWDNP', iid='B00004TX71', r_ui=4.0, est=4.976078799249532, details={'actual_k': 1, 'was_impossible': False}),\n",
       " Prediction(uid='A1ILWPH1GHUXE2', iid='B001NTFAOS', r_ui=5.0, est=4.653005464480874, details={'actual_k': 1, 'was_impossible': False}),\n",
       " Prediction(uid='A3VI2VETB90ZG5', iid='B005INAU90', r_ui=3.0, est=4.005747126436781, details={'actual_k': 1, 'was_impossible': False}),\n",
       " Prediction(uid='ARBKYIVNYWK3C', iid='B000FHQTNU', r_ui=5.0, est=4.264433826283353, details={'was_impossible': True, 'reason': 'User and/or item is unkown.'}),\n",
       " Prediction(uid='AQM0K7MBBT4AY', iid='B0015AV3XM', r_ui=5.0, est=4.264433826283353, details={'was_impossible': True, 'reason': 'User and/or item is unkown.'}),\n",
       " Prediction(uid='A17HMM1M7T9PJ1', iid='B0001HKIJK', r_ui=5.0, est=4.264433826283353, details={'was_impossible': True, 'reason': 'User and/or item is unkown.'}),\n",
       " Prediction(uid='A38NHXL5257E3B', iid='B0096PVLL2', r_ui=5.0, est=4.544117647058823, details={'actual_k': 0, 'was_impossible': False}),\n",
       " Prediction(uid='A2SKEQT0WTB954', iid='B00009RUCH', r_ui=4.0, est=5, details={'actual_k': 1, 'was_impossible': False}),\n",
       " Prediction(uid='A2VIYTWXANL343', iid='B0034CL2ZI', r_ui=3.0, est=4.7894736842105265, details={'actual_k': 0, 'was_impossible': False}),\n",
       " Prediction(uid='A35OIWPVTGW3UC', iid='B004KKZ0HO', r_ui=1.0, est=3.575, details={'actual_k': 0, 'was_impossible': False}),\n",
       " Prediction(uid='AWPODHOB4GFWL', iid='B0040702HA', r_ui=5.0, est=5, details={'actual_k': 3, 'was_impossible': False}),\n",
       " Prediction(uid='A9DYWY9VOSP1P', iid='B00061IYJC', r_ui=5.0, est=3.9411764705882355, details={'actual_k': 0, 'was_impossible': False}),\n",
       " Prediction(uid='ADZF3QDGSZE7K', iid='B0007NIB60', r_ui=3.0, est=4.264433826283353, details={'was_impossible': True, 'reason': 'User and/or item is unkown.'}),\n",
       " Prediction(uid='AX7317G153T8W', iid='B006U1YULS', r_ui=5.0, est=4.3164556962025316, details={'actual_k': 0, 'was_impossible': False}),\n",
       " Prediction(uid='A6FIAB28IS79', iid='B00029U1DK', r_ui=4.0, est=5, details={'actual_k': 2, 'was_impossible': False}),\n",
       " Prediction(uid='A2X3L31KCXBHCL', iid='B000JMJWV2', r_ui=5.0, est=4.831252597290527, details={'actual_k': 3, 'was_impossible': False}),\n",
       " Prediction(uid='AWH2AY17ZU7W2', iid='B005HTL15C', r_ui=4.0, est=4.264433826283353, details={'was_impossible': True, 'reason': 'User and/or item is unkown.'}),\n",
       " Prediction(uid='A3AYSYSLHU26U9', iid='B001A5FH9S', r_ui=5.0, est=5, details={'actual_k': 1, 'was_impossible': False}),\n",
       " Prediction(uid='A1J5HIF41ENSMZ', iid='B00BAJ1QDA', r_ui=3.0, est=3.9130434782608696, details={'actual_k': 0, 'was_impossible': False}),\n",
       " Prediction(uid='A1V4A5U5O3TMMD', iid='B00006I53A', r_ui=2.0, est=4.264433826283353, details={'was_impossible': True, 'reason': 'User and/or item is unkown.'}),\n",
       " Prediction(uid='A2KYRPDKVBI2R4', iid='B004OBYWAK', r_ui=3.0, est=4.7727272727272725, details={'actual_k': 0, 'was_impossible': False}),\n",
       " Prediction(uid='A2T3S3VTW65VO5', iid='B0018LX0DY', r_ui=5.0, est=4.717391304347826, details={'actual_k': 0, 'was_impossible': False}),\n",
       " Prediction(uid='A1F7YU6O5RU432', iid='B002IO2UM2', r_ui=5.0, est=4.6, details={'actual_k': 0, 'was_impossible': False}),\n",
       " Prediction(uid='A2RU4U1JZ3DMP5', iid='B000M5Y3G0', r_ui=5.0, est=4.152777777777778, details={'actual_k': 0, 'was_impossible': False}),\n",
       " Prediction(uid='A3UR2N0ATGBCU8', iid='B00EENK360', r_ui=4.0, est=4.264433826283353, details={'was_impossible': True, 'reason': 'User and/or item is unkown.'}),\n",
       " Prediction(uid='A3094EPI56GKZ6', iid='B002PY7LM4', r_ui=5.0, est=4.872340425531915, details={'actual_k': 0, 'was_impossible': False}),\n",
       " Prediction(uid='ADLVFFE4VBT8', iid='B00F6J484O', r_ui=5.0, est=4.2754820936639115, details={'actual_k': 0, 'was_impossible': False}),\n",
       " Prediction(uid='A1JWSDDIH5Z7DV', iid='B0002HVIC0', r_ui=5.0, est=4.9818181818181815, details={'actual_k': 0, 'was_impossible': False}),\n",
       " Prediction(uid='A3EXWV8FNSSFL6', iid='B00GLG2D4I', r_ui=5.0, est=3.873997944501542, details={'actual_k': 1, 'was_impossible': False}),\n",
       " Prediction(uid='AZMY6E8B52L2T', iid='B005FK2378', r_ui=4.0, est=4.264433826283353, details={'was_impossible': True, 'reason': 'User and/or item is unkown.'}),\n",
       " Prediction(uid='AG7EF0SVBQOUX', iid='B004PXUHZG', r_ui=5.0, est=4.264433826283353, details={'was_impossible': True, 'reason': 'User and/or item is unkown.'}),\n",
       " Prediction(uid='A226VGZWOEBPGL', iid='B005I6EU48', r_ui=5.0, est=4.9460007135607595, details={'actual_k': 5, 'was_impossible': False}),\n",
       " Prediction(uid='A2NB2E5DXE319Z', iid='B00CCIKJDG', r_ui=5.0, est=4.606607608366772, details={'actual_k': 2, 'was_impossible': False}),\n",
       " Prediction(uid='A1EXGL6L0QQ0M5', iid='B00004ZCJE', r_ui=3.0, est=3.426096300014081, details={'actual_k': 3, 'was_impossible': False}),\n",
       " Prediction(uid='AROQO2VDODT7', iid='B000I1X3W8', r_ui=5.0, est=4.235294117647059, details={'actual_k': 0, 'was_impossible': False}),\n",
       " Prediction(uid='A2L42QEWR77PKZ', iid='B008LUWRAM', r_ui=5.0, est=4.264433826283353, details={'was_impossible': True, 'reason': 'User and/or item is unkown.'}),\n",
       " Prediction(uid='A26BDXG9KVH7SU', iid='B00IL7B2YM', r_ui=3.0, est=1.4083461854833437, details={'actual_k': 2, 'was_impossible': False}),\n",
       " Prediction(uid='A1VQHH85U7PX0', iid='B00FFZD51Q', r_ui=5.0, est=3.6917178267634094, details={'actual_k': 3, 'was_impossible': False}),\n",
       " Prediction(uid='AUBEFRFHJR64Y', iid='B0053H73JQ', r_ui=5.0, est=4.015151515151516, details={'actual_k': 0, 'was_impossible': False}),\n",
       " Prediction(uid='A19X4BF861LQST', iid='B0029PQFT4', r_ui=4.0, est=3.7261904761904763, details={'actual_k': 0, 'was_impossible': False}),\n",
       " Prediction(uid='A21INUA35HX4XQ', iid='B005755U0I', r_ui=4.0, est=3.6842105263157894, details={'actual_k': 0, 'was_impossible': False}),\n",
       " Prediction(uid='A2WB7LZ595CR50', iid='B003BEDTBY', r_ui=5.0, est=3.2470877056395686, details={'actual_k': 2, 'was_impossible': False}),\n",
       " Prediction(uid='A2AEZQ3DGBBLPR', iid='B000068IGG', r_ui=5.0, est=4.264433826283353, details={'was_impossible': True, 'reason': 'User and/or item is unkown.'}),\n",
       " Prediction(uid='A1YN5I4FINMBTI', iid='B006BGZJJ4', r_ui=5.0, est=4.594594594594595, details={'actual_k': 0, 'was_impossible': False}),\n",
       " Prediction(uid='AW63IRQWH10GF', iid='B002VS7F6Q', r_ui=4.0, est=4.264433826283353, details={'was_impossible': True, 'reason': 'User and/or item is unkown.'}),\n",
       " Prediction(uid='A1VS1LL905P5L5', iid='B0000CE1UO', r_ui=5.0, est=4.0, details={'actual_k': 0, 'was_impossible': False}),\n",
       " Prediction(uid='A2Y3WWPUKIJ59I', iid='B001CJOLBW', r_ui=4.0, est=3.9285714285714284, details={'actual_k': 0, 'was_impossible': False}),\n",
       " Prediction(uid='A2294LS59GC5K7', iid='B002V88HFE', r_ui=5.0, est=4.387755102040816, details={'actual_k': 0, 'was_impossible': False}),\n",
       " Prediction(uid='A2UOHALGF2X77Q', iid='B008KEPU8A', r_ui=2.0, est=3.20653429982141, details={'actual_k': 1, 'was_impossible': False}),\n",
       " Prediction(uid='A23QII83UGZP5U', iid='B005L38QLQ', r_ui=4.0, est=4.0212765957446805, details={'actual_k': 0, 'was_impossible': False}),\n",
       " Prediction(uid='ADPKRJ2BSFJ0I', iid='B00728ZBA2', r_ui=5.0, est=4.72, details={'actual_k': 0, 'was_impossible': False}),\n",
       " Prediction(uid='A3HPCRD9RX351S', iid='B00GFWZK8E', r_ui=4.0, est=4.264433826283353, details={'was_impossible': True, 'reason': 'User and/or item is unkown.'}),\n",
       " Prediction(uid='A3N4VTNFPMTHEF', iid='B000AY5Y5W', r_ui=5.0, est=4.253333333333333, details={'actual_k': 0, 'was_impossible': False}),\n",
       " Prediction(uid='A2YHXGPCTENZY3', iid='B000067V08', r_ui=3.0, est=4.264433826283353, details={'was_impossible': True, 'reason': 'User and/or item is unkown.'}),\n",
       " Prediction(uid='A3RGHO0Q938FRS', iid='B00829TIEK', r_ui=5.0, est=5, details={'actual_k': 5, 'was_impossible': False}),\n",
       " Prediction(uid='AD9ZL63H0VKCZ', iid='B009DJ1OFY', r_ui=5.0, est=4.264433826283353, details={'was_impossible': True, 'reason': 'User and/or item is unkown.'}),\n",
       " Prediction(uid='A30R8VFR16RE32', iid='B007RFW1NA', r_ui=3.0, est=4.624064052190674, details={'actual_k': 1, 'was_impossible': False}),\n",
       " Prediction(uid='A2JP9E1H0SF392', iid='B001FO0V2M', r_ui=5.0, est=4.264433826283353, details={'was_impossible': True, 'reason': 'User and/or item is unkown.'}),\n",
       " Prediction(uid='AGXV8E7XK9J6H', iid='B00009R6CG', r_ui=4.0, est=4.264433826283353, details={'was_impossible': True, 'reason': 'User and/or item is unkown.'}),\n",
       " Prediction(uid='AY6A8KPYCE6B0', iid='B001JTQCU8', r_ui=5.0, est=5, details={'actual_k': 1, 'was_impossible': False}),\n",
       " Prediction(uid='A3QX0ERX4D03TF', iid='B0002Z45DQ', r_ui=2.0, est=3.861111111111111, details={'actual_k': 0, 'was_impossible': False}),\n",
       " Prediction(uid='A3V7D0LH8L7BG0', iid='B008HU9R7W', r_ui=4.0, est=3.76301778876927, details={'actual_k': 3, 'was_impossible': False}),\n",
       " Prediction(uid='AZBXKUH4AIW3X', iid='B004M5H660', r_ui=4.0, est=4.03125, details={'actual_k': 0, 'was_impossible': False}),\n",
       " Prediction(uid='A23ZXHFLC6TBLD', iid='B0015AM30Y', r_ui=5.0, est=4.568181818181818, details={'actual_k': 0, 'was_impossible': False}),\n",
       " Prediction(uid='A30UP2KKD5IQEP', iid='B006ZBWV0K', r_ui=5.0, est=4.868923784534236, details={'actual_k': 3, 'was_impossible': False}),\n",
       " Prediction(uid='A2SNE4QQGVP13U', iid='B00883DU08', r_ui=5.0, est=4.264433826283353, details={'was_impossible': True, 'reason': 'User and/or item is unkown.'}),\n",
       " Prediction(uid='A1XB7JGJ459ERP', iid='B009SYZ8OC', r_ui=5.0, est=5, details={'actual_k': 1, 'was_impossible': False}),\n",
       " Prediction(uid='A2OS3TIVAKUAHG', iid='B00CL8F98W', r_ui=3.0, est=4.212765957446808, details={'actual_k': 0, 'was_impossible': False}),\n",
       " Prediction(uid='A3U5HKDHPYBAK3', iid='B00F6E8OUS', r_ui=4.0, est=4.780415890751086, details={'actual_k': 1, 'was_impossible': False}),\n",
       " Prediction(uid='A1Z7U9K6X3FEOU', iid='B0058RWEDG', r_ui=5.0, est=4.351851851851852, details={'actual_k': 0, 'was_impossible': False}),\n",
       " Prediction(uid='AFICF7DKHTQ87', iid='B00HFAEBWG', r_ui=5.0, est=3.5918196395406965, details={'actual_k': 4, 'was_impossible': False}),\n",
       " Prediction(uid='AEWYUPCNDV7HY', iid='B001U7YKVM', r_ui=5.0, est=4.110091743119266, details={'actual_k': 0, 'was_impossible': False}),\n",
       " Prediction(uid='A3PD8JD9L4WEII', iid='B000YH53S8', r_ui=4.0, est=4.264433826283353, details={'was_impossible': True, 'reason': 'User and/or item is unkown.'}),\n",
       " Prediction(uid='A17UNMURMLX0ZE', iid='B00EU9V3YO', r_ui=4.0, est=4.096153846153846, details={'actual_k': 0, 'was_impossible': False}),\n",
       " Prediction(uid='A1WF4QNIE2Z3I7', iid='B007I9BKD2', r_ui=4.0, est=4.264433826283353, details={'was_impossible': True, 'reason': 'User and/or item is unkown.'}),\n",
       " Prediction(uid='A2VODABWSVHV8E', iid='B005HMKKH4', r_ui=5.0, est=5, details={'actual_k': 2, 'was_impossible': False}),\n",
       " Prediction(uid='A4IL0CLL27Q33', iid='B006JH8T3S', r_ui=4.0, est=4.041533459929811, details={'actual_k': 2, 'was_impossible': False}),\n",
       " Prediction(uid='A1VHCO8RQFIGQJ', iid='B005HQ5O8K', r_ui=4.0, est=4.442857142857143, details={'actual_k': 0, 'was_impossible': False}),\n",
       " Prediction(uid='A25HBO5V8S8SEA', iid='B0000691IQ', r_ui=5.0, est=4.264433826283353, details={'was_impossible': True, 'reason': 'User and/or item is unkown.'}),\n",
       " Prediction(uid='AHROSV6WJOEGY', iid='B003CKAQ7M', r_ui=4.0, est=4.264433826283353, details={'was_impossible': True, 'reason': 'User and/or item is unkown.'}),\n",
       " Prediction(uid='A3OXHLG6DIBRW8', iid='B007KFLV9W', r_ui=5.0, est=2.0106356039503677, details={'actual_k': 1, 'was_impossible': False}),\n",
       " Prediction(uid='A3NOBH42C7UI5M', iid='B001QTXL82', r_ui=4.0, est=3.6944444444444446, details={'actual_k': 0, 'was_impossible': False}),\n",
       " Prediction(uid='A27T4RQ3XA661C', iid='B00CS6LZYO', r_ui=1.0, est=3.984126984126984, details={'actual_k': 0, 'was_impossible': False}),\n",
       " Prediction(uid='A3K91X9X2ARDOK', iid='B00829THEG', r_ui=5.0, est=4.057235772357724, details={'actual_k': 1, 'was_impossible': False}),\n",
       " Prediction(uid='ALQ4USPEQ9L5N', iid='B00BEHQKPC', r_ui=2.0, est=4.291666666666667, details={'actual_k': 0, 'was_impossible': False}),\n",
       " Prediction(uid='A2O6HZ2B9YSRXR', iid='B003VAM32E', r_ui=5.0, est=4.487179487179487, details={'actual_k': 0, 'was_impossible': False}),\n",
       " Prediction(uid='A2FXBWR4T4OFQ', iid='B005E2YCSU', r_ui=5.0, est=4.264433826283353, details={'was_impossible': True, 'reason': 'User and/or item is unkown.'}),\n",
       " Prediction(uid='A30X750M8V1XXW', iid='B00365EVWO', r_ui=4.0, est=3.9711538461538463, details={'actual_k': 0, 'was_impossible': False}),\n",
       " Prediction(uid='AAA0TUKS5VBSA', iid='B002UOR17Y', r_ui=5.0, est=4.978137275254895, details={'actual_k': 2, 'was_impossible': False}),\n",
       " Prediction(uid='A1EQ5D5JRSW23K', iid='B007SHJIO2', r_ui=5.0, est=4.72972972972973, details={'actual_k': 0, 'was_impossible': False}),\n",
       " Prediction(uid='A1NNMOD9H36Q8E', iid='B000TL3IPY', r_ui=4.0, est=4.046875, details={'actual_k': 0, 'was_impossible': False}),\n",
       " Prediction(uid='A13WOT3RSXKRD5', iid='B003IT6XBK', r_ui=5.0, est=4.661290322580645, details={'actual_k': 0, 'was_impossible': False}),\n",
       " Prediction(uid='AU3GYRAKBUAEU', iid='B001E71IE0', r_ui=5.0, est=4.264433826283353, details={'was_impossible': True, 'reason': 'User and/or item is unkown.'}),\n",
       " Prediction(uid='A3OXHLG6DIBRW8', iid='B001M5PZXO', r_ui=4.0, est=3.392551433460574, details={'actual_k': 2, 'was_impossible': False}),\n",
       " Prediction(uid='A2XJMQ2COPGWJH', iid='B001UE8IMC', r_ui=4.0, est=3.8421052631578947, details={'actual_k': 0, 'was_impossible': False}),\n",
       " Prediction(uid='A361M14PU2GUEG', iid='B007WTAJTO', r_ui=5.0, est=5, details={'actual_k': 3, 'was_impossible': False}),\n",
       " Prediction(uid='A2WB7LZ595CR50', iid='B004J1G2MQ', r_ui=5.0, est=3.8333333333333335, details={'actual_k': 0, 'was_impossible': False}),\n",
       " Prediction(uid='A3OXHLG6DIBRW8', iid='B00284ADXA', r_ui=4.0, est=3.846093497108785, details={'actual_k': 4, 'was_impossible': False}),\n",
       " Prediction(uid='ALDAF4VVLFRHP', iid='B001FP2U5W', r_ui=4.0, est=4.264433826283353, details={'was_impossible': True, 'reason': 'User and/or item is unkown.'}),\n",
       " Prediction(uid='A19RW25Q6206I3', iid='B004071ZXA', r_ui=5.0, est=4.2272727272727275, details={'actual_k': 0, 'was_impossible': False}),\n",
       " Prediction(uid='A1C5WS021EL3WO', iid='B000CRFOMK', r_ui=5.0, est=4.616438356164384, details={'actual_k': 0, 'was_impossible': False}),\n",
       " Prediction(uid='A2BX8DDQGCCG2J', iid='B008D9HZ62', r_ui=5.0, est=4.264433826283353, details={'was_impossible': True, 'reason': 'User and/or item is unkown.'}),\n",
       " Prediction(uid='A2FHTXLKY1XJDB', iid='B0047ULQ2U', r_ui=4.0, est=4.264433826283353, details={'was_impossible': True, 'reason': 'User and/or item is unkown.'}),\n",
       " Prediction(uid='A3OA4DV4L81N1D', iid='B00829USMQ', r_ui=4.0, est=4.264433826283353, details={'was_impossible': True, 'reason': 'User and/or item is unkown.'}),\n",
       " Prediction(uid='A4U27URFECK1U', iid='B006DEBYWU', r_ui=3.0, est=4.111111111111111, details={'actual_k': 0, 'was_impossible': False}),\n",
       " Prediction(uid='A3A4ZAIBQWKOZS', iid='B000812QC6', r_ui=4.0, est=4.617834394904459, details={'actual_k': 0, 'was_impossible': False}),\n",
       " Prediction(uid='A2DIQTZPF26T1L', iid='B00HN2Y2MA', r_ui=5.0, est=4.641025641025641, details={'actual_k': 0, 'was_impossible': False}),\n",
       " Prediction(uid='A3IMALU0RM8UT9', iid='B00009R6KK', r_ui=4.0, est=4.717391304347826, details={'actual_k': 0, 'was_impossible': False}),\n",
       " Prediction(uid='A3UR2N0ATGBCU8', iid='B0041RRNLC', r_ui=4.0, est=4.412698412698413, details={'actual_k': 0, 'was_impossible': False}),\n",
       " Prediction(uid='A3CLWR1UUZT6TG', iid='0972683275', r_ui=5.0, est=4.556547619047619, details={'actual_k': 1, 'was_impossible': False}),\n",
       " Prediction(uid='A3CG93783LP0FO', iid='B00HXIYIE6', r_ui=5.0, est=4.1866666666666665, details={'actual_k': 0, 'was_impossible': False}),\n",
       " Prediction(uid='A3FEJ8H2VTN0OJ', iid='B00305N47S', r_ui=2.0, est=4.9, details={'actual_k': 0, 'was_impossible': False}),\n",
       " Prediction(uid='A1R19YYR5OR26T', iid='B001F1BBJ2', r_ui=5.0, est=4.264433826283353, details={'was_impossible': True, 'reason': 'User and/or item is unkown.'}),\n",
       " Prediction(uid='A4WEZJOIZIV4U', iid='B005UA3I72', r_ui=4.0, est=5, details={'actual_k': 1, 'was_impossible': False}),\n",
       " Prediction(uid='A2V1J3JT5OOZFO', iid='B00426C57O', r_ui=2.0, est=4.175, details={'actual_k': 0, 'was_impossible': False}),\n",
       " Prediction(uid='AJEOFP6ZWY0MK', iid='B000JE7GPY', r_ui=5.0, est=4.741883116883117, details={'actual_k': 1, 'was_impossible': False}),\n",
       " Prediction(uid='A1RPJHUVVSI98A', iid='B00005LE7M', r_ui=4.0, est=4.340909090909091, details={'actual_k': 0, 'was_impossible': False}),\n",
       " Prediction(uid='A1LD5SE8IZ1H70', iid='B005IVUWHW', r_ui=5.0, est=4.211538461538462, details={'actual_k': 0, 'was_impossible': False}),\n",
       " Prediction(uid='AVTJEWTCJ3PBE', iid='B000R9AAJA', r_ui=5.0, est=4.604651162790698, details={'actual_k': 0, 'was_impossible': False}),\n",
       " Prediction(uid='A38KK0SZYEH5UD', iid='B00FY3T9DW', r_ui=5.0, est=4.984507671681811, details={'actual_k': 1, 'was_impossible': False}),\n",
       " Prediction(uid='A3BKNXX8QFIXIV', iid='B0085YTDBA', r_ui=3.0, est=3.3723766996396356, details={'actual_k': 2, 'was_impossible': False}),\n",
       " Prediction(uid='AG35JCCQWDRCS', iid='B0087N46XY', r_ui=3.0, est=4.264433826283353, details={'was_impossible': True, 'reason': 'User and/or item is unkown.'}),\n",
       " Prediction(uid='A3SMD3T0QTN109', iid='B0043M668G', r_ui=5.0, est=5, details={'actual_k': 2, 'was_impossible': False}),\n",
       " Prediction(uid='A3CP3J7OEGQMD5', iid='B003LVZO8S', r_ui=5.0, est=4.354838709677419, details={'actual_k': 0, 'was_impossible': False}),\n",
       " Prediction(uid='AV9PIER7NE448', iid='B003ZSHNH2', r_ui=5.0, est=4.264433826283353, details={'was_impossible': True, 'reason': 'User and/or item is unkown.'}),\n",
       " Prediction(uid='AT6CZDCP4TRGA', iid='B00021O4UO', r_ui=5.0, est=4.264433826283353, details={'was_impossible': True, 'reason': 'User and/or item is unkown.'}),\n",
       " Prediction(uid='AN81JUYW2SL24', iid='B004GCJEZU', r_ui=3.0, est=3.9441457843120413, details={'actual_k': 2, 'was_impossible': False}),\n",
       " Prediction(uid='A2MR696ZU17F12', iid='B0016P5ASK', r_ui=5.0, est=3.5813953488372094, details={'actual_k': 0, 'was_impossible': False}),\n",
       " Prediction(uid='A110PC8C5Y7MQD', iid='B002MAPSDA', r_ui=5.0, est=4.054054054054054, details={'actual_k': 0, 'was_impossible': False}),\n",
       " Prediction(uid='AMUP8DYE7EAN2', iid='B000JJPZW0', r_ui=4.0, est=4.264433826283353, details={'was_impossible': True, 'reason': 'User and/or item is unkown.'}),\n",
       " Prediction(uid='A2LF07KCXDR70D', iid='B001UI4RTG', r_ui=4.0, est=3.90625, details={'actual_k': 0, 'was_impossible': False}),\n",
       " Prediction(uid='A6FIAB28IS79', iid='B00005AR4L', r_ui=4.0, est=4.264433826283353, details={'was_impossible': True, 'reason': 'User and/or item is unkown.'}),\n",
       " Prediction(uid='ALDAF4VVLFRHP', iid='B005IQSSJG', r_ui=5.0, est=4.508620689655173, details={'actual_k': 0, 'was_impossible': False}),\n",
       " Prediction(uid='A27ADCSD15F3GL', iid='B005MCXJHM', r_ui=2.0, est=4.079365079365079, details={'actual_k': 0, 'was_impossible': False}),\n",
       " Prediction(uid='AZAC8O310IK4E', iid='B008ALAHA4', r_ui=5.0, est=4.291666666666667, details={'actual_k': 0, 'was_impossible': False}),\n",
       " Prediction(uid='A3PCEB9ND82AGE', iid='B006Y54IK8', r_ui=5.0, est=4.886792452830188, details={'actual_k': 0, 'was_impossible': False}),\n",
       " Prediction(uid='A215IN14OKAE2T', iid='B001EQ0HAW', r_ui=2.0, est=3.727272727272727, details={'actual_k': 0, 'was_impossible': False}),\n",
       " Prediction(uid='A2XRMQA6PJ5ZJ8', iid='B005X8AOW8', r_ui=3.0, est=4.264433826283353, details={'was_impossible': True, 'reason': 'User and/or item is unkown.'}),\n",
       " Prediction(uid='A3JU990UTN5RQP', iid='B00083LFW6', r_ui=5.0, est=4.5, details={'actual_k': 0, 'was_impossible': False}),\n",
       " Prediction(uid='A3IY316DRNF5F2', iid='B004MMEHH4', r_ui=5.0, est=4.0, details={'actual_k': 0, 'was_impossible': False}),\n",
       " Prediction(uid='AFR9GYKAHM37U', iid='B001SJVU24', r_ui=5.0, est=5, details={'actual_k': 1, 'was_impossible': False}),\n",
       " Prediction(uid='AIFLY2HF8NS8U', iid='B00CQ35C1Q', r_ui=4.0, est=4.491228070175438, details={'actual_k': 0, 'was_impossible': False}),\n",
       " Prediction(uid='A2WW57XX2UVLM6', iid='B00ATM1MHO', r_ui=4.0, est=4.797976836241021, details={'actual_k': 1, 'was_impossible': False}),\n",
       " Prediction(uid='A2KOV8XWZOZ0FQ', iid='B00G5RDU5O', r_ui=4.0, est=4.571692770235991, details={'actual_k': 5, 'was_impossible': False}),\n",
       " Prediction(uid='A3LGT6UZL99IW1', iid='B003D681Q8', r_ui=1.0, est=4.264433826283353, details={'was_impossible': True, 'reason': 'User and/or item is unkown.'}),\n",
       " Prediction(uid='A36IHC0K68NS2', iid='B004QK8FBG', r_ui=2.0, est=2.9026213698451677, details={'actual_k': 3, 'was_impossible': False}),\n",
       " Prediction(uid='A1H98YV5K5BUX0', iid='B000EQ5HSK', r_ui=4.0, est=4.614035087719298, details={'actual_k': 0, 'was_impossible': False}),\n",
       " Prediction(uid='A1GQRGB8FGSLIZ', iid='B0055CAR7Y', r_ui=4.0, est=3.875, details={'actual_k': 0, 'was_impossible': False}),\n",
       " Prediction(uid='A3L9E0YI7C5G0W', iid='B004FLL5AY', r_ui=5.0, est=4.424657534246576, details={'actual_k': 0, 'was_impossible': False}),\n",
       " Prediction(uid='A2J7FHZFKOKGZ6', iid='B005VG5DLY', r_ui=5.0, est=3.779220779220779, details={'actual_k': 0, 'was_impossible': False}),\n",
       " Prediction(uid='A3UR2N0ATGBCU8', iid='B005B3VO24', r_ui=5.0, est=4.412698412698413, details={'actual_k': 0, 'was_impossible': False}),\n",
       " Prediction(uid='A3OXHLG6DIBRW8', iid='B001FA09VE', r_ui=4.0, est=4.264433826283353, details={'was_impossible': True, 'reason': 'User and/or item is unkown.'}),\n",
       " Prediction(uid='A2JKM8KF3296CW', iid='B00BEGS4R0', r_ui=5.0, est=4.3434722270077035, details={'actual_k': 3, 'was_impossible': False}),\n",
       " Prediction(uid='A2PB325LKXYDOL', iid='B002SRNS7A', r_ui=5.0, est=5, details={'actual_k': 0, 'was_impossible': False}),\n",
       " Prediction(uid='A9LNWA25IM2DX', iid='B0042X93AY', r_ui=5.0, est=4.132075471698113, details={'actual_k': 0, 'was_impossible': False}),\n",
       " Prediction(uid='A1V4VVBQBFXRHC', iid='B002LLJJAS', r_ui=5.0, est=4.534593280282936, details={'actual_k': 1, 'was_impossible': False}),\n",
       " Prediction(uid='AOQLV2LSI9B2W', iid='B007FFOL4E', r_ui=5.0, est=4.264433826283353, details={'was_impossible': True, 'reason': 'User and/or item is unkown.'}),\n",
       " Prediction(uid='A5KMMY627T3W', iid='B00009R6UI', r_ui=3.0, est=4.3979591836734695, details={'actual_k': 0, 'was_impossible': False}),\n",
       " Prediction(uid='A1TR1R2QKWRSRA', iid='B00007LTBI', r_ui=4.0, est=3.7209302325581395, details={'actual_k': 0, 'was_impossible': False}),\n",
       " Prediction(uid='AIJQU979J6UFY', iid='B006A93M7I', r_ui=5.0, est=4.243243243243243, details={'actual_k': 0, 'was_impossible': False}),\n",
       " Prediction(uid='A3QNX5KWHDV0GD', iid='B001IOPIRM', r_ui=2.0, est=3.4166666666666665, details={'actual_k': 0, 'was_impossible': False}),\n",
       " Prediction(uid='ABVYGB2TKBO8F', iid='B0038OMEQI', r_ui=4.0, est=4.2631578947368425, details={'actual_k': 0, 'was_impossible': False}),\n",
       " Prediction(uid='ARXU3FESTWMJJ', iid='B003ZHTNNK', r_ui=1.0, est=4.174573055028462, details={'actual_k': 1, 'was_impossible': False}),\n",
       " Prediction(uid='AAW7X3GRD8GY9', iid='B009NB8WR0', r_ui=5.0, est=4.487179487179487, details={'actual_k': 0, 'was_impossible': False}),\n",
       " Prediction(uid='A1VLVWTLV3LVHR', iid='B002IYDGV6', r_ui=5.0, est=4.264433826283353, details={'was_impossible': True, 'reason': 'User and/or item is unkown.'}),\n",
       " Prediction(uid='A1EH2S92FHWZRP', iid='B000U6XE7U', r_ui=3.0, est=3.760282301508979, details={'actual_k': 2, 'was_impossible': False}),\n",
       " Prediction(uid='A1MEISNED4NP7U', iid='B00603RTC8', r_ui=5.0, est=4.826086956521739, details={'actual_k': 0, 'was_impossible': False}),\n",
       " Prediction(uid='A3NHUQ33CFH3VM', iid='B00CKK8GEU', r_ui=5.0, est=4.749113636513619, details={'actual_k': 2, 'was_impossible': False}),\n",
       " Prediction(uid='A28UMA3GW9L124', iid='B000FITKK8', r_ui=4.0, est=4.373333333333333, details={'actual_k': 1, 'was_impossible': False}),\n",
       " Prediction(uid='A3HXGSMCIOZEW8', iid='B003OC6LWM', r_ui=4.0, est=4.615384615384615, details={'actual_k': 0, 'was_impossible': False}),\n",
       " Prediction(uid='AUCIFMWP3DU8R', iid='B004QMA3U0', r_ui=3.0, est=3.9545454545454546, details={'actual_k': 0, 'was_impossible': False}),\n",
       " Prediction(uid='A20DDH4NT6Q1E8', iid='B009JPBPWO', r_ui=5.0, est=4.770334775434117, details={'actual_k': 2, 'was_impossible': False}),\n",
       " Prediction(uid='A3JU990UTN5RQP', iid='B003L18YFS', r_ui=5.0, est=4.5, details={'actual_k': 0, 'was_impossible': False}),\n",
       " Prediction(uid='A2OWR5G2OAQF7C', iid='B005L38VPC', r_ui=5.0, est=5, details={'actual_k': 1, 'was_impossible': False}),\n",
       " Prediction(uid='A16CVJUQOB6GIB', iid='B008G9V60K', r_ui=5.0, est=3.8857142857142857, details={'actual_k': 0, 'was_impossible': False}),\n",
       " Prediction(uid='A54S9CIUV5VNB', iid='B006K5520C', r_ui=5.0, est=4.447761194029851, details={'actual_k': 0, 'was_impossible': False}),\n",
       " Prediction(uid='A3QQGPI3CTV9SX', iid='B0001CKQF6', r_ui=5.0, est=4.264433826283353, details={'was_impossible': True, 'reason': 'User and/or item is unkown.'}),\n",
       " Prediction(uid='A17Z0LVY96TO53', iid='B00007GQLS', r_ui=5.0, est=4.589743589743589, details={'actual_k': 0, 'was_impossible': False}),\n",
       " Prediction(uid='A2YEOR4XJ8N3QE', iid='B00ARB5FLQ', r_ui=3.0, est=4.339884214860787, details={'actual_k': 5, 'was_impossible': False}),\n",
       " Prediction(uid='A1H6SBO7R007I8', iid='B002QQ7TLY', r_ui=4.0, est=4.058355437665782, details={'actual_k': 1, 'was_impossible': False}),\n",
       " Prediction(uid='A84FLVDK2R5JF', iid='B003RRYAXQ', r_ui=4.0, est=5, details={'actual_k': 1, 'was_impossible': False}),\n",
       " Prediction(uid='A34VRVI4CSI5RQ', iid='B003X26LXW', r_ui=4.0, est=4.30188679245283, details={'actual_k': 0, 'was_impossible': False}),\n",
       " Prediction(uid='A3AYSYSLHU26U9', iid='B00CHH0JF0', r_ui=5.0, est=4.919536991305028, details={'actual_k': 5, 'was_impossible': False}),\n",
       " Prediction(uid='A12ANFNOSMW5VD', iid='B00JEU3ZA4', r_ui=4.0, est=3.878787878787879, details={'actual_k': 0, 'was_impossible': False}),\n",
       " Prediction(uid='A3HQAPXAJV7PRX', iid='B005GVAWXS', r_ui=4.0, est=4.2368421052631575, details={'actual_k': 0, 'was_impossible': False}),\n",
       " Prediction(uid='A3LGT6UZL99IW1', iid='B00009R94Q', r_ui=5.0, est=4.163265306122449, details={'actual_k': 0, 'was_impossible': False}),\n",
       " Prediction(uid='A149RNR5RH19YY', iid='B000AMLXHW', r_ui=4.0, est=4.040404040404041, details={'actual_k': 0, 'was_impossible': False}),\n",
       " Prediction(uid='A3QRR8PSCBI07C', iid='B001TYRYHS', r_ui=2.0, est=4.552631578947368, details={'actual_k': 0, 'was_impossible': False}),\n",
       " Prediction(uid='A1ZA5SXZS8Z3CK', iid='B004NMF9ES', r_ui=5.0, est=4.264433826283353, details={'was_impossible': True, 'reason': 'User and/or item is unkown.'}),\n",
       " Prediction(uid='A1UQBFCERIP7VJ', iid='B00DTZYHX4', r_ui=5.0, est=4.80701184666019, details={'actual_k': 5, 'was_impossible': False}),\n",
       " Prediction(uid='A2S26YGSVXBCFL', iid='B0034CL2ZI', r_ui=5.0, est=4.541724062516609, details={'actual_k': 5, 'was_impossible': False}),\n",
       " Prediction(uid='A27Y4OEC9MD9PA', iid='B0039ORBLK', r_ui=5.0, est=4.921052631578948, details={'actual_k': 0, 'was_impossible': False}),\n",
       " Prediction(uid='A11LNPG39A2ZV4', iid='B0012GQZZU', r_ui=5.0, est=4.333333333333333, details={'actual_k': 0, 'was_impossible': False}),\n",
       " Prediction(uid='A2TKWMX4563NR6', iid='B00000J1V7', r_ui=5.0, est=4.264433826283353, details={'was_impossible': True, 'reason': 'User and/or item is unkown.'}),\n",
       " Prediction(uid='A3KCKECEO3E2AN', iid='B0016AQ8OK', r_ui=4.0, est=4.264433826283353, details={'was_impossible': True, 'reason': 'User and/or item is unkown.'}),\n",
       " Prediction(uid='A12DQZKRKTNF5E', iid='B006U3O566', r_ui=5.0, est=5, details={'actual_k': 1, 'was_impossible': False}),\n",
       " Prediction(uid='A2XRIU3SOYZ0ZC', iid='B0012Y2LLE', r_ui=5.0, est=4.472222222222222, details={'actual_k': 0, 'was_impossible': False}),\n",
       " Prediction(uid='A2L4W1M5YU5QX3', iid='B002ZAVVHY', r_ui=2.0, est=3.727272727272727, details={'actual_k': 0, 'was_impossible': False}),\n",
       " Prediction(uid='A111WCUF5KA2I6', iid='B00BL1ERGK', r_ui=5.0, est=4.264433826283353, details={'was_impossible': True, 'reason': 'User and/or item is unkown.'}),\n",
       " Prediction(uid='AGATRDOFW48DK', iid='B000P1NAMO', r_ui=5.0, est=3.8857142857142857, details={'actual_k': 0, 'was_impossible': False}),\n",
       " Prediction(uid='A34VRVI4CSI5RQ', iid='B00372YKMM', r_ui=4.0, est=4.30188679245283, details={'actual_k': 0, 'was_impossible': False}),\n",
       " Prediction(uid='A8FKL1DHTHC12', iid='B000EW8074', r_ui=5.0, est=4.0144927536231885, details={'actual_k': 1, 'was_impossible': False}),\n",
       " Prediction(uid='A3LPL35P7FH78Y', iid='B006DLP7BM', r_ui=5.0, est=4.839285714285714, details={'actual_k': 0, 'was_impossible': False}),\n",
       " Prediction(uid='A2OOXVZ6B1VZ9A', iid='B00006HSJF', r_ui=5.0, est=4.264433826283353, details={'was_impossible': True, 'reason': 'User and/or item is unkown.'}),\n",
       " Prediction(uid='A2V1J3JT5OOZFO', iid='B0000AHO92', r_ui=1.0, est=4.175, details={'actual_k': 0, 'was_impossible': False}),\n",
       " Prediction(uid='A1UEL5C1N6E5SE', iid='B00F3F381A', r_ui=2.0, est=4.1, details={'actual_k': 0, 'was_impossible': False}),\n",
       " Prediction(uid='ABUE0ALHKWKHC', iid='B001P5GKC6', r_ui=5.0, est=4.264433826283353, details={'was_impossible': True, 'reason': 'User and/or item is unkown.'}),\n",
       " Prediction(uid='A3EXWV8FNSSFL6', iid='B0038VQET4', r_ui=3.0, est=4.514285714285714, details={'actual_k': 0, 'was_impossible': False}),\n",
       " Prediction(uid='A19RW25Q6206I3', iid='B007ZE36D2', r_ui=5.0, est=4.264433826283353, details={'was_impossible': True, 'reason': 'User and/or item is unkown.'}),\n",
       " Prediction(uid='A1F0KPA232MTYC', iid='B0052SCU8U', r_ui=5.0, est=3.985074626865672, details={'actual_k': 0, 'was_impossible': False}),\n",
       " Prediction(uid='AU3GYRAKBUAEU', iid='B00AXWOLO6', r_ui=4.0, est=3.4642857142857144, details={'actual_k': 0, 'was_impossible': False}),\n",
       " Prediction(uid='A1VLE2SH9J8WYS', iid='B0012J52OC', r_ui=5.0, est=4.333333333333333, details={'actual_k': 0, 'was_impossible': False}),\n",
       " Prediction(uid='A1MJMYLRTZ76ZX', iid='B00004SYVH', r_ui=5.0, est=4.264433826283353, details={'was_impossible': True, 'reason': 'User and/or item is unkown.'}),\n",
       " Prediction(uid='A2K5RRMPICZ606', iid='B0045XAIFU', r_ui=4.0, est=4.282051282051282, details={'actual_k': 0, 'was_impossible': False}),\n",
       " Prediction(uid='A2Y1WNETD9AYHO', iid='B003CP0K9Q', r_ui=3.0, est=4.142857142857143, details={'actual_k': 0, 'was_impossible': False}),\n",
       " Prediction(uid='A1H98YV5K5BUX0', iid='B00093IIRA', r_ui=5.0, est=4.614035087719298, details={'actual_k': 0, 'was_impossible': False}),\n",
       " Prediction(uid='A1E1LEVQ9VQNK', iid='B000HDJT4S', r_ui=5.0, est=4.887323943661972, details={'actual_k': 0, 'was_impossible': False}),\n",
       " Prediction(uid='A3QD59N3M7O7KB', iid='B0015AARJI', r_ui=4.0, est=4.170731707317073, details={'actual_k': 0, 'was_impossible': False}),\n",
       " Prediction(uid='AZ515FFZ7I2P7', iid='B006TAP096', r_ui=5.0, est=4.278846153846154, details={'actual_k': 0, 'was_impossible': False}),\n",
       " Prediction(uid='ALUNVOQRXOZIA', iid='B00ARSNT7Q', r_ui=1.0, est=4.264433826283353, details={'was_impossible': True, 'reason': 'User and/or item is unkown.'}),\n",
       " Prediction(uid='A1W415JP5WEAJK', iid='B00DS5QZRQ', r_ui=5.0, est=4.527310202679492, details={'actual_k': 1, 'was_impossible': False}),\n",
       " Prediction(uid='A28525P0S5ZVJ3', iid='B000701CKU', r_ui=5.0, est=4.264433826283353, details={'was_impossible': True, 'reason': 'User and/or item is unkown.'}),\n",
       " Prediction(uid='A3P4T1DKRWTL36', iid='B006IC3GHS', r_ui=5.0, est=4.404761904761905, details={'actual_k': 0, 'was_impossible': False}),\n",
       " Prediction(uid='A3B20R4ZAH0Y2Y', iid='B004H8FNJO', r_ui=3.0, est=4.28, details={'actual_k': 0, 'was_impossible': False}),\n",
       " Prediction(uid='A3HPCRD9RX351S', iid='B0002EE5JQ', r_ui=5.0, est=4.382352941176471, details={'actual_k': 0, 'was_impossible': False}),\n",
       " Prediction(uid='A16CVJUQOB6GIB', iid='B00596CP9E', r_ui=1.0, est=4.264433826283353, details={'was_impossible': True, 'reason': 'User and/or item is unkown.'}),\n",
       " Prediction(uid='A1WF4QNIE2Z3I7', iid='B005ES0YYA', r_ui=5.0, est=4.540983606557377, details={'actual_k': 0, 'was_impossible': False}),\n",
       " Prediction(uid='A3QRR8PSCBI07C', iid='B003ES5ZUU', r_ui=5.0, est=4.552631578947368, details={'actual_k': 0, 'was_impossible': False}),\n",
       " Prediction(uid='A2U3OEIK1CUPIK', iid='B000FTU77C', r_ui=4.0, est=4.545454545454546, details={'actual_k': 0, 'was_impossible': False}),\n",
       " Prediction(uid='A17HMM1M7T9PJ1', iid='B004YHXXKO', r_ui=4.0, est=4.1849881497910975, details={'actual_k': 3, 'was_impossible': False}),\n",
       " Prediction(uid='A1RPTVW5VEOSI', iid='B00DUKJ5CQ', r_ui=4.0, est=4.068376068376068, details={'actual_k': 0, 'was_impossible': False}),\n",
       " Prediction(uid='A1TQBAHI3M4ZBQ', iid='B001GUW2PY', r_ui=5.0, est=4.264433826283353, details={'was_impossible': True, 'reason': 'User and/or item is unkown.'}),\n",
       " Prediction(uid='A38KK0SZYEH5UD', iid='B001IAYUM0', r_ui=5.0, est=4.372262773722627, details={'actual_k': 0, 'was_impossible': False}),\n",
       " Prediction(uid='A1ITRGMT80D5TK', iid='B00904JILO', r_ui=2.0, est=3.7132616487455197, details={'actual_k': 1, 'was_impossible': False}),\n",
       " Prediction(uid='AVSMRPI23DQI2', iid='B00007LTBI', r_ui=5.0, est=4.52, details={'actual_k': 0, 'was_impossible': False}),\n",
       " Prediction(uid='A2J4XMWKR8PPD0', iid='B00032AVN6', r_ui=5.0, est=4.264433826283353, details={'was_impossible': True, 'reason': 'User and/or item is unkown.'}),\n",
       " Prediction(uid='AVJORH3ACR2A5', iid='B0083J8D90', r_ui=5.0, est=4.586956521739131, details={'actual_k': 0, 'was_impossible': False}),\n",
       " Prediction(uid='A253IOATGMT2UP', iid='B00004ZC8Y', r_ui=3.0, est=4.508474576271187, details={'actual_k': 0, 'was_impossible': False}),\n",
       " Prediction(uid='A17NVM7IAPF2NS', iid='B000TNZBFW', r_ui=5.0, est=4.264433826283353, details={'was_impossible': True, 'reason': 'User and/or item is unkown.'}),\n",
       " Prediction(uid='A3VTOLNB5N6FVP', iid='B00I2N6O20', r_ui=4.0, est=4.264433826283353, details={'was_impossible': True, 'reason': 'User and/or item is unkown.'}),\n",
       " Prediction(uid='A2CL818RN52NWN', iid='B0009O5MUA', r_ui=3.0, est=4.264433826283353, details={'was_impossible': True, 'reason': 'User and/or item is unkown.'}),\n",
       " Prediction(uid='AV8MDYLHHTUOY', iid='B00HFRWWAM', r_ui=5.0, est=3.991442771029691, details={'actual_k': 5, 'was_impossible': False}),\n",
       " Prediction(uid='AR74YY08IP2WE', iid='B00351F1Q4', r_ui=5.0, est=4.264433826283353, details={'was_impossible': True, 'reason': 'User and/or item is unkown.'}),\n",
       " Prediction(uid='AZMY6E8B52L2T', iid='B0029L6JQW', r_ui=5.0, est=4.264433826283353, details={'was_impossible': True, 'reason': 'User and/or item is unkown.'}),\n",
       " Prediction(uid='A3VTOLNB5N6FVP', iid='B00AXVXXNC', r_ui=5.0, est=4.357142857142857, details={'actual_k': 0, 'was_impossible': False}),\n",
       " Prediction(uid='A2EHYCA29NSQLU', iid='B002IPHSOG', r_ui=5.0, est=4.264433826283353, details={'was_impossible': True, 'reason': 'User and/or item is unkown.'}),\n",
       " Prediction(uid='A3V7D0LH8L7BG0', iid='B000WVGR9U', r_ui=5.0, est=4.264433826283353, details={'was_impossible': True, 'reason': 'User and/or item is unkown.'}),\n",
       " Prediction(uid='A5GPH59NDWJRB', iid='B001QXDN5O', r_ui=5.0, est=4.138888888888889, details={'actual_k': 0, 'was_impossible': False}),\n",
       " Prediction(uid='A30JPZ9TZ7I61U', iid='B007W7PIZ6', r_ui=5.0, est=4.977978518637067, details={'actual_k': 3, 'was_impossible': False}),\n",
       " Prediction(uid='A3JUHP1E3WUHEA', iid='B005GOINEK', r_ui=5.0, est=3.933638335931219, details={'actual_k': 2, 'was_impossible': False}),\n",
       " Prediction(uid='A2NOW4U7W3F7RI', iid='B00GJYJFKM', r_ui=5.0, est=4.7711442786069655, details={'actual_k': 0, 'was_impossible': False}),\n",
       " Prediction(uid='A36K2N527TXXJN', iid='B008X9Z44M', r_ui=4.0, est=4.5212863275990305, details={'actual_k': 5, 'was_impossible': False}),\n",
       " Prediction(uid='A1IU7S4HCK1XK0', iid='B000136P8W', r_ui=5.0, est=4.4526315789473685, details={'actual_k': 0, 'was_impossible': False}),\n",
       " Prediction(uid='A37IRE9GZ0CZ7I', iid='B00E1HIVG8', r_ui=4.0, est=4.070422535211268, details={'actual_k': 0, 'was_impossible': False}),\n",
       " Prediction(uid='A3S0DBBR693O06', iid='B009NQLT0M', r_ui=5.0, est=4.5, details={'actual_k': 0, 'was_impossible': False}),\n",
       " Prediction(uid='A23GFTVIETX7DS', iid='B000UF3FT8', r_ui=4.0, est=1.0535503299804532, details={'actual_k': 2, 'was_impossible': False}),\n",
       " Prediction(uid='A19XMHRB3G4DIR', iid='B000MVBV2S', r_ui=5.0, est=4.264433826283353, details={'was_impossible': True, 'reason': 'User and/or item is unkown.'}),\n",
       " Prediction(uid='A3IJ4Z18FTIIP', iid='B0007OWNCC', r_ui=3.0, est=3.72972972972973, details={'actual_k': 0, 'was_impossible': False}),\n",
       " Prediction(uid='A1FXT4VNDA25LY', iid='B00125Y0NU', r_ui=5.0, est=4.6976744186046515, details={'actual_k': 0, 'was_impossible': False}),\n",
       " Prediction(uid='AFHYEO3Y1IIDD', iid='B007GR44PM', r_ui=3.0, est=3.926829268292683, details={'actual_k': 0, 'was_impossible': False}),\n",
       " Prediction(uid='A3FPSY1M6G7XIB', iid='B00FBSFYAC', r_ui=4.0, est=4.264433826283353, details={'was_impossible': True, 'reason': 'User and/or item is unkown.'}),\n",
       " Prediction(uid='ABQWMANK4AR63', iid='B003NR57BY', r_ui=5.0, est=4.440638647458827, details={'actual_k': 4, 'was_impossible': False}),\n",
       " Prediction(uid='A2F2F7N94SR1KQ', iid='B009P8KTPE', r_ui=3.0, est=4.264433826283353, details={'was_impossible': True, 'reason': 'User and/or item is unkown.'}),\n",
       " Prediction(uid='A3F3B6HY9RJI04', iid='B00ARB5FLQ', r_ui=5.0, est=4.506932793232884, details={'actual_k': 5, 'was_impossible': False}),\n",
       " Prediction(uid='A3F8T3BRXRX5P3', iid='B008FC8FPC', r_ui=4.0, est=3.851063829787234, details={'actual_k': 0, 'was_impossible': False}),\n",
       " Prediction(uid='AWPODHOB4GFWL', iid='B00AYQ433U', r_ui=5.0, est=5, details={'actual_k': 2, 'was_impossible': False}),\n",
       " Prediction(uid='A25TNBMJ4ZO7RD', iid='B007JGB4RQ', r_ui=4.0, est=3.65625, details={'actual_k': 0, 'was_impossible': False}),\n",
       " Prediction(uid='A3AGQAXTX6VRJ3', iid='B0007QKMQY', r_ui=5.0, est=4.571428571428571, details={'actual_k': 0, 'was_impossible': False}),\n",
       " Prediction(uid='A2V7EO331SFUF6', iid='B00005T3NH', r_ui=1.0, est=4.264433826283353, details={'was_impossible': True, 'reason': 'User and/or item is unkown.'}),\n",
       " Prediction(uid='A2BMZRO0H7TFCS', iid='B0035JJJQY', r_ui=4.0, est=3.8204638525531798, details={'actual_k': 5, 'was_impossible': False}),\n",
       " Prediction(uid='A2SH6A32BE6NEV', iid='B00029IY8O', r_ui=3.0, est=4.264433826283353, details={'was_impossible': True, 'reason': 'User and/or item is unkown.'}),\n",
       " Prediction(uid='A2EZTM9WY5B5IL', iid='B002SWA530', r_ui=3.0, est=4.264433826283353, details={'was_impossible': True, 'reason': 'User and/or item is unkown.'}),\n",
       " Prediction(uid='A5KMMY627T3W', iid='B001BS3A3E', r_ui=5.0, est=4.264433826283353, details={'was_impossible': True, 'reason': 'User and/or item is unkown.'}),\n",
       " Prediction(uid='A7UPJYPAH73NC', iid='B001F50UDG', r_ui=3.0, est=3.370567357861529, details={'actual_k': 2, 'was_impossible': False}),\n",
       " Prediction(uid='A2BGZ52M908MJY', iid='B00004ZCA5', r_ui=5.0, est=4.027777777777778, details={'actual_k': 0, 'was_impossible': False}),\n",
       " Prediction(uid='A22CW0ZHY3NJH8', iid='B00D1V2882', r_ui=5.0, est=2.02350854651597, details={'actual_k': 3, 'was_impossible': False}),\n",
       " Prediction(uid='A2LW5AL0KQ9P1M', iid='B0088CJT4U', r_ui=5.0, est=4.394671165551277, details={'actual_k': 5, 'was_impossible': False}),\n",
       " Prediction(uid='APMYPD97EHUUZ', iid='B000MS5SI4', r_ui=3.0, est=4.264433826283353, details={'was_impossible': True, 'reason': 'User and/or item is unkown.'}),\n",
       " Prediction(uid='AIJQU979J6UFY', iid='B00FA4Y7N2', r_ui=4.0, est=4.6037083595223125, details={'actual_k': 1, 'was_impossible': False}),\n",
       " Prediction(uid='AL1XV4L25FZ2S', iid='B002Y6CJJ8', r_ui=5.0, est=3.3850931677018634, details={'actual_k': 1, 'was_impossible': False}),\n",
       " Prediction(uid='AU627A4UGIW6V', iid='B0046RZUEE', r_ui=5.0, est=4.264433826283353, details={'was_impossible': True, 'reason': 'User and/or item is unkown.'}),\n",
       " Prediction(uid='A3F3B6HY9RJI04', iid='B00GMGDFPI', r_ui=5.0, est=5, details={'actual_k': 1, 'was_impossible': False}),\n",
       " Prediction(uid='ADLVFFE4VBT8', iid='B004SD2562', r_ui=3.0, est=3.540309703380359, details={'actual_k': 2, 'was_impossible': False}),\n",
       " Prediction(uid='AT6CZDCP4TRGA', iid='B00006HYJ5', r_ui=3.0, est=3.5947712418300655, details={'actual_k': 0, 'was_impossible': False}),\n",
       " Prediction(uid='A379DLIAF0MFM5', iid='B000FP0K78', r_ui=4.0, est=4.411764705882353, details={'actual_k': 0, 'was_impossible': False}),\n",
       " Prediction(uid='A1MFPAM9TTRTXN', iid='B0014JFXSK', r_ui=5.0, est=4.976744186046512, details={'actual_k': 0, 'was_impossible': False}),\n",
       " Prediction(uid='A33775AIB1A664', iid='B00004TZJQ', r_ui=4.0, est=4.264433826283353, details={'was_impossible': True, 'reason': 'User and/or item is unkown.'}),\n",
       " Prediction(uid='A1SHHQSPOWR00F', iid='B005DK4RVA', r_ui=3.0, est=4.264433826283353, details={'was_impossible': True, 'reason': 'User and/or item is unkown.'}),\n",
       " Prediction(uid='A4WEZJOIZIV4U', iid='B00G6IJ5NI', r_ui=5.0, est=4.980760756820597, details={'actual_k': 2, 'was_impossible': False}),\n",
       " Prediction(uid='A18S2VGUH9SCV5', iid='B00B981GKA', r_ui=5.0, est=3.35, details={'actual_k': 1, 'was_impossible': False}),\n",
       " Prediction(uid='A2JP9E1H0SF392', iid='B00FH2MV80', r_ui=5.0, est=4.386666666666667, details={'actual_k': 0, 'was_impossible': False}),\n",
       " Prediction(uid='A3D7BGK0P5QY0X', iid='B007F9XJW0', r_ui=3.0, est=4.264433826283353, details={'was_impossible': True, 'reason': 'User and/or item is unkown.'}),\n",
       " Prediction(uid='A35HNL2VEDK9Z1', iid='B0050YG3CU', r_ui=5.0, est=4.0638297872340425, details={'actual_k': 0, 'was_impossible': False}),\n",
       " Prediction(uid='A1EKSETIBS9ETQ', iid='B004M8SVGG', r_ui=4.0, est=4.233009708737864, details={'actual_k': 0, 'was_impossible': False}),\n",
       " Prediction(uid='A2WB7LZ595CR50', iid='B002SG7MEG', r_ui=1.0, est=3.8333333333333335, details={'actual_k': 0, 'was_impossible': False}),\n",
       " Prediction(uid='A1BT6TL7UCIC5Y', iid='B0002BRMNA', r_ui=4.0, est=4.264433826283353, details={'was_impossible': True, 'reason': 'User and/or item is unkown.'}),\n",
       " Prediction(uid='A2NX6PABLIJLP1', iid='B000NVEG8S', r_ui=4.0, est=4.264433826283353, details={'was_impossible': True, 'reason': 'User and/or item is unkown.'}),\n",
       " Prediction(uid='AR3EVUQF0AC7R', iid='B00CO0DE0W', r_ui=4.0, est=3.165561912362425, details={'actual_k': 2, 'was_impossible': False}),\n",
       " Prediction(uid='A1E55W6ES0FY17', iid='B001HBHLEY', r_ui=1.0, est=3.4545454545454546, details={'actual_k': 0, 'was_impossible': False}),\n",
       " Prediction(uid='A8CKH8XB33XGN', iid='B005DKZTMG', r_ui=3.0, est=5, details={'actual_k': 1, 'was_impossible': False}),\n",
       " Prediction(uid='A214W7SK2DJQ99', iid='B005DIYQA4', r_ui=4.0, est=4.264433826283353, details={'was_impossible': True, 'reason': 'User and/or item is unkown.'}),\n",
       " Prediction(uid='A3FOSLM5G1BO63', iid='B00E4HF4ZG', r_ui=4.0, est=2.388232044309402, details={'actual_k': 2, 'was_impossible': False}),\n",
       " Prediction(uid='A1FOSIV4TWZFR7', iid='B003VVYL46', r_ui=5.0, est=4.264433826283353, details={'was_impossible': True, 'reason': 'User and/or item is unkown.'}),\n",
       " Prediction(uid='AL5CUWBFBMWYQ', iid='B003YO26D8', r_ui=5.0, est=4.264433826283353, details={'was_impossible': True, 'reason': 'User and/or item is unkown.'}),\n",
       " Prediction(uid='A2CWIYIETNBAK3', iid='B003X26LYG', r_ui=5.0, est=4.5, details={'actual_k': 0, 'was_impossible': False}),\n",
       " Prediction(uid='AULFLNWJP1QXY', iid='B00009UHYQ', r_ui=2.0, est=4.264433826283353, details={'was_impossible': True, 'reason': 'User and/or item is unkown.'}),\n",
       " Prediction(uid='A2HPJKM7L4EOQB', iid='B00C699L30', r_ui=5.0, est=4.290909090909091, details={'actual_k': 0, 'was_impossible': False}),\n",
       " Prediction(uid='A3V7D0LH8L7BG0', iid='B00GDL2PPI', r_ui=4.0, est=4.06948931233776, details={'actual_k': 2, 'was_impossible': False}),\n",
       " Prediction(uid='A14JBDSWKPKTZA', iid='B001F7HLRC', r_ui=4.0, est=4.531465612822577, details={'actual_k': 2, 'was_impossible': False}),\n",
       " Prediction(uid='AGOH8N902URMW', iid='B005NYPC1U', r_ui=5.0, est=3.4480095068330368, details={'actual_k': 1, 'was_impossible': False}),\n",
       " Prediction(uid='A2F4HP0J5VNOYR', iid='B0000BZL1P', r_ui=4.0, est=4.470588235294118, details={'actual_k': 0, 'was_impossible': False}),\n",
       " Prediction(uid='A28621TSIR5EOG', iid='B000E65DG6', r_ui=5.0, est=4.875, details={'actual_k': 0, 'was_impossible': False}),\n",
       " Prediction(uid='APOGXH3A74CM3', iid='B008MJ01QE', r_ui=4.0, est=4.745098039215686, details={'actual_k': 0, 'was_impossible': False}),\n",
       " Prediction(uid='A25FL6VLD7S23S', iid='B00FA4UILW', r_ui=5.0, est=4.264433826283353, details={'was_impossible': True, 'reason': 'User and/or item is unkown.'}),\n",
       " Prediction(uid='AUBEFRFHJR64Y', iid='B002FL4WYW', r_ui=5.0, est=4.015151515151516, details={'actual_k': 0, 'was_impossible': False}),\n",
       " Prediction(uid='A31BD4RXCON7QO', iid='B000VUIXOO', r_ui=5.0, est=4.214285714285714, details={'actual_k': 0, 'was_impossible': False}),\n",
       " Prediction(uid='A1MZL91Z44RN06', iid='B000652M6Y', r_ui=5.0, est=4.0487179487179485, details={'actual_k': 1, 'was_impossible': False}),\n",
       " Prediction(uid='A1CST2WUA32GP0', iid='B005HXFARS', r_ui=5.0, est=3.90625, details={'actual_k': 0, 'was_impossible': False}),\n",
       " Prediction(uid='A3SU7JSTPH9CC9', iid='B006QR25WW', r_ui=3.0, est=4.783783783783784, details={'actual_k': 0, 'was_impossible': False}),\n",
       " Prediction(uid='A1NMM0RDRF6R84', iid='B0098V1GJG', r_ui=5.0, est=4.264433826283353, details={'was_impossible': True, 'reason': 'User and/or item is unkown.'}),\n",
       " Prediction(uid='A1PL7QILVQV3IF', iid='B00654PTT2', r_ui=4.0, est=3.9038461538461537, details={'actual_k': 0, 'was_impossible': False}),\n",
       " Prediction(uid='A2KZOIOFXXMC1H', iid='B001AHVNAI', r_ui=4.0, est=4.264433826283353, details={'was_impossible': True, 'reason': 'User and/or item is unkown.'}),\n",
       " Prediction(uid='A17BUUBOU0598B', iid='B000TXEE14', r_ui=4.0, est=3.4171428571428573, details={'actual_k': 0, 'was_impossible': False}),\n",
       " Prediction(uid='A2QIC4G483SQQA', iid='B005E97ZUU', r_ui=5.0, est=4.388888888888889, details={'actual_k': 0, 'was_impossible': False}),\n",
       " Prediction(uid='A316XO4RWX21YN', iid='B002M78L6E', r_ui=3.0, est=4.157894736842105, details={'actual_k': 0, 'was_impossible': False}),\n",
       " Prediction(uid='A2KHG3JOFXQ4CE', iid='B000RZQZM0', r_ui=3.0, est=4.221703980099502, details={'actual_k': 1, 'was_impossible': False}),\n",
       " Prediction(uid='A19W47CXJJP1MI', iid='B00FGOTA6K', r_ui=5.0, est=4.196517906336089, details={'actual_k': 1, 'was_impossible': False}),\n",
       " Prediction(uid='A19HKRB4LU5YR', iid='B00DUTIZJG', r_ui=4.0, est=5, details={'actual_k': 1, 'was_impossible': False}),\n",
       " Prediction(uid='ABQWMANK4AR63', iid='B006OW1J1M', r_ui=3.0, est=2.792433182922596, details={'actual_k': 1, 'was_impossible': False}),\n",
       " Prediction(uid='A1IBKN1GXYJ3K4', iid='B002BWQA7W', r_ui=4.0, est=4.326530612244898, details={'actual_k': 0, 'was_impossible': False}),\n",
       " Prediction(uid='A2TRXEZYU9GYY8', iid='B005CKQF3E', r_ui=5.0, est=4.7105263157894735, details={'actual_k': 0, 'was_impossible': False}),\n",
       " Prediction(uid='A2MOD50IHEDH3G', iid='B002FP0PO4', r_ui=1.0, est=4.342105263157895, details={'actual_k': 0, 'was_impossible': False}),\n",
       " Prediction(uid='AN81JUYW2SL24', iid='B000JV9NL2', r_ui=5.0, est=4.181818181818182, details={'actual_k': 0, 'was_impossible': False}),\n",
       " Prediction(uid='A6FIAB28IS79', iid='B001U612R8', r_ui=5.0, est=3.6494660535834096, details={'actual_k': 2, 'was_impossible': False}),\n",
       " Prediction(uid='A3VONQL7YW8UPM', iid='B007WTAJTO', r_ui=5.0, est=4.0, details={'actual_k': 0, 'was_impossible': False}),\n",
       " Prediction(uid='A38KK0SZYEH5UD', iid='B0000C0XS0', r_ui=1.0, est=4.372262773722627, details={'actual_k': 0, 'was_impossible': False}),\n",
       " Prediction(uid='A28525P0S5ZVJ3', iid='B00506X8I0', r_ui=5.0, est=4.264433826283353, details={'was_impossible': True, 'reason': 'User and/or item is unkown.'}),\n",
       " Prediction(uid='A3CW0ZLUO5X2B1', iid='B0097BEFYA', r_ui=4.0, est=5, details={'actual_k': 2, 'was_impossible': False}),\n",
       " Prediction(uid='A2V5M5EJPOD2IU', iid='B002Y2NI4M', r_ui=3.0, est=4.6395348837209305, details={'actual_k': 0, 'was_impossible': False}),\n",
       " Prediction(uid='A3V7D0LH8L7BG0', iid='B00065ANYC', r_ui=5.0, est=4.367521367521367, details={'actual_k': 0, 'was_impossible': False}),\n",
       " Prediction(uid='A2PSD2R9A1CXG7', iid='B0088CJT4U', r_ui=5.0, est=3.8872720221374366, details={'actual_k': 5, 'was_impossible': False}),\n",
       " Prediction(uid='AOEAD7DPLZE53', iid='B0070S7DDM', r_ui=4.0, est=3.52027027027027, details={'actual_k': 0, 'was_impossible': False}),\n",
       " Prediction(uid='A1V5TRJXTI6F01', iid='B004GCJEZU', r_ui=5.0, est=4.685714285714286, details={'actual_k': 0, 'was_impossible': False}),\n",
       " Prediction(uid='A3U029B8Z5WGI2', iid='B004JMZPJQ', r_ui=5.0, est=5, details={'actual_k': 1, 'was_impossible': False}),\n",
       " Prediction(uid='A19X4BF861LQST', iid='B00178RDZ4', r_ui=5.0, est=3.7261904761904763, details={'actual_k': 0, 'was_impossible': False}),\n",
       " Prediction(uid='A2NX6PABLIJLP1', iid='B00BR3ZYIW', r_ui=4.0, est=4.439024390243903, details={'actual_k': 0, 'was_impossible': False}),\n",
       " Prediction(uid='AW68KVDV7BBRS', iid='B00429N18S', r_ui=1.0, est=5, details={'actual_k': 1, 'was_impossible': False}),\n",
       " Prediction(uid='A2SL5IW096Z2BL', iid='B000065BPB', r_ui=5.0, est=4.395348837209302, details={'actual_k': 0, 'was_impossible': False}),\n",
       " Prediction(uid='ACQYIC13JXAOI', iid='B00834SJNA', r_ui=5.0, est=5, details={'actual_k': 5, 'was_impossible': False}),\n",
       " Prediction(uid='AGXMC3ITWZASE', iid='B001LK8P14', r_ui=4.0, est=3.906180807147418, details={'actual_k': 3, 'was_impossible': False}),\n",
       " Prediction(uid='A2FSOHSM9X13JT', iid='B009D79VH4', r_ui=5.0, est=4.639344262295082, details={'actual_k': 0, 'was_impossible': False}),\n",
       " Prediction(uid='A1VUN4JU731CBH', iid='B0002SAE56', r_ui=5.0, est=3.7142857142857144, details={'actual_k': 0, 'was_impossible': False}),\n",
       " Prediction(uid='A2DG63DN704LOI', iid='B00JTU88Y2', r_ui=5.0, est=4.475, details={'actual_k': 0, 'was_impossible': False}),\n",
       " Prediction(uid='A3FOSLM5G1BO63', iid='B00FSB799G', r_ui=4.0, est=3.643835616438356, details={'actual_k': 0, 'was_impossible': False}),\n",
       " Prediction(uid='A1CSRR7FCKBL9M', iid='B003WJ218U', r_ui=5.0, est=4.25531914893617, details={'actual_k': 0, 'was_impossible': False}),\n",
       " Prediction(uid='A2Z9S2RQD542CP', iid='B00E0MYOL0', r_ui=3.0, est=4.264433826283353, details={'was_impossible': True, 'reason': 'User and/or item is unkown.'}),\n",
       " Prediction(uid='AQM0K7MBBT4AY', iid='B00D2LR76E', r_ui=5.0, est=4.108695652173913, details={'actual_k': 0, 'was_impossible': False}),\n",
       " Prediction(uid='A3Q1J68QY1MZQ9', iid='B0014KOB6Y', r_ui=3.0, est=4.086956521739131, details={'actual_k': 0, 'was_impossible': False}),\n",
       " Prediction(uid='AGHZXQL9F94T9', iid='B00008J639', r_ui=4.0, est=4.264433826283353, details={'was_impossible': True, 'reason': 'User and/or item is unkown.'}),\n",
       " Prediction(uid='A328S9RN3U5M68', iid='B0082E9K7U', r_ui=5.0, est=4.979166666666667, details={'actual_k': 0, 'was_impossible': False}),\n",
       " Prediction(uid='A3J2YU2D9BH2J7', iid='B000E8BGCE', r_ui=5.0, est=4.3584905660377355, details={'actual_k': 0, 'was_impossible': False}),\n",
       " Prediction(uid='A1CST2WUA32GP0', iid='B002FYCH9Q', r_ui=4.0, est=4.264433826283353, details={'was_impossible': True, 'reason': 'User and/or item is unkown.'}),\n",
       " Prediction(uid='A2BMZRO0H7TFCS', iid='B009NHWVIA', r_ui=3.0, est=4.162899714737368, details={'actual_k': 5, 'was_impossible': False}),\n",
       " Prediction(uid='A2J8T58Z4X15IO', iid='B002DYGQI6', r_ui=5.0, est=4.264433826283353, details={'was_impossible': True, 'reason': 'User and/or item is unkown.'}),\n",
       " Prediction(uid='A2D1ZQEFS1NBH2', iid='B00GWNJ4GK', r_ui=4.0, est=4.264433826283353, details={'was_impossible': True, 'reason': 'User and/or item is unkown.'}),\n",
       " Prediction(uid='A1H4IVXNXWWBLV', iid='B0039NLS4C', r_ui=3.0, est=4.258064516129032, details={'actual_k': 0, 'was_impossible': False}),\n",
       " Prediction(uid='A3OXHLG6DIBRW8', iid='B00006FXHQ', r_ui=4.0, est=4.465181058495822, details={'actual_k': 0, 'was_impossible': False}),\n",
       " Prediction(uid='A2FZQF0MH29VYN', iid='B003P92D9Y', r_ui=4.0, est=4.6, details={'actual_k': 0, 'was_impossible': False}),\n",
       " Prediction(uid='A335QXPTV1RIV1', iid='B0007OELV8', r_ui=3.0, est=4.264433826283353, details={'was_impossible': True, 'reason': 'User and/or item is unkown.'}),\n",
       " Prediction(uid='A24P4E3RJ6AX94', iid='B005JACJ50', r_ui=5.0, est=5, details={'actual_k': 1, 'was_impossible': False}),\n",
       " Prediction(uid='AT6CZDCP4TRGA', iid='B000GLQK20', r_ui=4.0, est=4.264433826283353, details={'was_impossible': True, 'reason': 'User and/or item is unkown.'}),\n",
       " Prediction(uid='A3MFORLOKIOEQY', iid='B00CF5OHZ2', r_ui=4.0, est=4.5479452054794525, details={'actual_k': 0, 'was_impossible': False}),\n",
       " Prediction(uid='A25TQLMIAPI1T6', iid='B0048IATQ0', r_ui=5.0, est=5, details={'actual_k': 1, 'was_impossible': False}),\n",
       " Prediction(uid='AWPODHOB4GFWL', iid='B00E3FHXYO', r_ui=5.0, est=4.987946833306635, details={'actual_k': 5, 'was_impossible': False}),\n",
       " Prediction(uid='AAR7CEPXYJA0T', iid='B003FP7PDW', r_ui=2.0, est=3.6769230769230767, details={'actual_k': 0, 'was_impossible': False}),\n",
       " Prediction(uid='A1U5IJHJK84S54', iid='B0044TVYWG', r_ui=1.0, est=4.264433826283353, details={'was_impossible': True, 'reason': 'User and/or item is unkown.'}),\n",
       " Prediction(uid='AS2II0671KT2C', iid='B000M7YZHU', r_ui=3.0, est=4.264433826283353, details={'was_impossible': True, 'reason': 'User and/or item is unkown.'}),\n",
       " Prediction(uid='A2G563AC1HME2R', iid='B003WUBL0S', r_ui=5.0, est=4.264433826283353, details={'was_impossible': True, 'reason': 'User and/or item is unkown.'}),\n",
       " Prediction(uid='A3IJL9A50KVVZ1', iid='B0002Y5WXE', r_ui=5.0, est=4.666666666666667, details={'actual_k': 0, 'was_impossible': False}),\n",
       " Prediction(uid='A10ZFE6YE0UHW8', iid='B006K551LM', r_ui=2.0, est=3.8351648351648353, details={'actual_k': 0, 'was_impossible': False}),\n",
       " Prediction(uid='A1CMD08Z49PGKQ', iid='B003HKRVAW', r_ui=5.0, est=4.838323353293413, details={'actual_k': 0, 'was_impossible': False}),\n",
       " Prediction(uid='AMS2CPERWN7JV', iid='B009PK9S90', r_ui=5.0, est=4.421652421652422, details={'actual_k': 1, 'was_impossible': False}),\n",
       " Prediction(uid='A2EMUM49CE0JV4', iid='B001G2RAMW', r_ui=5.0, est=4.738095238095238, details={'actual_k': 0, 'was_impossible': False}),\n",
       " Prediction(uid='A1X3DA7C61WZLQ', iid='B00CM1AANW', r_ui=5.0, est=3.4634146341463414, details={'actual_k': 0, 'was_impossible': False}),\n",
       " Prediction(uid='A1K4G5YJDJQI6Q', iid='B001S14DJE', r_ui=3.0, est=4.264433826283353, details={'was_impossible': True, 'reason': 'User and/or item is unkown.'}),\n",
       " Prediction(uid='ATDQ9CGCWTT8D', iid='B005C98484', r_ui=5.0, est=4.264433826283353, details={'was_impossible': True, 'reason': 'User and/or item is unkown.'}),\n",
       " Prediction(uid='A11EYMH9UV9XG7', iid='B00006HVT4', r_ui=5.0, est=4.264433826283353, details={'was_impossible': True, 'reason': 'User and/or item is unkown.'}),\n",
       " Prediction(uid='A11IXJ8M1JO296', iid='B00BQ5RY1G', r_ui=5.0, est=4.153846153846154, details={'actual_k': 0, 'was_impossible': False}),\n",
       " Prediction(uid='A2AY4YUOX2N1BQ', iid='B001E01DEW', r_ui=4.0, est=4.264433826283353, details={'was_impossible': True, 'reason': 'User and/or item is unkown.'}),\n",
       " Prediction(uid='A28BX3MM90A6FI', iid='B0001LRIT4', r_ui=5.0, est=4.462962962962963, details={'actual_k': 0, 'was_impossible': False}),\n",
       " Prediction(uid='A18FLOC8YQY0P8', iid='B00D18U63O', r_ui=5.0, est=4.268817204301075, details={'actual_k': 0, 'was_impossible': False}),\n",
       " Prediction(uid='A203OCQQ12MAVT', iid='B002TLSOFQ', r_ui=5.0, est=4.1350927619545335, details={'actual_k': 1, 'was_impossible': False}),\n",
       " Prediction(uid='A2PZXXPGLXXKZU', iid='B0068ALV8Q', r_ui=4.0, est=3.7761194029850746, details={'actual_k': 0, 'was_impossible': False}),\n",
       " Prediction(uid='AFNG8O2DXRCUV', iid='B002SQK2F2', r_ui=4.0, est=3.2247354222867814, details={'actual_k': 1, 'was_impossible': False}),\n",
       " Prediction(uid='A2AEZQ3DGBBLPR', iid='B000056SSM', r_ui=2.0, est=3.736842105263158, details={'actual_k': 0, 'was_impossible': False}),\n",
       " Prediction(uid='A1SFPA80X7TRBR', iid='B000XY4AD6', r_ui=4.0, est=4.615384615384615, details={'actual_k': 0, 'was_impossible': False}),\n",
       " Prediction(uid='A2NX6PABLIJLP1', iid='B003ZSP0WW', r_ui=5.0, est=4.439024390243903, details={'actual_k': 0, 'was_impossible': False}),\n",
       " Prediction(uid='A1KKE6VX8VPWZK', iid='B001G9IP92', r_ui=5.0, est=4.264433826283353, details={'was_impossible': True, 'reason': 'User and/or item is unkown.'}),\n",
       " Prediction(uid='AYB4ELCS5AM8P', iid='B008X9Z528', r_ui=4.0, est=4.298348112456535, details={'actual_k': 5, 'was_impossible': False}),\n",
       " Prediction(uid='AXU8RH1DEV21H', iid='B0000D89CX', r_ui=5.0, est=4.264433826283353, details={'was_impossible': True, 'reason': 'User and/or item is unkown.'}),\n",
       " Prediction(uid='A1N5FSCYN4796F', iid='B003I4FHNA', r_ui=4.0, est=4.902298850574713, details={'actual_k': 1, 'was_impossible': False}),\n",
       " Prediction(uid='A1E3OB6QMBKRYZ', iid='B004UR1670', r_ui=4.0, est=3.8529411764705883, details={'actual_k': 0, 'was_impossible': False}),\n",
       " Prediction(uid='A1AQ8JT2A3UWMY', iid='B002G1YPH0', r_ui=5.0, est=4.0, details={'actual_k': 0, 'was_impossible': False}),\n",
       " Prediction(uid='A2JKM8KF3296CW', iid='B00EZ9XGGC', r_ui=3.0, est=3.3095238095238098, details={'actual_k': 1, 'was_impossible': False}),\n",
       " Prediction(uid='AP53MVRC8ZEW2', iid='B004EYSMGW', r_ui=4.0, est=4.264433826283353, details={'was_impossible': True, 'reason': 'User and/or item is unkown.'}),\n",
       " Prediction(uid='AGATRDOFW48DK', iid='B000GPMJ7Q', r_ui=2.0, est=4.264433826283353, details={'was_impossible': True, 'reason': 'User and/or item is unkown.'}),\n",
       " Prediction(uid='A1PL7QILVQV3IF', iid='B00081A2KY', r_ui=5.0, est=3.9038461538461537, details={'actual_k': 0, 'was_impossible': False}),\n",
       " Prediction(uid='A2NXRD80LWHUOP', iid='B002HR8HV8', r_ui=1.0, est=2.861111111111111, details={'actual_k': 0, 'was_impossible': False}),\n",
       " Prediction(uid='A3W4D8XOGLWUN5', iid='B0006OCZOY', r_ui=1.0, est=4.264433826283353, details={'was_impossible': True, 'reason': 'User and/or item is unkown.'}),\n",
       " Prediction(uid='A2ZWJVKITA32OV', iid='B000Z9R2QQ', r_ui=5.0, est=4.17948717948718, details={'actual_k': 0, 'was_impossible': False}),\n",
       " Prediction(uid='A1VFX417XDNWIU', iid='B0007OV46S', r_ui=4.0, est=4.101694915254237, details={'actual_k': 0, 'was_impossible': False}),\n",
       " Prediction(uid='A2OOLI2WFY4L2', iid='B005FUNYSA', r_ui=3.0, est=3.9, details={'actual_k': 0, 'was_impossible': False}),\n",
       " Prediction(uid='A2XPK6XCL0UH1S', iid='B002AEU3EW', r_ui=3.0, est=3.871794871794872, details={'actual_k': 0, 'was_impossible': False}),\n",
       " Prediction(uid='AT28RL25Q2OLK', iid='B0000BZL1P', r_ui=5.0, est=4.252032520325203, details={'actual_k': 0, 'was_impossible': False}),\n",
       " Prediction(uid='A2EZTM9WY5B5IL', iid='B000O3OF86', r_ui=4.0, est=4.264433826283353, details={'was_impossible': True, 'reason': 'User and/or item is unkown.'}),\n",
       " Prediction(uid='A2ROZACRW31PC2', iid='B004H6W56A', r_ui=4.0, est=4.264433826283353, details={'was_impossible': True, 'reason': 'User and/or item is unkown.'}),\n",
       " Prediction(uid='A2PK64OVZA1U8Z', iid='B006ZH0KVG', r_ui=5.0, est=4.0701754385964914, details={'actual_k': 0, 'was_impossible': False}),\n",
       " Prediction(uid='AGVWTYW0ULXHT', iid='B00FSB76XA', r_ui=4.0, est=3.911242603550296, details={'actual_k': 0, 'was_impossible': False}),\n",
       " Prediction(uid='A3NYBI5VMVEEIK', iid='B0048WGSKM', r_ui=5.0, est=4.264433826283353, details={'was_impossible': True, 'reason': 'User and/or item is unkown.'}),\n",
       " Prediction(uid='AQNSQW4495SG0', iid='B0079WLI3A', r_ui=5.0, est=4.264433826283353, details={'was_impossible': True, 'reason': 'User and/or item is unkown.'}),\n",
       " Prediction(uid='A1TFDMY4YNTV97', iid='B002PHM0XQ', r_ui=1.0, est=3.5, details={'actual_k': 0, 'was_impossible': False}),\n",
       " Prediction(uid='A2KHG3JOFXQ4CE', iid='B005GM1Q1O', r_ui=5.0, est=2.9657028762359285, details={'actual_k': 4, 'was_impossible': False}),\n",
       " Prediction(uid='AZBXKUH4AIW3X', iid='B003SVSJ1K', r_ui=5.0, est=4.03125, details={'actual_k': 0, 'was_impossible': False}),\n",
       " Prediction(uid='A2J4XMWKR8PPD0', iid='B001LUSJRO', r_ui=5.0, est=4.264433826283353, details={'was_impossible': True, 'reason': 'User and/or item is unkown.'}),\n",
       " Prediction(uid='A23GFTVIETX7DS', iid='B0025VKUPW', r_ui=4.0, est=4.380434782608695, details={'actual_k': 0, 'was_impossible': False}),\n",
       " Prediction(uid='A2RTVGR9B1M600', iid='B00480OSVK', r_ui=1.0, est=4.264433826283353, details={'was_impossible': True, 'reason': 'User and/or item is unkown.'}),\n",
       " Prediction(uid='A1ZCSSCAGBCD49', iid='B007BY0MIS', r_ui=4.0, est=2.8470159769263237, details={'actual_k': 3, 'was_impossible': False}),\n",
       " Prediction(uid='A34VRVI4CSI5RQ', iid='B005LAIEN4', r_ui=4.0, est=3.2430632630410656, details={'actual_k': 1, 'was_impossible': False}),\n",
       " Prediction(uid='A1VFX417XDNWIU', iid='B00GN6PPXW', r_ui=5.0, est=4.101694915254237, details={'actual_k': 0, 'was_impossible': False}),\n",
       " Prediction(uid='A3BNMHRW2R35LK', iid='B00IWQREMQ', r_ui=5.0, est=4.63172308029357, details={'actual_k': 1, 'was_impossible': False}),\n",
       " Prediction(uid='A3PPO2X5PJE1L9', iid='B000050M6M', r_ui=3.0, est=4.545454545454546, details={'actual_k': 0, 'was_impossible': False}),\n",
       " Prediction(uid='A2PB325LKXYDOL', iid='B000067TNE', r_ui=5.0, est=4.264433826283353, details={'was_impossible': True, 'reason': 'User and/or item is unkown.'}),\n",
       " Prediction(uid='A2QNS95WGN35G9', iid='B000BVNP14', r_ui=5.0, est=4.264433826283353, details={'was_impossible': True, 'reason': 'User and/or item is unkown.'}),\n",
       " Prediction(uid='A3NKRH3TJ4DPVI', iid='B00126T6HO', r_ui=5.0, est=4.264433826283353, details={'was_impossible': True, 'reason': 'User and/or item is unkown.'}),\n",
       " Prediction(uid='A3J029KBNG5MNP', iid='B004CLYEDC', r_ui=5.0, est=4.852748063667289, details={'actual_k': 3, 'was_impossible': False}),\n",
       " Prediction(uid='A12DQZKRKTNF5E', iid='B008N7CCJY', r_ui=4.0, est=4.277456647398844, details={'actual_k': 0, 'was_impossible': False}),\n",
       " Prediction(uid='A2CWIYIETNBAK3', iid='B0084JFLTY', r_ui=4.0, est=4.5, details={'actual_k': 0, 'was_impossible': False}),\n",
       " Prediction(uid='A2TN0U8173HM7A', iid='B0098OCKDE', r_ui=5.0, est=5, details={'actual_k': 0, 'was_impossible': False}),\n",
       " Prediction(uid='A1SX9PHJWTDMF9', iid='B001WRP4WE', r_ui=5.0, est=4.264433826283353, details={'was_impossible': True, 'reason': 'User and/or item is unkown.'}),\n",
       " Prediction(uid='A1VS1LL905P5L5', iid='B001PNT80O', r_ui=5.0, est=4.0, details={'actual_k': 0, 'was_impossible': False}),\n",
       " Prediction(uid='A376OJHLE6SU9Q', iid='B000E0I9K4', r_ui=4.0, est=4.610410531457309, details={'actual_k': 2, 'was_impossible': False}),\n",
       " Prediction(uid='A1TQBAHI3M4ZBQ', iid='B000MFG44Y', r_ui=5.0, est=4.891304347826087, details={'actual_k': 0, 'was_impossible': False}),\n",
       " Prediction(uid='A28P7V9KI7MXP', iid='B0062WBQIK', r_ui=5.0, est=4.785714285714286, details={'actual_k': 0, 'was_impossible': False}),\n",
       " Prediction(uid='A2UOHALGF2X77Q', iid='B000P5XLEW', r_ui=5.0, est=4.264433826283353, details={'was_impossible': True, 'reason': 'User and/or item is unkown.'}),\n",
       " Prediction(uid='AEAFHD09X8044', iid='B00004ZCJE', r_ui=5.0, est=4.264705882352941, details={'actual_k': 0, 'was_impossible': False}),\n",
       " Prediction(uid='A1522TN5FVJL0Y', iid='B00004VX3T', r_ui=5.0, est=4.411764705882353, details={'actual_k': 0, 'was_impossible': False}),\n",
       " Prediction(uid='A13BX9O5UDBILC', iid='B001IOPIRM', r_ui=4.0, est=4.078431372549019, details={'actual_k': 0, 'was_impossible': False}),\n",
       " Prediction(uid='A21Q9JVG4SII51', iid='B004QHI3ZW', r_ui=4.0, est=4.71875, details={'actual_k': 0, 'was_impossible': False}),\n",
       " Prediction(uid='A2A4X545ERLS7H', iid='B000PANZ7U', r_ui=5.0, est=4.264433826283353, details={'was_impossible': True, 'reason': 'User and/or item is unkown.'}),\n",
       " Prediction(uid='AM8W6Y3HVXLZT', iid='B001SEQN3U', r_ui=2.0, est=3.8823529411764706, details={'actual_k': 0, 'was_impossible': False}),\n",
       " Prediction(uid='AW6J9IILGOZY3', iid='B00JOI6FZ8', r_ui=5.0, est=4.2075471698113205, details={'actual_k': 0, 'was_impossible': False}),\n",
       " Prediction(uid='A32T2H8150OJLU', iid='B004QK8FBG', r_ui=4.0, est=4.4772727272727275, details={'actual_k': 0, 'was_impossible': False}),\n",
       " Prediction(uid='A3SP7T2PZ3HSDE', iid='B001HN6JK4', r_ui=5.0, est=4.264433826283353, details={'was_impossible': True, 'reason': 'User and/or item is unkown.'}),\n",
       " Prediction(uid='A3MQAQT8C6D1I7', iid='B00006RVPW', r_ui=5.0, est=4.821568627450981, details={'actual_k': 1, 'was_impossible': False}),\n",
       " Prediction(uid='A4H4KYSM2KQ85', iid='B0078K17WK', r_ui=4.0, est=4.342105263157895, details={'actual_k': 0, 'was_impossible': False}),\n",
       " Prediction(uid='A1Q5P5ML3176C0', iid='B0016D1I0G', r_ui=5.0, est=4.025, details={'actual_k': 0, 'was_impossible': False}),\n",
       " Prediction(uid='A1KKE6VX8VPWZK', iid='B001SEQPGA', r_ui=5.0, est=4.676056338028169, details={'actual_k': 0, 'was_impossible': False}),\n",
       " Prediction(uid='A17BUUBOU0598B', iid='B001FWXDZQ', r_ui=3.0, est=3.497888198757764, details={'actual_k': 1, 'was_impossible': False}),\n",
       " Prediction(uid='A2RU4U1JZ3DMP5', iid='B002LZUY8A', r_ui=5.0, est=4.152777777777778, details={'actual_k': 0, 'was_impossible': False}),\n",
       " Prediction(uid='A2T3S3VTW65VO5', iid='B00B588HY2', r_ui=5.0, est=4.717391304347826, details={'actual_k': 0, 'was_impossible': False}),\n",
       " Prediction(uid='A1U5IJHJK84S54', iid='B00006I5J7', r_ui=5.0, est=3.9782608695652173, details={'actual_k': 0, 'was_impossible': False}),\n",
       " Prediction(uid='A34UVV757IKPVB', iid='B0079UAT0A', r_ui=4.0, est=4.437438691690019, details={'actual_k': 5, 'was_impossible': False}),\n",
       " Prediction(uid='A1UQUDT2Q0YENM', iid='B000VWOKQM', r_ui=3.0, est=3.8780487804878048, details={'actual_k': 0, 'was_impossible': False}),\n",
       " Prediction(uid='A2LW5AL0KQ9P1M', iid='B00DVS98XS', r_ui=5.0, est=4.806170355466131, details={'actual_k': 1, 'was_impossible': False}),\n",
       " Prediction(uid='A1X3ESYZ79H59E', iid='B005EWB37S', r_ui=4.0, est=3.16042223269946, details={'actual_k': 2, 'was_impossible': False}),\n",
       " Prediction(uid='AN81JUYW2SL24', iid='B00IVEHSV6', r_ui=5.0, est=4.181818181818182, details={'actual_k': 0, 'was_impossible': False}),\n",
       " Prediction(uid='A38RMU1Y5TDP9', iid='B0012S4APK', r_ui=5.0, est=4.382978723404255, details={'actual_k': 0, 'was_impossible': False}),\n",
       " Prediction(uid='AGEKVD8JPZQMT', iid='B007XDFNB8', r_ui=3.0, est=4.177373848072811, details={'actual_k': 2, 'was_impossible': False}),\n",
       " Prediction(uid='AWPODHOB4GFWL', iid='B00D5EO27U', r_ui=5.0, est=4.329436947525741, details={'actual_k': 3, 'was_impossible': False}),\n",
       " Prediction(uid='ASJSX783R5HTZ', iid='B0039YP194', r_ui=2.0, est=4.264433826283353, details={'was_impossible': True, 'reason': 'User and/or item is unkown.'}),\n",
       " Prediction(uid='ATNOI7E8GTIVE', iid='B002TLTE6Y', r_ui=5.0, est=4.604166666666667, details={'actual_k': 0, 'was_impossible': False}),\n",
       " Prediction(uid='A1ZPY91VE3IDN1', iid='B009O7XGCY', r_ui=3.0, est=3.8278015116661184, details={'actual_k': 1, 'was_impossible': False}),\n",
       " Prediction(uid='AXP8GO5Q3AXSA', iid='B007JGBD2M', r_ui=3.0, est=4.229166666666667, details={'actual_k': 0, 'was_impossible': False}),\n",
       " Prediction(uid='A292TRC6DX2GKK', iid='B0058RN2AA', r_ui=5.0, est=4.264433826283353, details={'was_impossible': True, 'reason': 'User and/or item is unkown.'}),\n",
       " Prediction(uid='A1MJMYLRTZ76ZX', iid='B002C7481G', r_ui=4.0, est=4.338709677419355, details={'actual_k': 0, 'was_impossible': False}),\n",
       " Prediction(uid='A32QOZWIKQDNZX', iid='B001SJVU24', r_ui=5.0, est=4.409836065573771, details={'actual_k': 0, 'was_impossible': False}),\n",
       " Prediction(uid='A1XK4VP74IB9TQ', iid='B0001Y7UAI', r_ui=5.0, est=4.071428571428571, details={'actual_k': 0, 'was_impossible': False}),\n",
       " Prediction(uid='A324X7RVDAV3FT', iid='B000IF51UQ', r_ui=3.0, est=4.361111111111111, details={'actual_k': 0, 'was_impossible': False}),\n",
       " Prediction(uid='A3CW0ZLUO5X2B1', iid='B0028Y4CWI', r_ui=5.0, est=4.321611700306167, details={'actual_k': 5, 'was_impossible': False}),\n",
       " Prediction(uid='A2D0CO1OA6DSWY', iid='B00B14E4V0', r_ui=1.0, est=4.264433826283353, details={'was_impossible': True, 'reason': 'User and/or item is unkown.'}),\n",
       " Prediction(uid='A3PD8JD9L4WEII', iid='B00E98O7GC', r_ui=5.0, est=5, details={'actual_k': 1, 'was_impossible': False}),\n",
       " Prediction(uid='A2JXS1JII6SAUD', iid='B003N19DCO', r_ui=1.0, est=4.264433826283353, details={'was_impossible': True, 'reason': 'User and/or item is unkown.'}),\n",
       " Prediction(uid='AI8EMB0HUC6Z5', iid='B0037ECAQ8', r_ui=5.0, est=4.518987341772152, details={'actual_k': 0, 'was_impossible': False}),\n",
       " Prediction(uid='A132ETQPMHQ585', iid='B0026K5SWW', r_ui=5.0, est=4.264433826283353, details={'was_impossible': True, 'reason': 'User and/or item is unkown.'}),\n",
       " Prediction(uid='A1XK4VP74IB9TQ', iid='B000ZRXJY2', r_ui=1.0, est=4.264433826283353, details={'was_impossible': True, 'reason': 'User and/or item is unkown.'}),\n",
       " Prediction(uid='AGVWTYW0ULXHT', iid='B0001AN1H8', r_ui=4.0, est=4.264433826283353, details={'was_impossible': True, 'reason': 'User and/or item is unkown.'}),\n",
       " Prediction(uid='A38Z6QG6988WS7', iid='B008YQAFH0', r_ui=5.0, est=4.933333333333334, details={'actual_k': 0, 'was_impossible': False}),\n",
       " Prediction(uid='A2KYRPDKVBI2R4', iid='B00GJFGDUQ', r_ui=5.0, est=4.7727272727272725, details={'actual_k': 0, 'was_impossible': False}),\n",
       " Prediction(uid='A1TQZUSOU22E9M', iid='B004GUT1QO', r_ui=5.0, est=4.860506827200983, details={'actual_k': 4, 'was_impossible': False}),\n",
       " Prediction(uid='A3CW0ZLUO5X2B1', iid='B00CPW36HA', r_ui=4.0, est=4.264433826283353, details={'was_impossible': True, 'reason': 'User and/or item is unkown.'}),\n",
       " Prediction(uid='AU2UJF4I7KAWL', iid='B004EGE39A', r_ui=5.0, est=4.264433826283353, details={'was_impossible': True, 'reason': 'User and/or item is unkown.'}),\n",
       " Prediction(uid='AVSMRPI23DQI2', iid='B000PDLZ1A', r_ui=3.0, est=4.52, details={'actual_k': 0, 'was_impossible': False}),\n",
       " Prediction(uid='A22CW0ZHY3NJH8', iid='B00871SR68', r_ui=4.0, est=4.304568527918781, details={'actual_k': 0, 'was_impossible': False}),\n",
       " Prediction(uid='A3RR2P5IS3DGPR', iid='B001E2T6Y4', r_ui=5.0, est=4.264433826283353, details={'was_impossible': True, 'reason': 'User and/or item is unkown.'}),\n",
       " Prediction(uid='A3L9E0YI7C5G0W', iid='B00BW6LVW2', r_ui=3.0, est=4.424657534246576, details={'actual_k': 0, 'was_impossible': False}),\n",
       " Prediction(uid='A1GBT4UN2RW7XY', iid='B00BGA9WK2', r_ui=5.0, est=4.043478260869565, details={'actual_k': 0, 'was_impossible': False}),\n",
       " Prediction(uid='A34UVV757IKPVB', iid='B0082DCPQ4', r_ui=5.0, est=4.264433826283353, details={'was_impossible': True, 'reason': 'User and/or item is unkown.'}),\n",
       " Prediction(uid='ARBKYIVNYWK3C', iid='B00CWIRMRC', r_ui=4.0, est=4.264433826283353, details={'was_impossible': True, 'reason': 'User and/or item is unkown.'}),\n",
       " Prediction(uid='A1UL2JH7XOUGM5', iid='B0076BNKOY', r_ui=5.0, est=4.0476190476190474, details={'actual_k': 0, 'was_impossible': False}),\n",
       " Prediction(uid='A11KZ906QD08C5', iid='B000BI2180', r_ui=1.0, est=4.4743589743589745, details={'actual_k': 0, 'was_impossible': False}),\n",
       " Prediction(uid='A1B4MIXYVIKMU2', iid='B004TPJKEY', r_ui=4.0, est=4.623217119421534, details={'actual_k': 2, 'was_impossible': False}),\n",
       " Prediction(uid='A2NOIWPJDD7WIQ', iid='B007ZL0PI4', r_ui=2.0, est=4.264433826283353, details={'was_impossible': True, 'reason': 'User and/or item is unkown.'}),\n",
       " Prediction(uid='A303SNZ4AR7TDQ', iid='B005EHNBSW', r_ui=5.0, est=4.264433826283353, details={'was_impossible': True, 'reason': 'User and/or item is unkown.'}),\n",
       " Prediction(uid='A25C2M3QF9G7OQ', iid='B005Z3GINK', r_ui=4.0, est=4.213730427173494, details={'actual_k': 2, 'was_impossible': False}),\n",
       " Prediction(uid='A1C5WS021EL3WO', iid='B0018BTPLK', r_ui=5.0, est=4.616438356164384, details={'actual_k': 0, 'was_impossible': False}),\n",
       " Prediction(uid='A18HE80910BTZI', iid='B00I3ERXWS', r_ui=3.0, est=3.3177635644543315, details={'actual_k': 2, 'was_impossible': False}),\n",
       " Prediction(uid='A38NELQT98S4H8', iid='B001L6LG5K', r_ui=1.0, est=4.132352941176471, details={'actual_k': 0, 'was_impossible': False}),\n",
       " Prediction(uid='AGVWTYW0ULXHT', iid='B00BUACE8K', r_ui=4.0, est=3.948654152099722, details={'actual_k': 5, 'was_impossible': False}),\n",
       " Prediction(uid='A1LA4K5JF78BER', iid='B005O9YMM4', r_ui=5.0, est=5, details={'actual_k': 1, 'was_impossible': False}),\n",
       " Prediction(uid='A11IXJ8M1JO296', iid='B008OHNZI0', r_ui=2.0, est=4.153846153846154, details={'actual_k': 0, 'was_impossible': False}),\n",
       " Prediction(uid='A1QQA7Y92L4F9R', iid='B004Q81CKY', r_ui=3.0, est=4.593220338983051, details={'actual_k': 0, 'was_impossible': False}),\n",
       " Prediction(uid='ATNOI7E8GTIVE', iid='B000TD8XES', r_ui=5.0, est=4.264433826283353, details={'was_impossible': True, 'reason': 'User and/or item is unkown.'}),\n",
       " Prediction(uid='A28621TSIR5EOG', iid='B005FVNGRI', r_ui=5.0, est=4.614130434782608, details={'actual_k': 1, 'was_impossible': False}),\n",
       " Prediction(uid='A2NLI1M5K2MQ5E', iid='B00D6XW62I', r_ui=5.0, est=4.653061224489796, details={'actual_k': 0, 'was_impossible': False}),\n",
       " Prediction(uid='A1EXGL6L0QQ0M5', iid='B0042KSZEM', r_ui=5.0, est=4.264433826283353, details={'was_impossible': True, 'reason': 'User and/or item is unkown.'}),\n",
       " Prediction(uid='A2I357I10ZY7CI', iid='B00384SSLI', r_ui=3.0, est=4.260869565217392, details={'actual_k': 0, 'was_impossible': False}),\n",
       " Prediction(uid='A2PREU4LOFQRB1', iid='B007JF8FD8', r_ui=5.0, est=4.532258064516129, details={'actual_k': 0, 'was_impossible': False}),\n",
       " Prediction(uid='A1TY97ZGQT5FGF', iid='B001ACIF9U', r_ui=4.0, est=4.264433826283353, details={'was_impossible': True, 'reason': 'User and/or item is unkown.'}),\n",
       " Prediction(uid='A6FIAB28IS79', iid='B00078F226', r_ui=3.0, est=4.264433826283353, details={'was_impossible': True, 'reason': 'User and/or item is unkown.'}),\n",
       " Prediction(uid='A1H98YV5K5BUX0', iid='B000NRG9O6', r_ui=4.0, est=4.264433826283353, details={'was_impossible': True, 'reason': 'User and/or item is unkown.'}),\n",
       " Prediction(uid='A194Y47BF3CUTJ', iid='B003ZRMRNS', r_ui=5.0, est=4.829268292682927, details={'actual_k': 0, 'was_impossible': False}),\n",
       " Prediction(uid='A3N0P5AAMP6XD2', iid='B007QXLIWI', r_ui=1.0, est=3.689189189189189, details={'actual_k': 0, 'was_impossible': False}),\n",
       " Prediction(uid='A3LDFTSXU3UPBO', iid='B008RVPWMK', r_ui=5.0, est=4.264433826283353, details={'was_impossible': True, 'reason': 'User and/or item is unkown.'}),\n",
       " Prediction(uid='AMO1MLSIJSQOF', iid='B0054L8MR8', r_ui=4.0, est=4.628571428571429, details={'actual_k': 0, 'was_impossible': False}),\n",
       " Prediction(uid='AEN44U6T9R93', iid='B008R7EVE4', r_ui=5.0, est=4.102564102564102, details={'actual_k': 0, 'was_impossible': False}),\n",
       " Prediction(uid='A3SDJ70H00OQCJ', iid='B004V94QB0', r_ui=4.0, est=4.264433826283353, details={'was_impossible': True, 'reason': 'User and/or item is unkown.'}),\n",
       " Prediction(uid='A2NQMVTQ4PVLL', iid='B001XURP7W', r_ui=4.0, est=4.75, details={'actual_k': 0, 'was_impossible': False}),\n",
       " Prediction(uid='AT09WGFUM934H', iid='B000068O1M', r_ui=5.0, est=4.264433826283353, details={'was_impossible': True, 'reason': 'User and/or item is unkown.'}),\n",
       " Prediction(uid='A2JMJVNTBL7K7E', iid='B002PY7P02', r_ui=4.0, est=4.264433826283353, details={'was_impossible': True, 'reason': 'User and/or item is unkown.'}),\n",
       " Prediction(uid='A1A535TCGNMVPI', iid='B0006GX0IC', r_ui=5.0, est=4.264433826283353, details={'was_impossible': True, 'reason': 'User and/or item is unkown.'}),\n",
       " Prediction(uid='A1VR1HIOVQWN09', iid='B004O0TREC', r_ui=5.0, est=4.606060606060606, details={'actual_k': 0, 'was_impossible': False}),\n",
       " Prediction(uid='A1VS1LL905P5L5', iid='B00FKIRR4O', r_ui=5.0, est=4.0, details={'actual_k': 0, 'was_impossible': False}),\n",
       " Prediction(uid='A3L9E0YI7C5G0W', iid='B003FVVMS0', r_ui=4.0, est=4.424657534246576, details={'actual_k': 0, 'was_impossible': False}),\n",
       " Prediction(uid='A3R19YKNL641X3', iid='B00DVS98XS', r_ui=5.0, est=5, details={'actual_k': 1, 'was_impossible': False}),\n",
       " Prediction(uid='A3QX0ERX4D03TF', iid='B001GTT0VO', r_ui=5.0, est=3.861111111111111, details={'actual_k': 0, 'was_impossible': False}),\n",
       " Prediction(uid='A12R3YGEHW7D8G', iid='B0061GS1OO', r_ui=3.0, est=4.326530612244898, details={'actual_k': 0, 'was_impossible': False}),\n",
       " Prediction(uid='A1R377IPZOKLMM', iid='B008Q7HUR0', r_ui=5.0, est=4.597014925373134, details={'actual_k': 0, 'was_impossible': False}),\n",
       " Prediction(uid='A2T24Z5QP2OMXU', iid='B005DLDO4U', r_ui=4.0, est=4.2631578947368425, details={'actual_k': 0, 'was_impossible': False}),\n",
       " Prediction(uid='A1MCH5RXDOH87H', iid='B0046RZUEE', r_ui=1.0, est=4.264433826283353, details={'was_impossible': True, 'reason': 'User and/or item is unkown.'}),\n",
       " Prediction(uid='A6VPK7X53QNAQ', iid='B0011FQURK', r_ui=4.0, est=3.9224137931034484, details={'actual_k': 0, 'was_impossible': False}),\n",
       " Prediction(uid='A2AF0NOCM71J0B', iid='B00E6O7JNC', r_ui=1.0, est=4.264433826283353, details={'was_impossible': True, 'reason': 'User and/or item is unkown.'}),\n",
       " Prediction(uid='A1EVV74UQYVKRY', iid='B007IVZX6K', r_ui=4.0, est=4.264433826283353, details={'was_impossible': True, 'reason': 'User and/or item is unkown.'}),\n",
       " Prediction(uid='A2TMFC9O3ZCNKE', iid='B008MEDY72', r_ui=3.0, est=4.264433826283353, details={'was_impossible': True, 'reason': 'User and/or item is unkown.'}),\n",
       " Prediction(uid='AGGAQLXPVGM5D', iid='B008N0ATDW', r_ui=5.0, est=3.5705128205128203, details={'actual_k': 1, 'was_impossible': False}),\n",
       " Prediction(uid='A2LCE1D0TW2XY0', iid='B00A2BVAN8', r_ui=4.0, est=4.264433826283353, details={'was_impossible': True, 'reason': 'User and/or item is unkown.'}),\n",
       " Prediction(uid='AONUCJBC85BL', iid='B00EZ9XHNE', r_ui=4.0, est=2.9277432071823264, details={'actual_k': 4, 'was_impossible': False}),\n",
       " Prediction(uid='A197T2N6RU7K56', iid='B001342KM8', r_ui=5.0, est=4.597014925373134, details={'actual_k': 0, 'was_impossible': False}),\n",
       " Prediction(uid='A3R33KMESG0XGQ', iid='B00G024X32', r_ui=4.0, est=4.029411764705882, details={'actual_k': 0, 'was_impossible': False}),\n",
       " Prediction(uid='A2UQK3DAZ8NO2T', iid='B000HATNI8', r_ui=5.0, est=4.333333333333333, details={'actual_k': 0, 'was_impossible': False}),\n",
       " Prediction(uid='AS8C336DDLSO4', iid='B001O94GNS', r_ui=3.0, est=4.146341463414634, details={'actual_k': 0, 'was_impossible': False}),\n",
       " Prediction(uid='ACHTDPEQYSEQL', iid='B0002IHHF6', r_ui=4.0, est=4.264433826283353, details={'was_impossible': True, 'reason': 'User and/or item is unkown.'}),\n",
       " Prediction(uid='A2FHTXLKY1XJDB', iid='B0033BDV7C', r_ui=4.0, est=4.040816326530612, details={'actual_k': 0, 'was_impossible': False}),\n",
       " Prediction(uid='A20DZX38KRBIT8', iid='B002C744K6', r_ui=5.0, est=2.6054421768707483, details={'actual_k': 0, 'was_impossible': False}),\n",
       " Prediction(uid='A2SL5IW096Z2BL', iid='B005MN2GQQ', r_ui=4.0, est=4.264433826283353, details={'was_impossible': True, 'reason': 'User and/or item is unkown.'}),\n",
       " Prediction(uid='A21Q9JVG4SII51', iid='B00005OL85', r_ui=2.0, est=4.71875, details={'actual_k': 0, 'was_impossible': False}),\n",
       " Prediction(uid='A39K52QDP4C3ZS', iid='B006SF68OS', r_ui=5.0, est=4.264433826283353, details={'was_impossible': True, 'reason': 'User and/or item is unkown.'}),\n",
       " Prediction(uid='A3NEAETOSXDBOM', iid='B0006OCFFS', r_ui=5.0, est=4.453781512605042, details={'actual_k': 0, 'was_impossible': False}),\n",
       " Prediction(uid='AMVXR3NPL0GWX', iid='B001E1Y5O6', r_ui=5.0, est=5, details={'actual_k': 1, 'was_impossible': False}),\n",
       " Prediction(uid='A2WYF4POBUXL2O', iid='B0045EP2IC', r_ui=5.0, est=4.204545454545454, details={'actual_k': 0, 'was_impossible': False}),\n",
       " Prediction(uid='A1R76R4E6A8S3B', iid='B008DWCRQW', r_ui=3.0, est=4.201011375551913, details={'actual_k': 5, 'was_impossible': False}),\n",
       " Prediction(uid='ADLVFFE4VBT8', iid='B00EE18LRU', r_ui=5.0, est=4.112691395989493, details={'actual_k': 1, 'was_impossible': False}),\n",
       " Prediction(uid='A362FM6FYA1SYS', iid='B00E3W15P0', r_ui=5.0, est=5, details={'actual_k': 1, 'was_impossible': False}),\n",
       " Prediction(uid='A22R9L5DAVYYWR', iid='B0006TIRY6', r_ui=2.0, est=4.264433826283353, details={'was_impossible': True, 'reason': 'User and/or item is unkown.'}),\n",
       " Prediction(uid='A2V5M5EJPOD2IU', iid='B00IAELUOS', r_ui=5.0, est=4.6395348837209305, details={'actual_k': 0, 'was_impossible': False}),\n",
       " Prediction(uid='A12O5SEIF162P8', iid='B000XUMR6C', r_ui=5.0, est=4.621621621621622, details={'actual_k': 0, 'was_impossible': False}),\n",
       " Prediction(uid='A3R33KMESG0XGQ', iid='B00E98O7GC', r_ui=5.0, est=4.605100410517182, details={'actual_k': 3, 'was_impossible': False}),\n",
       " Prediction(uid='A10ZFE6YE0UHW8', iid='B003L139HG', r_ui=5.0, est=3.8351648351648353, details={'actual_k': 0, 'was_impossible': False}),\n",
       " Prediction(uid='A21KNRUAA5RK5E', iid='B004HKJTT2', r_ui=5.0, est=4.227037326558531, details={'actual_k': 2, 'was_impossible': False}),\n",
       " Prediction(uid='A1B4MIXYVIKMU2', iid='B00HNJWWGG', r_ui=5.0, est=4.7955000000000005, details={'actual_k': 1, 'was_impossible': False}),\n",
       " Prediction(uid='A36K2N527TXXJN', iid='B00D5EO27U', r_ui=5.0, est=4.5215420057020985, details={'actual_k': 3, 'was_impossible': False}),\n",
       " Prediction(uid='A33775AIB1A664', iid='B008BXSY7E', r_ui=4.0, est=3.9696969696969697, details={'actual_k': 0, 'was_impossible': False}),\n",
       " Prediction(uid='A19W47CXJJP1MI', iid='B004YKXGIK', r_ui=4.0, est=4.472, details={'actual_k': 0, 'was_impossible': False}),\n",
       " Prediction(uid='A3U41ZL33SS92P', iid='B00426DND4', r_ui=4.0, est=4.264433826283353, details={'was_impossible': True, 'reason': 'User and/or item is unkown.'}),\n",
       " Prediction(uid='A1N5FSCYN4796F', iid='B00FNPD1OY', r_ui=4.0, est=4.650677136679185, details={'actual_k': 2, 'was_impossible': False}),\n",
       " Prediction(uid='A12DLJESJKM1OQ', iid='B00008J639', r_ui=5.0, est=4.264433826283353, details={'was_impossible': True, 'reason': 'User and/or item is unkown.'}),\n",
       " Prediction(uid='A2IT7S59GSASN7', iid='B004CLYEDC', r_ui=5.0, est=3.896288575497349, details={'actual_k': 5, 'was_impossible': False}),\n",
       " Prediction(uid='A328GLDSDNFYII', iid='B000Q8UAWY', r_ui=4.0, est=4.464285714285714, details={'actual_k': 0, 'was_impossible': False}),\n",
       " Prediction(uid='A204K1OFE8OB9Y', iid='B000N2ZZ2I', r_ui=2.0, est=4.264433826283353, details={'was_impossible': True, 'reason': 'User and/or item is unkown.'}),\n",
       " Prediction(uid='AA91O96C1Z18W', iid='B00A8DYLN6', r_ui=5.0, est=4.264433826283353, details={'was_impossible': True, 'reason': 'User and/or item is unkown.'}),\n",
       " Prediction(uid='AU2UJF4I7KAWL', iid='B00827MK3S', r_ui=5.0, est=4.057142857142857, details={'actual_k': 0, 'was_impossible': False}),\n",
       " Prediction(uid='A2NYK9KWFMJV4Y', iid='B00L26YDA4', r_ui=5.0, est=5, details={'actual_k': 1, 'was_impossible': False}),\n",
       " Prediction(uid='AFR9GYKAHM37U', iid='B0002EQU6C', r_ui=5.0, est=5, details={'actual_k': 1, 'was_impossible': False}),\n",
       " Prediction(uid='A2SH7OWE8QJYNC', iid='B00006JM6R', r_ui=4.0, est=4.264433826283353, details={'was_impossible': True, 'reason': 'User and/or item is unkown.'}),\n",
       " Prediction(uid='A2858RV2VLI14X', iid='B003ZDNXZI', r_ui=5.0, est=4.264433826283353, details={'was_impossible': True, 'reason': 'User and/or item is unkown.'}),\n",
       " Prediction(uid='A198CCH4NNLI2E', iid='B00007EID8', r_ui=1.0, est=4.264433826283353, details={'was_impossible': True, 'reason': 'User and/or item is unkown.'}),\n",
       " Prediction(uid='A16SRDVPBXN69C', iid='B000053HBB', r_ui=5.0, est=4.714285714285714, details={'actual_k': 0, 'was_impossible': False}),\n",
       " Prediction(uid='A15U64VGUV6RBF', iid='B006U3O566', r_ui=5.0, est=4.825, details={'actual_k': 0, 'was_impossible': False}),\n",
       " Prediction(uid='A314KKDIJWCNMV', iid='B0013LWK3A', r_ui=5.0, est=4.3478260869565215, details={'actual_k': 0, 'was_impossible': False}),\n",
       " Prediction(uid='A36K2N527TXXJN', iid='B003M0NT1M', r_ui=5.0, est=5, details={'actual_k': 2, 'was_impossible': False}),\n",
       " Prediction(uid='AGLT3L7ALL4O4', iid='B0013CED4I', r_ui=5.0, est=4.926829268292683, details={'actual_k': 0, 'was_impossible': False}),\n",
       " Prediction(uid='A20H1M28WLI9J2', iid='B004YIZWXO', r_ui=4.0, est=3.9864864864864864, details={'actual_k': 0, 'was_impossible': False}),\n",
       " Prediction(uid='A3JNBO7H2SPL44', iid='B003K1RAJK', r_ui=5.0, est=4.795454545454546, details={'actual_k': 0, 'was_impossible': False}),\n",
       " Prediction(uid='A12DLJESJKM1OQ', iid='B000065UWB', r_ui=5.0, est=4.264433826283353, details={'was_impossible': True, 'reason': 'User and/or item is unkown.'}),\n",
       " Prediction(uid='A1ILWPH1GHUXE2', iid='B0048EKCOI', r_ui=3.0, est=4.264433826283353, details={'was_impossible': True, 'reason': 'User and/or item is unkown.'}),\n",
       " Prediction(uid='ABVYGB2TKBO8F', iid='B000IWL77U', r_ui=3.0, est=4.264433826283353, details={'was_impossible': True, 'reason': 'User and/or item is unkown.'}),\n",
       " Prediction(uid='A1X3ESYZ79H59E', iid='B009X2OS72', r_ui=5.0, est=4.127219135320505, details={'actual_k': 2, 'was_impossible': False}),\n",
       " Prediction(uid='A20VG5W98SX99L', iid='B00834SJNA', r_ui=4.0, est=4.118566124941066, details={'actual_k': 5, 'was_impossible': False}),\n",
       " Prediction(uid='ALDAF4VVLFRHP', iid='B002782LTG', r_ui=4.0, est=1.848826875222183, details={'actual_k': 1, 'was_impossible': False}),\n",
       " Prediction(uid='ANW6EGY12V5XS', iid='B003U3A428', r_ui=3.0, est=4.264433826283353, details={'was_impossible': True, 'reason': 'User and/or item is unkown.'}),\n",
       " Prediction(uid='A2NOW4U7W3F7RI', iid='B001GGL7Z4', r_ui=5.0, est=4.7711442786069655, details={'actual_k': 0, 'was_impossible': False}),\n",
       " Prediction(uid='A1BC62X6HZJGZR', iid='B005LJQNQU', r_ui=5.0, est=4.135135135135135, details={'actual_k': 0, 'was_impossible': False}),\n",
       " Prediction(uid='AR1T36GLLAFFX', iid='B002DSHMA8', r_ui=5.0, est=4.264433826283353, details={'was_impossible': True, 'reason': 'User and/or item is unkown.'}),\n",
       " Prediction(uid='A1MZL91Z44RN06', iid='B004WO8HQ4', r_ui=4.0, est=5, details={'actual_k': 1, 'was_impossible': False}),\n",
       " Prediction(uid='A3NVZTGPORNPRW', iid='B00EHBES10', r_ui=5.0, est=4.264433826283353, details={'was_impossible': True, 'reason': 'User and/or item is unkown.'}),\n",
       " Prediction(uid='A38KK0SZYEH5UD', iid='B000PKX2KA', r_ui=4.0, est=4.372262773722627, details={'actual_k': 0, 'was_impossible': False}),\n",
       " Prediction(uid='AHD3NZHDUZ5I6', iid='B001Q3M4IQ', r_ui=5.0, est=4.264433826283353, details={'was_impossible': True, 'reason': 'User and/or item is unkown.'}),\n",
       " Prediction(uid='A26EQ8U96JA92T', iid='B004HD4L1U', r_ui=3.0, est=4.65, details={'actual_k': 0, 'was_impossible': False}),\n",
       " ...]"
      ]
     },
     "execution_count": 46,
     "metadata": {},
     "output_type": "execute_result"
    }
   ],
   "source": [
    "# Get recommendation predictions for test data\n",
    "test_pred = algo.test(testset)\n",
    "test_pred"
   ]
  },
  {
   "cell_type": "code",
   "execution_count": 47,
   "metadata": {},
   "outputs": [
    {
     "name": "stdout",
     "output_type": "stream",
     "text": [
      "RMSE: 1.0537\n",
      "RMSE of predicted test data:  1.0537438346916688\n"
     ]
    }
   ],
   "source": [
    "print('RMSE of predicted test data: ', accuracy.rmse(test_pred))"
   ]
  },
  {
   "cell_type": "code",
   "execution_count": 48,
   "metadata": {},
   "outputs": [
    {
     "name": "stdout",
     "output_type": "stream",
     "text": [
      "Prediction data for 10th index data \n",
      " user: A3N4VTNFPMTHEF item: B0021Y73W6 r_ui = 4.00   est = 2.29   {'actual_k': 1, 'was_impossible': False}\n"
     ]
    }
   ],
   "source": [
    "# View a particular prediction\n",
    "print ('Prediction data for 10th index data \\n', test_pred[10])"
   ]
  },
  {
   "cell_type": "code",
   "execution_count": 49,
   "metadata": {},
   "outputs": [],
   "source": [
    "# convert test predictions results to dataframe\n",
    "test_pred_df = pd.DataFrame(test_pred)\n",
    "test_pred_df[\"was_impossible\"] = [x[\"was_impossible\"] for x in test_pred_df[\"details\"]]"
   ]
  },
  {
   "cell_type": "code",
   "execution_count": 50,
   "metadata": {},
   "outputs": [
    {
     "data": {
      "text/plain": [
       "Prediction(uid='A3SOJO7Z7R9WIA', iid='B004JOQSEA', r_ui=None, est=3.411764705882353, details={'actual_k': 0, 'was_impossible': False})"
      ]
     },
     "execution_count": 50,
     "metadata": {},
     "output_type": "execute_result"
    }
   ],
   "source": [
    "# predicting data for a particular user and product id\n",
    "algo.predict(uid='A3SOJO7Z7R9WIA', iid='B004JOQSEA')"
   ]
  },
  {
   "cell_type": "code",
   "execution_count": 51,
   "metadata": {},
   "outputs": [
    {
     "data": {
      "text/html": [
       "<div>\n",
       "<style scoped>\n",
       "    .dataframe tbody tr th:only-of-type {\n",
       "        vertical-align: middle;\n",
       "    }\n",
       "\n",
       "    .dataframe tbody tr th {\n",
       "        vertical-align: top;\n",
       "    }\n",
       "\n",
       "    .dataframe thead th {\n",
       "        text-align: right;\n",
       "    }\n",
       "</style>\n",
       "<table border=\"1\" class=\"dataframe\">\n",
       "  <thead>\n",
       "    <tr style=\"text-align: right;\">\n",
       "      <th></th>\n",
       "      <th>uid</th>\n",
       "      <th>iid</th>\n",
       "      <th>r_ui</th>\n",
       "      <th>est</th>\n",
       "      <th>details</th>\n",
       "      <th>was_impossible</th>\n",
       "    </tr>\n",
       "  </thead>\n",
       "  <tbody>\n",
       "    <tr>\n",
       "      <th>7</th>\n",
       "      <td>A16WP8NTPYB0ZM</td>\n",
       "      <td>B0031GNYCQ</td>\n",
       "      <td>2.0</td>\n",
       "      <td>4.264434</td>\n",
       "      <td>{'was_impossible': True, 'reason': 'User and/o...</td>\n",
       "      <td>True</td>\n",
       "    </tr>\n",
       "    <tr>\n",
       "      <th>8</th>\n",
       "      <td>AT53ZTTO707MB</td>\n",
       "      <td>B00BWHILC4</td>\n",
       "      <td>5.0</td>\n",
       "      <td>4.264434</td>\n",
       "      <td>{'was_impossible': True, 'reason': 'User and/o...</td>\n",
       "      <td>True</td>\n",
       "    </tr>\n",
       "    <tr>\n",
       "      <th>9</th>\n",
       "      <td>A16CVJUQOB6GIB</td>\n",
       "      <td>B001KN2ANG</td>\n",
       "      <td>5.0</td>\n",
       "      <td>4.264434</td>\n",
       "      <td>{'was_impossible': True, 'reason': 'User and/o...</td>\n",
       "      <td>True</td>\n",
       "    </tr>\n",
       "    <tr>\n",
       "      <th>12</th>\n",
       "      <td>A20H1M28WLI9J2</td>\n",
       "      <td>B007CL4IEY</td>\n",
       "      <td>1.0</td>\n",
       "      <td>4.264434</td>\n",
       "      <td>{'was_impossible': True, 'reason': 'User and/o...</td>\n",
       "      <td>True</td>\n",
       "    </tr>\n",
       "    <tr>\n",
       "      <th>19</th>\n",
       "      <td>A1J75JJ0Q2OEJN</td>\n",
       "      <td>B0014CT6Q2</td>\n",
       "      <td>2.0</td>\n",
       "      <td>4.264434</td>\n",
       "      <td>{'was_impossible': True, 'reason': 'User and/o...</td>\n",
       "      <td>True</td>\n",
       "    </tr>\n",
       "  </tbody>\n",
       "</table>\n",
       "</div>"
      ],
      "text/plain": [
       "               uid         iid  r_ui       est  \\\n",
       "7   A16WP8NTPYB0ZM  B0031GNYCQ   2.0  4.264434   \n",
       "8    AT53ZTTO707MB  B00BWHILC4   5.0  4.264434   \n",
       "9   A16CVJUQOB6GIB  B001KN2ANG   5.0  4.264434   \n",
       "12  A20H1M28WLI9J2  B007CL4IEY   1.0  4.264434   \n",
       "19  A1J75JJ0Q2OEJN  B0014CT6Q2   2.0  4.264434   \n",
       "\n",
       "                                              details  was_impossible  \n",
       "7   {'was_impossible': True, 'reason': 'User and/o...            True  \n",
       "8   {'was_impossible': True, 'reason': 'User and/o...            True  \n",
       "9   {'was_impossible': True, 'reason': 'User and/o...            True  \n",
       "12  {'was_impossible': True, 'reason': 'User and/o...            True  \n",
       "19  {'was_impossible': True, 'reason': 'User and/o...            True  "
      ]
     },
     "execution_count": 51,
     "metadata": {},
     "output_type": "execute_result"
    }
   ],
   "source": [
    "# getting data where was_impossible is false\n",
    "test_pred_df.loc[test_pred_df.was_impossible==True].head(5)"
   ]
  },
  {
   "cell_type": "code",
   "execution_count": null,
   "metadata": {},
   "outputs": [],
   "source": []
  },
  {
   "cell_type": "markdown",
   "metadata": {},
   "source": [
    "# Get top - K (K = 5) recommendations. Since our goal is to recommend new products to each user based on his/her habits,we will recommend 5 new products."
   ]
  },
  {
   "cell_type": "code",
   "execution_count": 52,
   "metadata": {},
   "outputs": [],
   "source": [
    "# number of recommendations\n",
    "k = 5"
   ]
  },
  {
   "cell_type": "markdown",
   "metadata": {},
   "source": [
    "### Getting top 5 Recommendations using Popularity based recommendations system"
   ]
  },
  {
   "cell_type": "code",
   "execution_count": 53,
   "metadata": {},
   "outputs": [],
   "source": [
    "popularity_model.create(train_data, 'userId', 'productId', k)"
   ]
  },
  {
   "cell_type": "code",
   "execution_count": 54,
   "metadata": {},
   "outputs": [],
   "source": [
    "# getting user id at index 20\n",
    "user_id = unique_users_subset[20]"
   ]
  },
  {
   "cell_type": "code",
   "execution_count": 55,
   "metadata": {},
   "outputs": [
    {
     "data": {
      "text/html": [
       "<div>\n",
       "<style scoped>\n",
       "    .dataframe tbody tr th:only-of-type {\n",
       "        vertical-align: middle;\n",
       "    }\n",
       "\n",
       "    .dataframe tbody tr th {\n",
       "        vertical-align: top;\n",
       "    }\n",
       "\n",
       "    .dataframe thead th {\n",
       "        text-align: right;\n",
       "    }\n",
       "</style>\n",
       "<table border=\"1\" class=\"dataframe\">\n",
       "  <thead>\n",
       "    <tr style=\"text-align: right;\">\n",
       "      <th></th>\n",
       "      <th>userId</th>\n",
       "      <th>productId</th>\n",
       "      <th>score</th>\n",
       "      <th>Rank</th>\n",
       "    </tr>\n",
       "  </thead>\n",
       "  <tbody>\n",
       "    <tr>\n",
       "      <th>30941</th>\n",
       "      <td>A341HCMGNZCBIT</td>\n",
       "      <td>B0088CJT4U</td>\n",
       "      <td>148</td>\n",
       "      <td>1.0</td>\n",
       "    </tr>\n",
       "    <tr>\n",
       "      <th>19646</th>\n",
       "      <td>A341HCMGNZCBIT</td>\n",
       "      <td>B003ES5ZUU</td>\n",
       "      <td>124</td>\n",
       "      <td>2.0</td>\n",
       "    </tr>\n",
       "    <tr>\n",
       "      <th>30384</th>\n",
       "      <td>A341HCMGNZCBIT</td>\n",
       "      <td>B007WTAJTO</td>\n",
       "      <td>111</td>\n",
       "      <td>3.0</td>\n",
       "    </tr>\n",
       "    <tr>\n",
       "      <th>8722</th>\n",
       "      <td>A341HCMGNZCBIT</td>\n",
       "      <td>B000N99BBC</td>\n",
       "      <td>110</td>\n",
       "      <td>4.0</td>\n",
       "    </tr>\n",
       "    <tr>\n",
       "      <th>31215</th>\n",
       "      <td>A341HCMGNZCBIT</td>\n",
       "      <td>B008DWCRQW</td>\n",
       "      <td>102</td>\n",
       "      <td>5.0</td>\n",
       "    </tr>\n",
       "  </tbody>\n",
       "</table>\n",
       "</div>"
      ],
      "text/plain": [
       "               userId   productId  score  Rank\n",
       "30941  A341HCMGNZCBIT  B0088CJT4U    148   1.0\n",
       "19646  A341HCMGNZCBIT  B003ES5ZUU    124   2.0\n",
       "30384  A341HCMGNZCBIT  B007WTAJTO    111   3.0\n",
       "8722   A341HCMGNZCBIT  B000N99BBC    110   4.0\n",
       "31215  A341HCMGNZCBIT  B008DWCRQW    102   5.0"
      ]
     },
     "execution_count": 55,
     "metadata": {},
     "output_type": "execute_result"
    }
   ],
   "source": [
    "# recmmending products for the above declared user\n",
    "popularity_model.recommend(user_id)"
   ]
  },
  {
   "cell_type": "code",
   "execution_count": null,
   "metadata": {},
   "outputs": [],
   "source": []
  },
  {
   "cell_type": "markdown",
   "metadata": {},
   "source": [
    "### Getting top 5 Recommendations using Collaborative Filtering model recommendations system"
   ]
  },
  {
   "cell_type": "code",
   "execution_count": 56,
   "metadata": {},
   "outputs": [],
   "source": [
    "predictions = algo.test(testset)"
   ]
  },
  {
   "cell_type": "code",
   "execution_count": 57,
   "metadata": {},
   "outputs": [],
   "source": [
    "predictions_df = pd.DataFrame([[x.uid,x.iid, x.est] for x in predictions])"
   ]
  },
  {
   "cell_type": "code",
   "execution_count": 58,
   "metadata": {},
   "outputs": [],
   "source": [
    "predictions_df.columns = [\"userId\",\"productId\",\"est_rating\"]\n",
    "predictions_df_sorted = predictions_df.sort_values(by = [\"userId\", \"est_rating\"],ascending=False)"
   ]
  },
  {
   "cell_type": "code",
   "execution_count": 59,
   "metadata": {},
   "outputs": [
    {
     "data": {
      "text/html": [
       "<div>\n",
       "<style scoped>\n",
       "    .dataframe tbody tr th:only-of-type {\n",
       "        vertical-align: middle;\n",
       "    }\n",
       "\n",
       "    .dataframe tbody tr th {\n",
       "        vertical-align: top;\n",
       "    }\n",
       "\n",
       "    .dataframe thead th {\n",
       "        text-align: right;\n",
       "    }\n",
       "</style>\n",
       "<table border=\"1\" class=\"dataframe\">\n",
       "  <thead>\n",
       "    <tr style=\"text-align: right;\">\n",
       "      <th></th>\n",
       "      <th>userId</th>\n",
       "      <th>productId</th>\n",
       "      <th>est_rating</th>\n",
       "    </tr>\n",
       "  </thead>\n",
       "  <tbody>\n",
       "    <tr>\n",
       "      <th>15893</th>\n",
       "      <td>A100WO06OQR8BQ</td>\n",
       "      <td>B001NLV4TQ</td>\n",
       "      <td>4.415349</td>\n",
       "    </tr>\n",
       "    <tr>\n",
       "      <th>5585</th>\n",
       "      <td>A100WO06OQR8BQ</td>\n",
       "      <td>B0002L5R78</td>\n",
       "      <td>4.385587</td>\n",
       "    </tr>\n",
       "    <tr>\n",
       "      <th>22572</th>\n",
       "      <td>A100WO06OQR8BQ</td>\n",
       "      <td>B00DR0C96S</td>\n",
       "      <td>4.377409</td>\n",
       "    </tr>\n",
       "    <tr>\n",
       "      <th>71</th>\n",
       "      <td>A100WO06OQR8BQ</td>\n",
       "      <td>B00004TDRH</td>\n",
       "      <td>4.264434</td>\n",
       "    </tr>\n",
       "    <tr>\n",
       "      <th>3180</th>\n",
       "      <td>A100WO06OQR8BQ</td>\n",
       "      <td>B00186URQC</td>\n",
       "      <td>4.264434</td>\n",
       "    </tr>\n",
       "  </tbody>\n",
       "</table>\n",
       "</div>"
      ],
      "text/plain": [
       "               userId   productId  est_rating\n",
       "15893  A100WO06OQR8BQ  B001NLV4TQ    4.415349\n",
       "5585   A100WO06OQR8BQ  B0002L5R78    4.385587\n",
       "22572  A100WO06OQR8BQ  B00DR0C96S    4.377409\n",
       "71     A100WO06OQR8BQ  B00004TDRH    4.264434\n",
       "3180   A100WO06OQR8BQ  B00186URQC    4.264434"
      ]
     },
     "execution_count": 59,
     "metadata": {},
     "output_type": "execute_result"
    }
   ],
   "source": [
    "# get top 5 recommendations for user 'A100WO06OQR8BQ'\n",
    "predictions_df_sorted.loc[predictions_df_sorted['userId'] == 'A100WO06OQR8BQ'].head(5)"
   ]
  },
  {
   "cell_type": "markdown",
   "metadata": {},
   "source": [
    "# Observations"
   ]
  },
  {
   "cell_type": "markdown",
   "metadata": {},
   "source": [
    "### We are recommending most bought products in a popularity based recommended system for any new user, which also has a problem i.e. it is not a customized recommendation the particular user"
   ]
  },
  {
   "cell_type": "markdown",
   "metadata": {},
   "source": [
    "### The user based collaborative fitering recommender system identifies users that are similar to the queried user and estimate the desired rating to be the weighted average of the ratings of these similar users. i.e. we need to find the neighbours of th e user"
   ]
  },
  {
   "cell_type": "markdown",
   "metadata": {},
   "source": [
    "### as we see lot of predictions are impossible, means we dont have proper information for some the items/user i.e. there is high sparsity of information"
   ]
  },
  {
   "cell_type": "markdown",
   "metadata": {},
   "source": [
    "### I am uing clustering based algorithm KNN to find out the similarity between users"
   ]
  },
  {
   "cell_type": "code",
   "execution_count": null,
   "metadata": {},
   "outputs": [],
   "source": []
  }
 ],
 "metadata": {
  "kernelspec": {
   "display_name": "Python 3",
   "language": "python",
   "name": "python3"
  },
  "language_info": {
   "codemirror_mode": {
    "name": "ipython",
    "version": 3
   },
   "file_extension": ".py",
   "mimetype": "text/x-python",
   "name": "python",
   "nbconvert_exporter": "python",
   "pygments_lexer": "ipython3",
   "version": "3.6.5"
  }
 },
 "nbformat": 4,
 "nbformat_minor": 2
}
